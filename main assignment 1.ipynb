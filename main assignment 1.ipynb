{
  "nbformat": 4,
  "nbformat_minor": 0,
  "metadata": {
    "colab": {
      "provenance": []
    },
    "kernelspec": {
      "name": "python3",
      "display_name": "Python 3"
    },
    "language_info": {
      "name": "python"
    }
  },
  "cells": [
    {
      "cell_type": "markdown",
      "source": [
        "#1. 1. In the below elements which of them are values or an expression? eg:- values can be\n",
        "integer or string and expressions will be mathematical operators.\n",
        "*\n",
        "\"hello\"\n",
        "-87.8\n",
        "-\n",
        "/\n",
        "+\n",
        "1. \"*\" is a mathematical operator used for multiplication\n",
        "2. \"hello is a string\n",
        "3. -87.8 is a float\n",
        "4. \"-\" is an operator used for subtraction (mathematical)\n",
        "5. \"/\" mathematical operator used for divivsion\n",
        "6. \"+\" mathematical operator used for addition "
      ],
      "metadata": {
        "id": "KwUNw7uZ_Obf"
      }
    },
    {
      "cell_type": "markdown",
      "source": [
        "#2. What is the difference between string and variable?\n",
        "A Variable is a store of information, and a String is a type of information you would store in a Variable\n",
        "for eg. a = \"hello\"\n",
        "so here \"a\" is the variable whereas \"hello\" is the string"
      ],
      "metadata": {
        "id": "X_7NshlbCHAj"
      }
    },
    {
      "cell_type": "markdown",
      "source": [
        "#3.3. Describe three different data types.\n",
        "the three types of data types in python are as follows \n",
        "1. numeric - numeric data types are the one which contains numeric values in form of 1,2,3,4,5...... can be integer, float, complex number\n",
        "2. sequence type - sequence data type is the one in which the data is in the form of string, list and tuple  \n",
        "3. boolean - Data type with one of the two built-in values, True or False. Boolean objects that are equal to True , and those equal to False\". But non-Boolean objects can be evaluated in Boolean context as well and determined to be true or false. It is denoted by the class bool. \n"
      ],
      "metadata": {
        "id": "-_owhrtRFOE8"
      }
    },
    {
      "cell_type": "markdown",
      "source": [
        "#4. What is an expression made up of? What do all expressions do?\n",
        "An expression is a combination of operators and operands that is interpreted to produce some other value. In any programming language, an expression is evaluated as per the precedence of its operators.. expression helps in forming up the code and solving our problem"
      ],
      "metadata": {
        "id": "LvgkA1LgQohn"
      }
    },
    {
      "cell_type": "markdown",
      "source": [
        "#5.This assignment statements, like spam = 10. What is the difference between an expression and a statement?\n",
        "A statement is an instruction that the Python interpreter can execute. We have seen two kinds of statements: print and assignment.\n",
        "\n",
        "When you type a statement on the command line, Python executes it and displays the result, if there is one. The result of a print statement is a value.\n",
        " an “expression” is a combination of values and functions that are combined and interpreted by the compiler to create a new value, as opposed to a “statement” which is just a standalone unit of execution and doesn’t return anything\n",
        "1. here the statement spam = 10 here spam has an assigned value of 10\n",
        "\n",
        "\n",
        "\n"
      ],
      "metadata": {
        "id": "ejZ-q6L4ReL4"
      }
    },
    {
      "cell_type": "markdown",
      "source": [
        "#6.After running the following code, what does the variable bacon contain?\n",
        "1. bacon = 22\n",
        "2. bacon + 1"
      ],
      "metadata": {
        "id": "Iu2f5VCYWzgy"
      }
    },
    {
      "cell_type": "code",
      "source": [
        "bacon = 22\n",
        "bacon + 1"
      ],
      "metadata": {
        "colab": {
          "base_uri": "https://localhost:8080/"
        },
        "id": "LgLqrfLYQjrf",
        "outputId": "e776af29-88db-498b-b36b-92f1e1fc7b53"
      },
      "execution_count": 6,
      "outputs": [
        {
          "output_type": "execute_result",
          "data": {
            "text/plain": [
              "23"
            ]
          },
          "metadata": {},
          "execution_count": 6
        }
      ]
    },
    {
      "cell_type": "markdown",
      "source": [
        "#the variable bacon contains the assigned value of 22 when we run the bacon + 1 the compiler reads the assigned value of the bacon that is 22 and adds 1 in it to get the output 23"
      ],
      "metadata": {
        "id": "WLrRyycwXEot"
      }
    },
    {
      "cell_type": "markdown",
      "source": [
        "#7.What should the values of the following two terms be?\n",
        "1. spam + spamspam\n",
        "2. spam*3\n",
        " "
      ],
      "metadata": {
        "id": "S5b2aVIAXf3f"
      }
    },
    {
      "cell_type": "code",
      "source": [
        "\"spam\" + \"spamspam\""
      ],
      "metadata": {
        "colab": {
          "base_uri": "https://localhost:8080/",
          "height": 35
        },
        "id": "XIcghAV-FFSl",
        "outputId": "9de53d8e-7113-4810-df75-bf1a29416063"
      },
      "execution_count": 3,
      "outputs": [
        {
          "output_type": "execute_result",
          "data": {
            "text/plain": [
              "'spamspamspam'"
            ],
            "application/vnd.google.colaboratory.intrinsic+json": {
              "type": "string"
            }
          },
          "metadata": {},
          "execution_count": 3
        }
      ]
    },
    {
      "cell_type": "code",
      "source": [
        "\"spam\" *3"
      ],
      "metadata": {
        "colab": {
          "base_uri": "https://localhost:8080/",
          "height": 35
        },
        "id": "LP7aDJo6YvcZ",
        "outputId": "59aa2280-41d3-4ef5-cbca-0322d5fd7d76"
      },
      "execution_count": 6,
      "outputs": [
        {
          "output_type": "execute_result",
          "data": {
            "text/plain": [
              "'spamspamspam'"
            ],
            "application/vnd.google.colaboratory.intrinsic+json": {
              "type": "string"
            }
          },
          "metadata": {},
          "execution_count": 6
        }
      ]
    },
    {
      "cell_type": "markdown",
      "source": [
        "#8. Why is eggs a valid variable name while 100 is invalid?\n",
        "egg is valid variable as we can assign any value it but 100 being in integer form it self we cant assign it to any  value because its a value in its own self \n"
      ],
      "metadata": {
        "id": "EP0JTSTrY58m"
      }
    },
    {
      "cell_type": "code",
      "source": [
        "#for eg\n",
        "egg = 200\n",
        "100 = vlaue"
      ],
      "metadata": {
        "colab": {
          "base_uri": "https://localhost:8080/",
          "height": 130
        },
        "id": "RTuXiFZocgT8",
        "outputId": "fc2be0e2-85a8-4e77-b0cb-c996a1bbf8e2"
      },
      "execution_count": 15,
      "outputs": [
        {
          "output_type": "error",
          "ename": "SyntaxError",
          "evalue": "ignored",
          "traceback": [
            "\u001b[0;36m  File \u001b[0;32m\"<ipython-input-15-0346a1ec6073>\"\u001b[0;36m, line \u001b[0;32m3\u001b[0m\n\u001b[0;31m    100 = vlaue\u001b[0m\n\u001b[0m               ^\u001b[0m\n\u001b[0;31mSyntaxError\u001b[0m\u001b[0;31m:\u001b[0m can't assign to literal\n"
          ]
        }
      ]
    },
    {
      "cell_type": "markdown",
      "source": [],
      "metadata": {
        "id": "5bO2Sc5rctuv"
      }
    },
    {
      "cell_type": "markdown",
      "source": [
        "#9. What three functions can be used to get the integer, floating-point number, or string version of a value?\n",
        "the three functions that can be used to get  the integer, floating-point number, or string version of a value\n",
        "1. integer = int\n",
        "2. floating point = float\n",
        "3. string = str "
      ],
      "metadata": {
        "id": "OQN4MJYXFvuo"
      }
    },
    {
      "cell_type": "markdown",
      "source": [
        "#10. Why does this expression cause an error? How can you fix it?\n",
        "\"i have eaten\" +99+ \"burritos\n",
        ".it shows an erroe because strings and integers cannot be displayed along one another"
      ],
      "metadata": {
        "id": "UskDmjfIGYGV"
      }
    },
    {
      "cell_type": "code",
      "source": [
        "\"i have eaten\"+99+\"burritos\""
      ],
      "metadata": {
        "colab": {
          "base_uri": "https://localhost:8080/",
          "height": 165
        },
        "id": "YfojoIAkcpVO",
        "outputId": "a4a24496-451b-442a-8ef3-08dccda4c2a6"
      },
      "execution_count": 19,
      "outputs": [
        {
          "output_type": "error",
          "ename": "TypeError",
          "evalue": "ignored",
          "traceback": [
            "\u001b[0;31m---------------------------------------------------------------------------\u001b[0m",
            "\u001b[0;31mTypeError\u001b[0m                                 Traceback (most recent call last)",
            "\u001b[0;32m<ipython-input-19-97739ad46c1c>\u001b[0m in \u001b[0;36m<module>\u001b[0;34m\u001b[0m\n\u001b[0;32m----> 1\u001b[0;31m \u001b[0;34m\"i have eaten\"\u001b[0m\u001b[0;34m+\u001b[0m\u001b[0;36m99\u001b[0m\u001b[0;34m+\u001b[0m\u001b[0;34m\"burritos\"\u001b[0m\u001b[0;34m\u001b[0m\u001b[0;34m\u001b[0m\u001b[0m\n\u001b[0m",
            "\u001b[0;31mTypeError\u001b[0m: can only concatenate str (not \"int\") to str"
          ]
        }
      ]
    },
    {
      "cell_type": "code",
      "source": [
        "\"i have eaten\" + str(99) + \"burritos\""
      ],
      "metadata": {
        "colab": {
          "base_uri": "https://localhost:8080/",
          "height": 35
        },
        "id": "_Npy59O4GtJY",
        "outputId": "f7cf8f32-327c-41e9-da67-53f238925f8b"
      },
      "execution_count": 22,
      "outputs": [
        {
          "output_type": "execute_result",
          "data": {
            "text/plain": [
              "'i have eaten99burritos'"
            ],
            "application/vnd.google.colaboratory.intrinsic+json": {
              "type": "string"
            }
          },
          "metadata": {},
          "execution_count": 22
        }
      ]
    },
    {
      "cell_type": "code",
      "source": [],
      "metadata": {
        "id": "pqofHtneG6AP"
      },
      "execution_count": null,
      "outputs": []
    }
  ]
}