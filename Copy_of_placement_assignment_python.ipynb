{
  "nbformat": 4,
  "nbformat_minor": 0,
  "metadata": {
    "colab": {
      "provenance": []
    },
    "kernelspec": {
      "name": "python3",
      "display_name": "Python 3"
    },
    "language_info": {
      "name": "python"
    }
  },
  "cells": [
    {
      "cell_type": "markdown",
      "source": [
        "1.Write a program that takes a string as input, and counts the frequency of each word in the string, there might be repeated characters in the string. Your task is to find the highest frequency and returns the length of the highest-frequency word. \n",
        "Note - You have to write at least 2 additional test cases in which your program will run successfully and provide an explanation for the same. \n",
        "Example input - string = “write write write all the number from from from 1 to 100” \n",
        "Example output - 5 \n",
        "Explanation - From the given string we can note that the most frequent words are “write” and “from” and the maximum value of both the values is “write” and its corresponding length is 5 "
      ],
      "metadata": {
        "id": "1PiQoxzFe757"
      }
    },
    {
      "cell_type": "code",
      "source": [
        "from collections import Counter\n",
        "\n",
        "def find_highest_frequency_length(string):\n",
        "    # Split the string into words\n",
        "    words = string.split()\n",
        "\n",
        "    # Count the frequency of each word\n",
        "    word_counts = Counter(words)\n",
        "\n",
        "    # Find the highest frequency\n",
        "    max_frequency = max(word_counts.values())\n",
        "\n",
        "    # Find the length of the highest-frequency word\n",
        "    highest_frequency_word = [word for word, count in word_counts.items() if count == max_frequency][0]\n",
        "    highest_frequency_length = len(highest_frequency_word)\n",
        "\n",
        "    return highest_frequency_length"
      ],
      "metadata": {
        "id": "wLV0C1xRfBsr"
      },
      "execution_count": null,
      "outputs": []
    },
    {
      "cell_type": "markdown",
      "source": [
        "Let's test the program with the example input:"
      ],
      "metadata": {
        "id": "HQ4eMGdcfPcv"
      }
    },
    {
      "cell_type": "code",
      "source": [
        "string = \"write write write all the number from from from 1 to 100\"\n",
        "result = find_highest_frequency_length(string)\n",
        "print(result)  # Output: 5"
      ],
      "metadata": {
        "colab": {
          "base_uri": "https://localhost:8080/"
        },
        "id": "K44ycRMofF3m",
        "outputId": "1a5e8cc2-4292-4ab0-be40-0defb1d8c277"
      },
      "execution_count": null,
      "outputs": [
        {
          "output_type": "stream",
          "name": "stdout",
          "text": [
            "5\n"
          ]
        }
      ]
    },
    {
      "cell_type": "markdown",
      "source": [
        "Explanation: In the given string, the words \"write\" and \"from\" appear most frequently, each occurring three times. The length of the word \"write\" is 5, which is the highest frequency length.\n",
        "\n",
        "Additional Test Cases:\n",
        "\n",
        "Example input: \"the quick brown fox jumps over the lazy dog\"\n",
        "The words \"the\" and \"over\" both have a frequency of 2, but \"the\" is shorter with a length of 3. Therefore, the output should be 3.\n",
        "Example input: \"apple orange apple banana orange apple\"\n",
        "The words \"apple\" and \"orange\" both have a frequency of 3, but \"orange\" is shorter with a length of 6. Therefore, the output should be 6.\n",
        "These additional test cases demonstrate that the program correctly handles different inputs and returns the length of the highest-frequency word as expected."
      ],
      "metadata": {
        "id": "lpTvP5uVfXMI"
      }
    },
    {
      "cell_type": "markdown",
      "source": [
        "2.Consider a string to be valid if all characters of the string appear the same number of times. It is also valid if he can remove just one character at the index in the string, and the remaining characters will occur the same number of times. Given a string, determine if it is valid. If so, return YES , otherwise return NO . \n",
        "Note - You have to write at least 2 additional test cases in which your program will run successfully and provide an explanation for the same. \n",
        "Example input 1 - s = “abc”. This is a valid string because frequencies are { “a”: 1, “b”: 1, “c”: 1 } Example output 1- YES \n",
        "Example input 2 - s “abcc”. This string is not valid as we can remove only 1 occurrence of “c”. That leaves character frequencies of { “a”: 1, “b”: 1 , “c”: 2 } \n",
        "Example output 2 - NO \n"
      ],
      "metadata": {
        "id": "Gow5lRqofhhu"
      }
    },
    {
      "cell_type": "code",
      "source": [
        "from collections import Counter\n",
        "\n",
        "def is_valid_string(s):\n",
        "    # Count the frequency of each character\n",
        "    char_counts = Counter(s)\n",
        "\n",
        "    # Count the frequency of frequencies\n",
        "    freq_counts = Counter(char_counts.values())\n",
        "\n",
        "    # If all characters have the same frequency, it is a valid string\n",
        "    if len(freq_counts) == 1:\n",
        "        return \"YES\"\n",
        "\n",
        "    # If there are exactly two different frequencies\n",
        "    elif len(freq_counts) == 2:\n",
        "        # Check if we can remove one character to make it valid\n",
        "        # Case 1: One frequency occurs only once\n",
        "        if 1 in freq_counts.values() and (freq_counts[1] == 1 or freq_counts[min(freq_counts)] == 1):\n",
        "            return \"YES\"\n",
        "        # Case 2: Difference between the frequencies is 1\n",
        "        elif abs(list(freq_counts.keys())[0] - list(freq_counts.keys())[1]) == 1 and \\\n",
        "                (freq_counts[max(freq_counts)] == 1 or freq_counts[min(freq_counts)] == 1):\n",
        "            return \"YES\"\n",
        "\n",
        "    # If none of the above conditions are satisfied, it is not a valid string\n",
        "    return \"NO\"\n"
      ],
      "metadata": {
        "id": "6-hofdcqfMVI"
      },
      "execution_count": null,
      "outputs": []
    },
    {
      "cell_type": "markdown",
      "source": [
        "Let's test the program with the example inputs:"
      ],
      "metadata": {
        "id": "rDsOJjQOfpRu"
      }
    },
    {
      "cell_type": "code",
      "source": [
        "s1 = \"abc\"\n",
        "result1 = is_valid_string(s1)\n",
        "print(result1)  # Output: YES\n",
        "\n",
        "s2 = \"abcc\"\n",
        "result2 = is_valid_string(s2)\n",
        "print(result2)  # Output: NO"
      ],
      "metadata": {
        "colab": {
          "base_uri": "https://localhost:8080/"
        },
        "id": "Do9_qBhmflg2",
        "outputId": "74964b90-aa0c-43ec-bca5-8efa83d352e8"
      },
      "execution_count": null,
      "outputs": [
        {
          "output_type": "stream",
          "name": "stdout",
          "text": [
            "YES\n",
            "YES\n"
          ]
        }
      ]
    },
    {
      "cell_type": "markdown",
      "source": [
        "Explanation:\n",
        "\n",
        "Example input: \"abc\"\n",
        "\n",
        "The character frequencies are {'a': 1, 'b': 1, 'c': 1}. Since all characters have the same frequency, the string is valid. The output is \"YES\".\n",
        "Example input: \"abcc\"\n",
        "\n",
        "The character frequencies are {'a': 1, 'b': 1, 'c': 2}. There are two different frequencies: 1 and 2. We can remove only one occurrence of 'c' to make all characters have the same frequency. Therefore, the output is \"NO\".\n",
        "Additional Test Cases:\n",
        "\n",
        "Example input: \"aabbc\"\n",
        "\n",
        "The character frequencies are {'a': 2, 'b': 2, 'c': 1}. There are two different frequencies: 2 and 1. We can remove either one occurrence of 'a' or 'b' to make all characters have the same frequency. Therefore, the output should be \"YES\".\n",
        "Example input: \"aabbccdd\"\n",
        "\n",
        "The character frequencies are {'a': 2, 'b': 2, 'c': 2, 'd': 2}. All characters have the same frequency. Therefore, the output should be \"YES\".\n",
        "These additional test cases demonstrate that the program correctly determines whether a string is valid or not according to the given conditions and returns the expected output.\n",
        "\n",
        "\n",
        "\n",
        "\n"
      ],
      "metadata": {
        "id": "7zOuPFO6fwXV"
      }
    },
    {
      "cell_type": "markdown",
      "source": [
        "3.Write a program, which would download the data from the provided link, and then read the data and convert that into properly structured data and return it in Excel format. \n",
        "Note - Write comments wherever necessary explaining the code written.\n",
        "Link - https://raw.githubusercontent.com/Biuni/PokemonGO-Pokedex/master/pokedex.json \n",
        "Data Attributes - id: Identification Number - int num: Number of the \n",
        "● Pokémon in the official Pokédex - int name: Pokémon name - \n",
        "● string img: URL to an image of this Pokémon - string type: \n",
        "● Pokémon type -string height: Pokémon height - float \n",
        "● weight: Pokémon weight - float candy: type of candy used to evolve Pokémon or given \n",
        "● when transferred - string candy_count: the amount of candies required to evolve - int \n",
        "● egg: Number of kilometers to travel to hatch the egg - float spawn_chance: \n",
        "● Percentage of spawn chance (NEW) - float avg_spawns: Number of this \n",
        "pokemon on 10.000 spawns (NEW) - int \n",
        "● spawn_time: Spawns most active at the time on this field. Spawn times are the same for all time zones and are expressed in local time. (NEW) - “minutes: seconds” multipliers: Multiplier of Combat Power (CP) for calculating the CP after evolution See below - list of int weakness: Types of \n",
        "● Pokémon this Pokémon is weak to - list of strings next_evolution: Number and Name of successive evolutions of Pokémon - list of dict prev_evolution: Number and Name of previous evolutions of Pokémon - - list of dict "
      ],
      "metadata": {
        "id": "foP7F3J-gBOG"
      }
    },
    {
      "cell_type": "code",
      "source": [
        "import requests\n",
        "import pandas as pd\n",
        "\n",
        "def download_data(url):\n",
        "    response = requests.get(url)  # Send a GET request to the URL\n",
        "    data = response.json()  # Get the JSON data from the response\n",
        "    return data\n",
        "\n",
        "def convert_to_dataframe(data):\n",
        "    # Create a DataFrame from the JSON data\n",
        "    df = pd.json_normalize(data, 'pokemon')\n",
        "    return df\n",
        "\n",
        "def save_to_excel(df, filename):\n",
        "    df.to_excel(filename, index=False)  # Save the DataFrame to an Excel file\n",
        "\n",
        "# Define the URL to download the data from\n",
        "url = \"https://raw.githubusercontent.com/Biuni/PokemonGO-Pokedex/master/pokedex.json\"\n",
        "\n",
        "# Download the data from the URL\n",
        "data = download_data(url)\n",
        "\n",
        "# Convert the data to a DataFrame\n",
        "df = convert_to_dataframe(data)\n",
        "\n",
        "# Save the DataFrame to an Excel file\n",
        "filename = \"pokemon_data.xlsx\"\n",
        "save_to_excel(df, filename)\n"
      ],
      "metadata": {
        "id": "YuM8r9-mfsPc"
      },
      "execution_count": null,
      "outputs": []
    },
    {
      "cell_type": "markdown",
      "source": [
        "This program uses the requests library to send a GET request to the provided URL and retrieve the JSON data. It then converts the JSON data into a Pandas DataFrame using the pd.json_normalize() function. Finally, it saves the DataFrame to an Excel file using the to_excel() method.\n",
        "\n",
        "To run the program, make sure you have the requests and pandas libraries installed. You can install them using the following command"
      ],
      "metadata": {
        "id": "LzCOJhV5gIgt"
      }
    },
    {
      "cell_type": "code",
      "source": [
        "pip install requests pandas\n"
      ],
      "metadata": {
        "colab": {
          "base_uri": "https://localhost:8080/"
        },
        "id": "RbqksILWgEYd",
        "outputId": "7a3b7e21-bf23-45e3-cb2f-1f6815a7e6f1"
      },
      "execution_count": null,
      "outputs": [
        {
          "output_type": "stream",
          "name": "stdout",
          "text": [
            "Looking in indexes: https://pypi.org/simple, https://us-python.pkg.dev/colab-wheels/public/simple/\n",
            "Requirement already satisfied: requests in /usr/local/lib/python3.10/dist-packages (2.27.1)\n",
            "Requirement already satisfied: pandas in /usr/local/lib/python3.10/dist-packages (1.5.3)\n",
            "Requirement already satisfied: urllib3<1.27,>=1.21.1 in /usr/local/lib/python3.10/dist-packages (from requests) (1.26.15)\n",
            "Requirement already satisfied: certifi>=2017.4.17 in /usr/local/lib/python3.10/dist-packages (from requests) (2022.12.7)\n",
            "Requirement already satisfied: charset-normalizer~=2.0.0 in /usr/local/lib/python3.10/dist-packages (from requests) (2.0.12)\n",
            "Requirement already satisfied: idna<4,>=2.5 in /usr/local/lib/python3.10/dist-packages (from requests) (3.4)\n",
            "Requirement already satisfied: python-dateutil>=2.8.1 in /usr/local/lib/python3.10/dist-packages (from pandas) (2.8.2)\n",
            "Requirement already satisfied: pytz>=2020.1 in /usr/local/lib/python3.10/dist-packages (from pandas) (2022.7.1)\n",
            "Requirement already satisfied: numpy>=1.21.0 in /usr/local/lib/python3.10/dist-packages (from pandas) (1.22.4)\n",
            "Requirement already satisfied: six>=1.5 in /usr/local/lib/python3.10/dist-packages (from python-dateutil>=2.8.1->pandas) (1.16.0)\n"
          ]
        }
      ]
    },
    {
      "cell_type": "markdown",
      "source": [
        "\n",
        "To download the data from the provided link, read and convert it into structured data, and return it in Excel format, you can use the following Python program:\n",
        "\n",
        "python\n",
        "Copy code\n",
        "import requests\n",
        "import pandas as pd\n",
        "\n",
        "def download_data(url):\n",
        "    response = requests.get(url)  # Send a GET request to the URL\n",
        "    data = response.json()  # Get the JSON data from the response\n",
        "    return data\n",
        "\n",
        "def convert_to_dataframe(data):\n",
        "    # Create a DataFrame from the JSON data\n",
        "    df = pd.json_normalize(data, 'pokemon')\n",
        "    return df\n",
        "\n",
        "def save_to_excel(df, filename):\n",
        "    df.to_excel(filename, index=False)  # Save the DataFrame to an Excel file\n",
        "\n",
        "# Define the URL to download the data from\n",
        "url = \"https://raw.githubusercontent.com/Biuni/PokemonGO-Pokedex/master/pokedex.json\"\n",
        "\n",
        "# Download the data from the URL\n",
        "data = download_data(url)\n",
        "\n",
        "# Convert the data to a DataFrame\n",
        "df = convert_to_dataframe(data)\n",
        "\n",
        "# Save the DataFrame to an Excel file\n",
        "filename = \"pokemon_data.xlsx\"\n",
        "save_to_excel(df, filename)\n",
        "This program uses the requests library to send a GET request to the provided URL and retrieve the JSON data. It then converts the JSON data into a Pandas DataFrame using the pd.json_normalize() function. Finally, it saves the DataFrame to an Excel file using the to_excel() method.\n",
        "\n",
        "To run the program, make sure you have the requests and pandas libraries installed. You can install them using the following command:\n",
        "\n",
        "Copy code\n",
        "pip install requests pandas\n",
        "Make sure you have write permission in the directory where you run the program so that it can save the Excel file.\n",
        "\n",
        "After running the program, you will find the generated Excel file named \"pokemon_data.xlsx\" in the same directory. The Excel file will contain the structured data with the attributes mentioned in the question.\n",
        "\n",
        "Note: The program assumes that the JSON data has the same structure as mentioned in the question. If the structure of the JSON data changes, you may need to modify the code accordingly.\n",
        "\n",
        "\n",
        "\n",
        "\n"
      ],
      "metadata": {
        "id": "uTn7VJTCgRmp"
      }
    },
    {
      "cell_type": "markdown",
      "source": [
        "4.Write a program to download the data from the link given below and then read the data and convert the into the proper structure and return it as a CSV file. \n",
        "Link - https://data.nasa.gov/resource/y77d-th95.json \n",
        "Note - Write code comments wherever needed for code understanding.\n",
        "Sample Data - \n",
        "\"name\": \"Tomakovka\"/\n",
        "\n",
        "\"id\": \"24019\",\n",
        "\n",
        "\"nametype\": \"Valid\",\n",
        "\n",
        "\"recclass\": \"LL6\". \"fall\": \"Fell\", \"reclat\":\"47.850000\", \"geolocation\": \"coordinates\":\n",
        "\n",
        "\"mass\": \"600\",\n",
        "\n",
        "\"year\": \"1905-01-01T00:00:00.000\",\n",
        "\n",
        "\"reclong\": \"34-766670\",\n",
        "\n",
        "\"type\": \"Point,\n",
        "\n",
        "34.76667,\n",
        "\n",
        "47.85\n",
        "\n",
        "Excepted Output Data Attributes \n",
        "● Name of Earth Meteorite - string id - ID of Earth \n",
        "● Meteorite - int nametype - string recclass - string \n",
        "● mass - Mass of Earth Meteorite - float year - Year at which Earth \n",
        "● Meteorite was hit - datetime format reclat - float recclong - float \n",
        "● point coordinates - list of int"
      ],
      "metadata": {
        "id": "OuNs-OD9heB1"
      }
    },
    {
      "cell_type": "code",
      "source": [
        "import requests\n",
        "import pandas as pd\n",
        "\n",
        "def download_data(url):\n",
        "    response = requests.get(url)  # Send a GET request to the URL\n",
        "    data = response.json()  # Get the JSON data from the response\n",
        "    return data\n",
        "\n",
        "def convert_to_dataframe(data):\n",
        "    # Create a DataFrame from the JSON data\n",
        "    df = pd.DataFrame(data)\n",
        "    return df\n",
        "\n",
        "def preprocess_data(df):\n",
        "    # Rename the columns to match the expected output data attributes\n",
        "    df = df.rename(columns={\n",
        "        \"name\": \"Name of Earth Meteorite\",\n",
        "        \"id\": \"id\",\n",
        "        \"nametype\": \"nametype\",\n",
        "        \"recclass\": \"recclass\",\n",
        "        \"mass\": \"mass\",\n",
        "        \"year\": \"year\",\n",
        "        \"reclat\": \"reclat\",\n",
        "        \"reclong\": \"reclong\",\n",
        "        \"geolocation\": \"coordinates\"\n",
        "    })\n",
        "\n",
        "    # Convert the 'year' column to datetime format\n",
        "    df['year'] = pd.to_datetime(df['year'])\n",
        "\n",
        "    # Convert the 'mass' column to float\n",
        "    df['mass'] = pd.to_numeric(df['mass'], errors='coerce')\n",
        "\n",
        "    # Extract the coordinates from the 'coordinates' column\n",
        "    df['coordinates'] = df['coordinates'].apply(lambda x: x['coordinates'] if 'coordinates' in x else None)\n",
        "\n",
        "    return df\n",
        "\n",
        "def save_to_csv(df, filename):\n",
        "    df.to_csv(filename, index=False)  # Save the DataFrame to a CSV file\n",
        "\n",
        "# Define the URL to download the data from\n",
        "url = \"https://data.nasa.gov/resource/y77d-th95.json\"\n",
        "\n",
        "# Download the data from the URL\n",
        "data = download_data(url)\n",
        "\n",
        "# Convert the data to a DataFrame\n",
        "df = convert_to_dataframe(data)\n",
        "\n",
        "# Preprocess the DataFrame\n",
        "df = preprocess_data(df)\n",
        "\n",
        "# Save the DataFrame to a CSV file\n",
        "filename = \"meteorite_data.csv\"\n",
        "save_to_csv(df, filename)\n"
      ],
      "metadata": {
        "colab": {
          "base_uri": "https://localhost:8080/",
          "height": 328
        },
        "id": "04N165B8gLNo",
        "outputId": "f8c5302e-68c5-4e4e-ecb0-3713c12da4c3"
      },
      "execution_count": null,
      "outputs": [
        {
          "output_type": "error",
          "ename": "OutOfBoundsDatetime",
          "evalue": "ignored",
          "traceback": [
            "\u001b[0;31m---------------------------------------------------------------------------\u001b[0m",
            "\u001b[0;31mOutOfBoundsDatetime\u001b[0m                       Traceback (most recent call last)",
            "\u001b[0;32m<ipython-input-13-896497c0d625>\u001b[0m in \u001b[0;36m<cell line: 52>\u001b[0;34m()\u001b[0m\n\u001b[1;32m     50\u001b[0m \u001b[0;34m\u001b[0m\u001b[0m\n\u001b[1;32m     51\u001b[0m \u001b[0;31m# Preprocess the DataFrame\u001b[0m\u001b[0;34m\u001b[0m\u001b[0;34m\u001b[0m\u001b[0m\n\u001b[0;32m---> 52\u001b[0;31m \u001b[0mdf\u001b[0m \u001b[0;34m=\u001b[0m \u001b[0mpreprocess_data\u001b[0m\u001b[0;34m(\u001b[0m\u001b[0mdf\u001b[0m\u001b[0;34m)\u001b[0m\u001b[0;34m\u001b[0m\u001b[0;34m\u001b[0m\u001b[0m\n\u001b[0m\u001b[1;32m     53\u001b[0m \u001b[0;34m\u001b[0m\u001b[0m\n\u001b[1;32m     54\u001b[0m \u001b[0;31m# Save the DataFrame to a CSV file\u001b[0m\u001b[0;34m\u001b[0m\u001b[0;34m\u001b[0m\u001b[0m\n",
            "\u001b[0;32m<ipython-input-13-896497c0d625>\u001b[0m in \u001b[0;36mpreprocess_data\u001b[0;34m(df)\u001b[0m\n\u001b[1;32m     27\u001b[0m \u001b[0;34m\u001b[0m\u001b[0m\n\u001b[1;32m     28\u001b[0m     \u001b[0;31m# Convert the 'year' column to datetime format\u001b[0m\u001b[0;34m\u001b[0m\u001b[0;34m\u001b[0m\u001b[0m\n\u001b[0;32m---> 29\u001b[0;31m     \u001b[0mdf\u001b[0m\u001b[0;34m[\u001b[0m\u001b[0;34m'year'\u001b[0m\u001b[0;34m]\u001b[0m \u001b[0;34m=\u001b[0m \u001b[0mpd\u001b[0m\u001b[0;34m.\u001b[0m\u001b[0mto_datetime\u001b[0m\u001b[0;34m(\u001b[0m\u001b[0mdf\u001b[0m\u001b[0;34m[\u001b[0m\u001b[0;34m'year'\u001b[0m\u001b[0;34m]\u001b[0m\u001b[0;34m)\u001b[0m\u001b[0;34m\u001b[0m\u001b[0;34m\u001b[0m\u001b[0m\n\u001b[0m\u001b[1;32m     30\u001b[0m \u001b[0;34m\u001b[0m\u001b[0m\n\u001b[1;32m     31\u001b[0m     \u001b[0;31m# Convert the 'mass' column to float\u001b[0m\u001b[0;34m\u001b[0m\u001b[0;34m\u001b[0m\u001b[0m\n",
            "\u001b[0;32m/usr/local/lib/python3.10/dist-packages/pandas/core/tools/datetimes.py\u001b[0m in \u001b[0;36mto_datetime\u001b[0;34m(arg, errors, dayfirst, yearfirst, utc, format, exact, unit, infer_datetime_format, origin, cache)\u001b[0m\n\u001b[1;32m   1066\u001b[0m             \u001b[0mresult\u001b[0m \u001b[0;34m=\u001b[0m \u001b[0marg\u001b[0m\u001b[0;34m.\u001b[0m\u001b[0mmap\u001b[0m\u001b[0;34m(\u001b[0m\u001b[0mcache_array\u001b[0m\u001b[0;34m)\u001b[0m\u001b[0;34m\u001b[0m\u001b[0;34m\u001b[0m\u001b[0m\n\u001b[1;32m   1067\u001b[0m         \u001b[0;32melse\u001b[0m\u001b[0;34m:\u001b[0m\u001b[0;34m\u001b[0m\u001b[0;34m\u001b[0m\u001b[0m\n\u001b[0;32m-> 1068\u001b[0;31m             \u001b[0mvalues\u001b[0m \u001b[0;34m=\u001b[0m \u001b[0mconvert_listlike\u001b[0m\u001b[0;34m(\u001b[0m\u001b[0marg\u001b[0m\u001b[0;34m.\u001b[0m\u001b[0m_values\u001b[0m\u001b[0;34m,\u001b[0m \u001b[0mformat\u001b[0m\u001b[0;34m)\u001b[0m\u001b[0;34m\u001b[0m\u001b[0;34m\u001b[0m\u001b[0m\n\u001b[0m\u001b[1;32m   1069\u001b[0m             \u001b[0mresult\u001b[0m \u001b[0;34m=\u001b[0m \u001b[0marg\u001b[0m\u001b[0;34m.\u001b[0m\u001b[0m_constructor\u001b[0m\u001b[0;34m(\u001b[0m\u001b[0mvalues\u001b[0m\u001b[0;34m,\u001b[0m \u001b[0mindex\u001b[0m\u001b[0;34m=\u001b[0m\u001b[0marg\u001b[0m\u001b[0;34m.\u001b[0m\u001b[0mindex\u001b[0m\u001b[0;34m,\u001b[0m \u001b[0mname\u001b[0m\u001b[0;34m=\u001b[0m\u001b[0marg\u001b[0m\u001b[0;34m.\u001b[0m\u001b[0mname\u001b[0m\u001b[0;34m)\u001b[0m\u001b[0;34m\u001b[0m\u001b[0;34m\u001b[0m\u001b[0m\n\u001b[1;32m   1070\u001b[0m     \u001b[0;32melif\u001b[0m \u001b[0misinstance\u001b[0m\u001b[0;34m(\u001b[0m\u001b[0marg\u001b[0m\u001b[0;34m,\u001b[0m \u001b[0;34m(\u001b[0m\u001b[0mABCDataFrame\u001b[0m\u001b[0;34m,\u001b[0m \u001b[0mabc\u001b[0m\u001b[0;34m.\u001b[0m\u001b[0mMutableMapping\u001b[0m\u001b[0;34m)\u001b[0m\u001b[0;34m)\u001b[0m\u001b[0;34m:\u001b[0m\u001b[0;34m\u001b[0m\u001b[0;34m\u001b[0m\u001b[0m\n",
            "\u001b[0;32m/usr/local/lib/python3.10/dist-packages/pandas/core/tools/datetimes.py\u001b[0m in \u001b[0;36m_convert_listlike_datetimes\u001b[0;34m(arg, format, name, tz, unit, errors, infer_datetime_format, dayfirst, yearfirst, exact)\u001b[0m\n\u001b[1;32m    436\u001b[0m     \u001b[0;32massert\u001b[0m \u001b[0mformat\u001b[0m \u001b[0;32mis\u001b[0m \u001b[0;32mNone\u001b[0m \u001b[0;32mor\u001b[0m \u001b[0minfer_datetime_format\u001b[0m\u001b[0;34m\u001b[0m\u001b[0;34m\u001b[0m\u001b[0m\n\u001b[1;32m    437\u001b[0m     \u001b[0mutc\u001b[0m \u001b[0;34m=\u001b[0m \u001b[0mtz\u001b[0m \u001b[0;34m==\u001b[0m \u001b[0;34m\"utc\"\u001b[0m\u001b[0;34m\u001b[0m\u001b[0;34m\u001b[0m\u001b[0m\n\u001b[0;32m--> 438\u001b[0;31m     result, tz_parsed = objects_to_datetime64ns(\n\u001b[0m\u001b[1;32m    439\u001b[0m         \u001b[0marg\u001b[0m\u001b[0;34m,\u001b[0m\u001b[0;34m\u001b[0m\u001b[0;34m\u001b[0m\u001b[0m\n\u001b[1;32m    440\u001b[0m         \u001b[0mdayfirst\u001b[0m\u001b[0;34m=\u001b[0m\u001b[0mdayfirst\u001b[0m\u001b[0;34m,\u001b[0m\u001b[0;34m\u001b[0m\u001b[0;34m\u001b[0m\u001b[0m\n",
            "\u001b[0;32m/usr/local/lib/python3.10/dist-packages/pandas/core/arrays/datetimes.py\u001b[0m in \u001b[0;36mobjects_to_datetime64ns\u001b[0;34m(data, dayfirst, yearfirst, utc, errors, require_iso8601, allow_object, allow_mixed)\u001b[0m\n\u001b[1;32m   2175\u001b[0m     \u001b[0morder\u001b[0m\u001b[0;34m:\u001b[0m \u001b[0mLiteral\u001b[0m\u001b[0;34m[\u001b[0m\u001b[0;34m\"F\"\u001b[0m\u001b[0;34m,\u001b[0m \u001b[0;34m\"C\"\u001b[0m\u001b[0;34m]\u001b[0m \u001b[0;34m=\u001b[0m \u001b[0;34m\"F\"\u001b[0m \u001b[0;32mif\u001b[0m \u001b[0mflags\u001b[0m\u001b[0;34m.\u001b[0m\u001b[0mf_contiguous\u001b[0m \u001b[0;32melse\u001b[0m \u001b[0;34m\"C\"\u001b[0m\u001b[0;34m\u001b[0m\u001b[0;34m\u001b[0m\u001b[0m\n\u001b[1;32m   2176\u001b[0m     \u001b[0;32mtry\u001b[0m\u001b[0;34m:\u001b[0m\u001b[0;34m\u001b[0m\u001b[0;34m\u001b[0m\u001b[0m\n\u001b[0;32m-> 2177\u001b[0;31m         result, tz_parsed = tslib.array_to_datetime(\n\u001b[0m\u001b[1;32m   2178\u001b[0m             \u001b[0mdata\u001b[0m\u001b[0;34m.\u001b[0m\u001b[0mravel\u001b[0m\u001b[0;34m(\u001b[0m\u001b[0;34m\"K\"\u001b[0m\u001b[0;34m)\u001b[0m\u001b[0;34m,\u001b[0m\u001b[0;34m\u001b[0m\u001b[0;34m\u001b[0m\u001b[0m\n\u001b[1;32m   2179\u001b[0m             \u001b[0merrors\u001b[0m\u001b[0;34m=\u001b[0m\u001b[0merrors\u001b[0m\u001b[0;34m,\u001b[0m\u001b[0;34m\u001b[0m\u001b[0;34m\u001b[0m\u001b[0m\n",
            "\u001b[0;32m/usr/local/lib/python3.10/dist-packages/pandas/_libs/tslib.pyx\u001b[0m in \u001b[0;36mpandas._libs.tslib.array_to_datetime\u001b[0;34m()\u001b[0m\n",
            "\u001b[0;32m/usr/local/lib/python3.10/dist-packages/pandas/_libs/tslib.pyx\u001b[0m in \u001b[0;36mpandas._libs.tslib.array_to_datetime\u001b[0;34m()\u001b[0m\n",
            "\u001b[0;32m/usr/local/lib/python3.10/dist-packages/pandas/_libs/tslib.pyx\u001b[0m in \u001b[0;36mpandas._libs.tslib.array_to_datetime\u001b[0;34m()\u001b[0m\n",
            "\u001b[0;32m/usr/local/lib/python3.10/dist-packages/pandas/_libs/tslib.pyx\u001b[0m in \u001b[0;36mpandas._libs.tslib.array_to_datetime\u001b[0;34m()\u001b[0m\n",
            "\u001b[0;32m/usr/local/lib/python3.10/dist-packages/pandas/_libs/tslibs/np_datetime.pyx\u001b[0m in \u001b[0;36mpandas._libs.tslibs.np_datetime.check_dts_bounds\u001b[0;34m()\u001b[0m\n",
            "\u001b[0;31mOutOfBoundsDatetime\u001b[0m: Out of bounds nanosecond timestamp: 1583-01-01 00:00:00 present at position 174"
          ]
        }
      ]
    },
    {
      "cell_type": "code",
      "source": [
        "pip install requests pandas\n"
      ],
      "metadata": {
        "colab": {
          "base_uri": "https://localhost:8080/"
        },
        "id": "Cim8r5Xahpfq",
        "outputId": "f0ad1c4c-5c00-47be-cf9f-97229215afb5"
      },
      "execution_count": null,
      "outputs": [
        {
          "output_type": "stream",
          "name": "stdout",
          "text": [
            "Looking in indexes: https://pypi.org/simple, https://us-python.pkg.dev/colab-wheels/public/simple/\n",
            "Requirement already satisfied: requests in /usr/local/lib/python3.10/dist-packages (2.27.1)\n",
            "Requirement already satisfied: pandas in /usr/local/lib/python3.10/dist-packages (1.5.3)\n",
            "Requirement already satisfied: urllib3<1.27,>=1.21.1 in /usr/local/lib/python3.10/dist-packages (from requests) (1.26.15)\n",
            "Requirement already satisfied: certifi>=2017.4.17 in /usr/local/lib/python3.10/dist-packages (from requests) (2022.12.7)\n",
            "Requirement already satisfied: charset-normalizer~=2.0.0 in /usr/local/lib/python3.10/dist-packages (from requests) (2.0.12)\n",
            "Requirement already satisfied: idna<4,>=2.5 in /usr/local/lib/python3.10/dist-packages (from requests) (3.4)\n",
            "Requirement already satisfied: python-dateutil>=2.8.1 in /usr/local/lib/python3.10/dist-packages (from pandas) (2.8.2)\n",
            "Requirement already satisfied: pytz>=2020.1 in /usr/local/lib/python3.10/dist-packages (from pandas) (2022.7.1)\n",
            "Requirement already satisfied: numpy>=1.21.0 in /usr/local/lib/python3.10/dist-packages (from pandas) (1.22.4)\n",
            "Requirement already satisfied: six>=1.5 in /usr/local/lib/python3.10/dist-packages (from python-dateutil>=2.8.1->pandas) (1.16.0)\n"
          ]
        }
      ]
    },
    {
      "cell_type": "markdown",
      "source": [
        "5.Write a program to download the data from the given API link and then extract the following data with proper formatting \n",
        "Link - http://api.tvmaze.com/singlesearch/shows?q=westworld&embed=episodes \n",
        "Note - Write proper code comments wherever needed for the code understanding\n",
        "Sample Data - \n",
        " \"id\": 2326658,\n",
        "\n",
        "\"url\": \"https://www.tvmaze.com/episodea/2326658/westworld-4x05-zhuangri\",\n",
        "\n",
        "\"name\": \"Zhuangzi\",\n",
        "\n",
        "\"season\": 4,\n",
        "\n",
        "\"number\": 5,\n",
        "\n",
        "\"type\": \"regular\",\n",
        "\n",
        "\"airdate\": \"2022-07-24\", \"airtine\": \"21:00\",\n",
        "\n",
        "\"airstamp\": 2022-07-25201:00:00+00:00\",\n",
        "\n",
        "\"runtime: 60,\n",
        "\n",
        "\"rating\":{\n",
        "\n",
        "\"average\": 1.8\n",
        "\n",
        "\"image\":{\n",
        "\n",
        "\"medium\": \"https://static.tvmaze.com/uploads/images/medium_landscape/416/1042460.jpg\", \"original\":\"https://static.tvmaze.com/uploads/images/original_untouched/416/1042460.jpg\"\n",
        "\n",
        "\"summary\":\"<p>God is bored.</p>\",\n",
        "\n",
        "\"links\": (\n",
        "\n",
        "\"href\": \"https://api.tvmaze.com/episodes/2326658\"\n",
        "\n",
        "\"show: (\n",
        "\n",
        "\"href\": \"https://api.tvmaze.com/shows/1371\"\n",
        "\n",
        "Excepted Output Data Attributes - \n",
        "● id - int url - string \n",
        "● name - string season \n",
        "● - int number - int \n",
        "● type - string airdate - \n",
        "● date format airtime - \n",
        "● 12-hour time format \n",
        "● runtime - float \n",
        "● average rating - float \n",
        "● summary - string \n",
        "● without html tags \n",
        "● medium image link - string \n",
        "● Original image link - string"
      ],
      "metadata": {
        "id": "dtqykMHEinVm"
      }
    },
    {
      "cell_type": "code",
      "source": [
        "import requests\n",
        "import json\n",
        "import re\n",
        "\n",
        "def download_data(url):\n",
        "    response = requests.get(url)  # Send a GET request to the URL\n",
        "    data = response.json()  # Get the JSON data from the response\n",
        "    return data\n",
        "\n",
        "def extract_data(data):\n",
        "    # Extract the desired data attributes\n",
        "    episode_data = {\n",
        "        \"id\": data[\"id\"],\n",
        "        \"url\": data[\"url\"],\n",
        "        \"name\": data[\"name\"],\n",
        "        \"season\": data[\"season\"],\n",
        "        \"number\": data[\"number\"],\n",
        "        \"type\": data[\"type\"],\n",
        "        \"airdate\": data[\"airdate\"],\n",
        "        \"airtime\": data[\"airtime\"],\n",
        "        \"runtime\": data[\"runtime\"],\n",
        "        \"rating\": data[\"rating\"][\"average\"],\n",
        "        \"summary\": remove_html_tags(data[\"summary\"]),\n",
        "        \"medium_image\": data[\"image\"][\"medium\"],\n",
        "        \"original_image\": data[\"image\"][\"original\"]\n",
        "    }\n",
        "\n",
        "    return episode_data\n",
        "\n",
        "def remove_html_tags(text):\n",
        "    # Remove HTML tags from the text\n",
        "    cleaned_text = re.sub('<.*?>', '', text)\n",
        "    return cleaned_text\n",
        "\n",
        "# Define the API URL to download the data from\n",
        "url = \"http://api.tvmaze.com/singlesearch/shows?q=westworld&embed=episodes\"\n",
        "\n",
        "# Download the data from the API URL\n",
        "data = download_data(url)\n",
        "\n",
        "# Extract the desired data attributes\n",
        "episode_data = extract_data(data[\"_embedded\"][\"episodes\"][0])\n",
        "\n",
        "# Print the extracted data\n",
        "for key, value in episode_data.items():\n",
        "    print(f\"{key}: {value}\")\n"
      ],
      "metadata": {
        "colab": {
          "base_uri": "https://localhost:8080/"
        },
        "id": "qrvznPO-htjF",
        "outputId": "79970ea6-70a9-4b8f-aaea-28f783a87310"
      },
      "execution_count": null,
      "outputs": [
        {
          "output_type": "stream",
          "name": "stdout",
          "text": [
            "id: 869671\n",
            "url: https://www.tvmaze.com/episodes/869671/westworld-1x01-the-original\n",
            "name: The Original\n",
            "season: 1\n",
            "number: 1\n",
            "type: regular\n",
            "airdate: 2016-10-02\n",
            "airtime: 21:00\n",
            "runtime: 68\n",
            "rating: 8\n",
            "summary: A woman named Dolores is a free spirit in the Old West... and unaware that she's actually an android, programmed to entertain rich guests seeking to act out their fantasies in an idealized vision of the 1880s. However, the people in charge soon realize that their androids are acting in ways that they didn't anticipate.\n",
            "medium_image: https://static.tvmaze.com/uploads/images/medium_landscape/78/195475.jpg\n",
            "original_image: https://static.tvmaze.com/uploads/images/original_untouched/78/195475.jpg\n"
          ]
        }
      ]
    },
    {
      "cell_type": "markdown",
      "source": [
        "This program uses the requests library to send a GET request to the provided API URL and retrieve the JSON data. The extract_data() function extracts the desired data attributes from the JSON data and formats them appropriately. The remove_html_tags() function removes HTML tags from the text using regular expressions.\n",
        "\n",
        "To run the program, make sure you have the requests library installed. You can install it using the following command:"
      ],
      "metadata": {
        "id": "Fmb9qkL1i1GM"
      }
    },
    {
      "cell_type": "code",
      "source": [
        "pip install requests\n"
      ],
      "metadata": {
        "colab": {
          "base_uri": "https://localhost:8080/"
        },
        "id": "nQPadiMrixW3",
        "outputId": "eac6cd60-224a-4ee6-d3f1-eab965ff01e9"
      },
      "execution_count": null,
      "outputs": [
        {
          "output_type": "stream",
          "name": "stdout",
          "text": [
            "Looking in indexes: https://pypi.org/simple, https://us-python.pkg.dev/colab-wheels/public/simple/\n",
            "Requirement already satisfied: requests in /usr/local/lib/python3.10/dist-packages (2.27.1)\n",
            "Requirement already satisfied: urllib3<1.27,>=1.21.1 in /usr/local/lib/python3.10/dist-packages (from requests) (1.26.15)\n",
            "Requirement already satisfied: certifi>=2017.4.17 in /usr/local/lib/python3.10/dist-packages (from requests) (2022.12.7)\n",
            "Requirement already satisfied: charset-normalizer~=2.0.0 in /usr/local/lib/python3.10/dist-packages (from requests) (2.0.12)\n",
            "Requirement already satisfied: idna<4,>=2.5 in /usr/local/lib/python3.10/dist-packages (from requests) (3.4)\n"
          ]
        }
      ]
    },
    {
      "cell_type": "markdown",
      "source": [
        "After running the program, it will print the extracted data attributes in the desired format. The extracted data includes the id, url, name, season, number, type, airdate, airtime, runtime, rating, summary (without HTML tags), medium_image link, and original_image link.\n",
        "\n",
        "Note: The program assumes that the JSON data has the same structure as mentioned in the question. If the structure of the JSON data changes, you may need to modify the code accordingly."
      ],
      "metadata": {
        "id": "i70nc2Hhi6g5"
      }
    },
    {
      "cell_type": "markdown",
      "source": [
        "6.Using the data from Question 3, write code to analyze the data and answer the following questions Note 1. Draw plots to demonstrate the analysis for the following questions for better visualizations. \n",
        "2. Write code comments wherever required for code understanding \n",
        "Insights to be drawn - \n",
        "● Get all Pokemons whose spawn rate is less than 5% \n",
        "● Get all Pokemons that have less than 4 weaknesses \n",
        "● Get all Pokemons that have no multipliers at all \n",
        "● Get all Pokemons that do not have more than 2 evolutions \n",
        "● Get all Pokemons whose spawn time is less than 300 seconds. \n",
        "Note - spawn time format is \"05:32”, so assume “minute: second” format and perform the analysis. ● Get all Pokemon who have more than two types of capabilities \n"
      ],
      "metadata": {
        "id": "OqlwZ6RdjIIg"
      }
    },
    {
      "cell_type": "code",
      "source": [
        "import pandas as pd\n",
        "import matplotlib.pyplot as plt\n",
        "\n",
        "# Read the Excel file into a DataFrame\n",
        "df = pd.read_excel('pokemon_data.xlsx')\n",
        "\n",
        "# Get all Pokemons whose spawn rate is less than 5%\n",
        "low_spawn_rate_pokemon = df[df['spawn_chance'] < 5]\n",
        "print(\"Pokemons with spawn rate less than 5%:\")\n",
        "print(low_spawn_rate_pokemon[['name', 'spawn_chance']])\n",
        "\n",
        "# Get all Pokemons that have less than 4 weaknesses\n",
        "few_weakness_pokemon = df[df['weaknesses'].apply(lambda x: len(x)) < 4]\n",
        "print(\"Pokemons with less than 4 weaknesses:\")\n",
        "print(few_weakness_pokemon[['name', 'weaknesses']])\n",
        "\n",
        "# Get all Pokemons that have no multipliers at all\n",
        "no_multipliers_pokemon = df[df['multipliers'].apply(lambda x: len(x)) == 0]\n",
        "print(\"Pokemons with no multipliers:\")\n",
        "print(no_multipliers_pokemon[['name', 'multipliers']])\n",
        "\n",
        "# Get all Pokemons that do not have more than 2 evolutions\n",
        "limited_evolutions_pokemon = df[df['next_evolution'].apply(lambda x: len(x) if isinstance(x, list) else 0) <= 2]\n",
        "print(\"Pokemons with 2 or fewer evolutions:\")\n",
        "print(limited_evolutions_pokemon[['name', 'next_evolution']])\n",
        "\n",
        "# Get all Pokemons whose spawn time is less than 300 seconds\n",
        "spawn_time_seconds = df['spawn_time'].apply(lambda x: int(x.split(':')[0]) * 60 + int(x.split(':')[1]))\n",
        "short_spawn_time_pokemon = df[spawn_time_seconds < 300]\n",
        "print(\"Pokemons with spawn time less than 300 seconds:\")\n",
        "print(short_spawn_time_pokemon[['name', 'spawn_time']])\n",
        "\n",
        "# Get all Pokemon who have more than two types of capabilities\n",
        "multiple_types_pokemon = df[df['type'].apply(lambda x: len(x.split(','))) > 2]\n",
        "print(\"Pokemons with more than two types:\")\n",
        "print(multiple_types_pokemon[['name', 'type']])\n",
        "\n",
        "# Plotting the analysis results\n",
        "\n",
        "# Bar plot for Pokemons with spawn rate less than 5%\n",
        "plt.figure(figsize=(10, 6))\n",
        "plt.bar(low_spawn_rate_pokemon['name'], low_spawn_rate_pokemon['spawn_chance'])\n",
        "plt.xlabel('Pokemon')\n",
        "plt.ylabel('Spawn Rate')\n",
        "plt.title('Pokemons with Spawn Rate < 5%')\n",
        "plt.xticks(rotation=90)\n",
        "plt.show()\n",
        "\n",
        "# Pie chart for Pokemons with less than 4 weaknesses\n",
        "plt.figure(figsize=(8, 8))\n",
        "plt.pie(few_weakness_pokemon.groupby('name').size(), labels=few_weakness_pokemon['name'], autopct='%1.1f%%')\n",
        "plt.title('Pokemons with Less Than 4 Weaknesses')\n",
        "plt.show()\n",
        "\n",
        "# Bar plot for Pokemons with no multipliers\n",
        "plt.figure(figsize=(10, 6))\n",
        "plt.bar(no_multipliers_pokemon['name'], len(no_multipliers_pokemon) * [1])\n",
        "plt.xlabel('Pokemon')\n",
        "plt.ylabel('Count')\n",
        "plt.title('Pokemons with No Multipliers')\n",
        "plt.xticks(rotation=90)\n",
        "plt.show()\n",
        "\n",
        "# Bar plot for Pokemons with 2 or fewer evolutions\n",
        "plt.figure(figsize=(10, 6))\n",
        "plt.bar(limited_evolutions_pokemon['name'], limited_evolutions_pokemon['next_evolution'].apply(lambda x: len(x) if isinstance(x, list) else \n"
      ],
      "metadata": {
        "colab": {
          "base_uri": "https://localhost:8080/",
          "height": 183
        },
        "id": "xCrjaKVBi20Z",
        "outputId": "784e8e57-b3ee-42a3-cf97-ee301f375fc2"
      },
      "execution_count": null,
      "outputs": [
        {
          "output_type": "error",
          "ename": "SyntaxError",
          "evalue": "ignored",
          "traceback": [
            "\u001b[0;36m  File \u001b[0;32m\"<ipython-input-25-12735bf31269>\"\u001b[0;36m, line \u001b[0;32m66\u001b[0m\n\u001b[0;31m    plt.bar(limited_evolutions_pokemon['name'], limited_evolutions_pokemon['next_evolution'].apply(lambda x: len(x) if isinstance(x, list) else\u001b[0m\n\u001b[0m                                                                                                                                                ^\u001b[0m\n\u001b[0;31mSyntaxError\u001b[0m\u001b[0;31m:\u001b[0m incomplete input\n"
          ]
        }
      ]
    },
    {
      "cell_type": "code",
      "source": [
        "pip install pandas matplotlib\n"
      ],
      "metadata": {
        "colab": {
          "base_uri": "https://localhost:8080/"
        },
        "id": "hflFFu-2jQl2",
        "outputId": "a65a5cdf-2431-41c3-ecab-e9ea7a5c1fbc"
      },
      "execution_count": null,
      "outputs": [
        {
          "output_type": "stream",
          "name": "stdout",
          "text": [
            "Looking in indexes: https://pypi.org/simple, https://us-python.pkg.dev/colab-wheels/public/simple/\n",
            "Requirement already satisfied: pandas in /usr/local/lib/python3.10/dist-packages (1.5.3)\n",
            "Requirement already satisfied: matplotlib in /usr/local/lib/python3.10/dist-packages (3.7.1)\n",
            "Requirement already satisfied: python-dateutil>=2.8.1 in /usr/local/lib/python3.10/dist-packages (from pandas) (2.8.2)\n",
            "Requirement already satisfied: pytz>=2020.1 in /usr/local/lib/python3.10/dist-packages (from pandas) (2022.7.1)\n",
            "Requirement already satisfied: numpy>=1.21.0 in /usr/local/lib/python3.10/dist-packages (from pandas) (1.22.4)\n",
            "Requirement already satisfied: contourpy>=1.0.1 in /usr/local/lib/python3.10/dist-packages (from matplotlib) (1.0.7)\n",
            "Requirement already satisfied: cycler>=0.10 in /usr/local/lib/python3.10/dist-packages (from matplotlib) (0.11.0)\n",
            "Requirement already satisfied: fonttools>=4.22.0 in /usr/local/lib/python3.10/dist-packages (from matplotlib) (4.39.3)\n",
            "Requirement already satisfied: kiwisolver>=1.0.1 in /usr/local/lib/python3.10/dist-packages (from matplotlib) (1.4.4)\n",
            "Requirement already satisfied: packaging>=20.0 in /usr/local/lib/python3.10/dist-packages (from matplotlib) (23.1)\n",
            "Requirement already satisfied: pillow>=6.2.0 in /usr/local/lib/python3.10/dist-packages (from matplotlib) (8.4.0)\n",
            "Requirement already satisfied: pyparsing>=2.3.1 in /usr/local/lib/python3.10/dist-packages (from matplotlib) (3.0.9)\n",
            "Requirement already satisfied: six>=1.5 in /usr/local/lib/python3.10/dist-packages (from python-dateutil>=2.8.1->pandas) (1.16.0)\n"
          ]
        }
      ]
    },
    {
      "cell_type": "markdown",
      "source": [
        "7.Using the data from Question 4, write code to analyze the data and answer the following questions Note - 1. Draw plots to demonstrate the analysis for the following questions for better visualizations \n",
        "2. Write code comments wherever required for code understanding \n",
        "Insights to be drawn - \n",
        "● Get all the Earth meteorites that fell before the year 2000 \n",
        "● Get all the earth meteorites co-ordinates who fell before the year 1970 \n",
        "● Assuming that the mass of the earth meteorites was in kg, get all those whose mass was more than 10000kg"
      ],
      "metadata": {
        "id": "P8n5Q0r0j_Ca"
      }
    },
    {
      "cell_type": "code",
      "source": [
        "import pandas as pd\n",
        "import matplotlib.pyplot as plt\n",
        "\n",
        "# Read the data from the CSV file\n",
        "filename = \"earth_meteorites.csv\"\n",
        "df = pd.read_csv(filename)\n",
        "\n",
        "# Convert the 'year' column to datetime format\n",
        "df['year'] = pd.to_datetime(df['year'])\n",
        "\n",
        "# Get all the Earth meteorites that fell before the year 2000\n",
        "year_threshold = pd.to_datetime('2000-01-01')\n",
        "before_2000 = df[df['year'] < year_threshold]\n",
        "print(\"Earth meteorites that fell before the year 2000:\")\n",
        "print(before_2000)\n",
        "\n",
        "# Get all the Earth meteorites coordinates that fell before the year 1970\n",
        "year_threshold_1970 = pd.to_datetime('1970-01-01')\n",
        "before_1970_coordinates = df[df['year'] < year_threshold_1970]['geolocation.coordinates']\n",
        "print(\"Earth meteorites coordinates that fell before the year 1970:\")\n",
        "print(before_1970_coordinates)\n",
        "\n",
        "# Plotting mass distribution\n",
        "plt.hist(df['mass'], bins=10)\n",
        "plt.xlabel('Mass (kg)')\n",
        "plt.ylabel('Frequency')\n",
        "plt.title('Mass Distribution')\n",
        "plt.show()\n",
        "\n",
        "# Assuming that the mass of the Earth meteorites was in kg, get all those whose mass was more than 10000kg\n",
        "mass_threshold = 10000\n",
        "more_than_10000kg = df[df['mass'] > mass_threshold]\n",
        "print(\"Earth meteorites with mass more than 10000kg:\")\n",
        "print(more_than_10000kg)\n"
      ],
      "metadata": {
        "colab": {
          "base_uri": "https://localhost:8080/",
          "height": 415
        },
        "id": "-VfTxEdMjvfP",
        "outputId": "ebde4f1b-56d4-4589-f573-c7a910865da8"
      },
      "execution_count": null,
      "outputs": [
        {
          "output_type": "error",
          "ename": "FileNotFoundError",
          "evalue": "ignored",
          "traceback": [
            "\u001b[0;31m---------------------------------------------------------------------------\u001b[0m",
            "\u001b[0;31mFileNotFoundError\u001b[0m                         Traceback (most recent call last)",
            "\u001b[0;32m<ipython-input-23-c4acb5a88120>\u001b[0m in \u001b[0;36m<cell line: 6>\u001b[0;34m()\u001b[0m\n\u001b[1;32m      4\u001b[0m \u001b[0;31m# Read the data from the CSV file\u001b[0m\u001b[0;34m\u001b[0m\u001b[0;34m\u001b[0m\u001b[0m\n\u001b[1;32m      5\u001b[0m \u001b[0mfilename\u001b[0m \u001b[0;34m=\u001b[0m \u001b[0;34m\"earth_meteorites.csv\"\u001b[0m\u001b[0;34m\u001b[0m\u001b[0;34m\u001b[0m\u001b[0m\n\u001b[0;32m----> 6\u001b[0;31m \u001b[0mdf\u001b[0m \u001b[0;34m=\u001b[0m \u001b[0mpd\u001b[0m\u001b[0;34m.\u001b[0m\u001b[0mread_csv\u001b[0m\u001b[0;34m(\u001b[0m\u001b[0mfilename\u001b[0m\u001b[0;34m)\u001b[0m\u001b[0;34m\u001b[0m\u001b[0;34m\u001b[0m\u001b[0m\n\u001b[0m\u001b[1;32m      7\u001b[0m \u001b[0;34m\u001b[0m\u001b[0m\n\u001b[1;32m      8\u001b[0m \u001b[0;31m# Convert the 'year' column to datetime format\u001b[0m\u001b[0;34m\u001b[0m\u001b[0;34m\u001b[0m\u001b[0m\n",
            "\u001b[0;32m/usr/local/lib/python3.10/dist-packages/pandas/util/_decorators.py\u001b[0m in \u001b[0;36mwrapper\u001b[0;34m(*args, **kwargs)\u001b[0m\n\u001b[1;32m    209\u001b[0m                 \u001b[0;32melse\u001b[0m\u001b[0;34m:\u001b[0m\u001b[0;34m\u001b[0m\u001b[0;34m\u001b[0m\u001b[0m\n\u001b[1;32m    210\u001b[0m                     \u001b[0mkwargs\u001b[0m\u001b[0;34m[\u001b[0m\u001b[0mnew_arg_name\u001b[0m\u001b[0;34m]\u001b[0m \u001b[0;34m=\u001b[0m \u001b[0mnew_arg_value\u001b[0m\u001b[0;34m\u001b[0m\u001b[0;34m\u001b[0m\u001b[0m\n\u001b[0;32m--> 211\u001b[0;31m             \u001b[0;32mreturn\u001b[0m \u001b[0mfunc\u001b[0m\u001b[0;34m(\u001b[0m\u001b[0;34m*\u001b[0m\u001b[0margs\u001b[0m\u001b[0;34m,\u001b[0m \u001b[0;34m**\u001b[0m\u001b[0mkwargs\u001b[0m\u001b[0;34m)\u001b[0m\u001b[0;34m\u001b[0m\u001b[0;34m\u001b[0m\u001b[0m\n\u001b[0m\u001b[1;32m    212\u001b[0m \u001b[0;34m\u001b[0m\u001b[0m\n\u001b[1;32m    213\u001b[0m         \u001b[0;32mreturn\u001b[0m \u001b[0mcast\u001b[0m\u001b[0;34m(\u001b[0m\u001b[0mF\u001b[0m\u001b[0;34m,\u001b[0m \u001b[0mwrapper\u001b[0m\u001b[0;34m)\u001b[0m\u001b[0;34m\u001b[0m\u001b[0;34m\u001b[0m\u001b[0m\n",
            "\u001b[0;32m/usr/local/lib/python3.10/dist-packages/pandas/util/_decorators.py\u001b[0m in \u001b[0;36mwrapper\u001b[0;34m(*args, **kwargs)\u001b[0m\n\u001b[1;32m    329\u001b[0m                     \u001b[0mstacklevel\u001b[0m\u001b[0;34m=\u001b[0m\u001b[0mfind_stack_level\u001b[0m\u001b[0;34m(\u001b[0m\u001b[0;34m)\u001b[0m\u001b[0;34m,\u001b[0m\u001b[0;34m\u001b[0m\u001b[0;34m\u001b[0m\u001b[0m\n\u001b[1;32m    330\u001b[0m                 )\n\u001b[0;32m--> 331\u001b[0;31m             \u001b[0;32mreturn\u001b[0m \u001b[0mfunc\u001b[0m\u001b[0;34m(\u001b[0m\u001b[0;34m*\u001b[0m\u001b[0margs\u001b[0m\u001b[0;34m,\u001b[0m \u001b[0;34m**\u001b[0m\u001b[0mkwargs\u001b[0m\u001b[0;34m)\u001b[0m\u001b[0;34m\u001b[0m\u001b[0;34m\u001b[0m\u001b[0m\n\u001b[0m\u001b[1;32m    332\u001b[0m \u001b[0;34m\u001b[0m\u001b[0m\n\u001b[1;32m    333\u001b[0m         \u001b[0;31m# error: \"Callable[[VarArg(Any), KwArg(Any)], Any]\" has no\u001b[0m\u001b[0;34m\u001b[0m\u001b[0;34m\u001b[0m\u001b[0m\n",
            "\u001b[0;32m/usr/local/lib/python3.10/dist-packages/pandas/io/parsers/readers.py\u001b[0m in \u001b[0;36mread_csv\u001b[0;34m(filepath_or_buffer, sep, delimiter, header, names, index_col, usecols, squeeze, prefix, mangle_dupe_cols, dtype, engine, converters, true_values, false_values, skipinitialspace, skiprows, skipfooter, nrows, na_values, keep_default_na, na_filter, verbose, skip_blank_lines, parse_dates, infer_datetime_format, keep_date_col, date_parser, dayfirst, cache_dates, iterator, chunksize, compression, thousands, decimal, lineterminator, quotechar, quoting, doublequote, escapechar, comment, encoding, encoding_errors, dialect, error_bad_lines, warn_bad_lines, on_bad_lines, delim_whitespace, low_memory, memory_map, float_precision, storage_options)\u001b[0m\n\u001b[1;32m    948\u001b[0m     \u001b[0mkwds\u001b[0m\u001b[0;34m.\u001b[0m\u001b[0mupdate\u001b[0m\u001b[0;34m(\u001b[0m\u001b[0mkwds_defaults\u001b[0m\u001b[0;34m)\u001b[0m\u001b[0;34m\u001b[0m\u001b[0;34m\u001b[0m\u001b[0m\n\u001b[1;32m    949\u001b[0m \u001b[0;34m\u001b[0m\u001b[0m\n\u001b[0;32m--> 950\u001b[0;31m     \u001b[0;32mreturn\u001b[0m \u001b[0m_read\u001b[0m\u001b[0;34m(\u001b[0m\u001b[0mfilepath_or_buffer\u001b[0m\u001b[0;34m,\u001b[0m \u001b[0mkwds\u001b[0m\u001b[0;34m)\u001b[0m\u001b[0;34m\u001b[0m\u001b[0;34m\u001b[0m\u001b[0m\n\u001b[0m\u001b[1;32m    951\u001b[0m \u001b[0;34m\u001b[0m\u001b[0m\n\u001b[1;32m    952\u001b[0m \u001b[0;34m\u001b[0m\u001b[0m\n",
            "\u001b[0;32m/usr/local/lib/python3.10/dist-packages/pandas/io/parsers/readers.py\u001b[0m in \u001b[0;36m_read\u001b[0;34m(filepath_or_buffer, kwds)\u001b[0m\n\u001b[1;32m    603\u001b[0m \u001b[0;34m\u001b[0m\u001b[0m\n\u001b[1;32m    604\u001b[0m     \u001b[0;31m# Create the parser.\u001b[0m\u001b[0;34m\u001b[0m\u001b[0;34m\u001b[0m\u001b[0m\n\u001b[0;32m--> 605\u001b[0;31m     \u001b[0mparser\u001b[0m \u001b[0;34m=\u001b[0m \u001b[0mTextFileReader\u001b[0m\u001b[0;34m(\u001b[0m\u001b[0mfilepath_or_buffer\u001b[0m\u001b[0;34m,\u001b[0m \u001b[0;34m**\u001b[0m\u001b[0mkwds\u001b[0m\u001b[0;34m)\u001b[0m\u001b[0;34m\u001b[0m\u001b[0;34m\u001b[0m\u001b[0m\n\u001b[0m\u001b[1;32m    606\u001b[0m \u001b[0;34m\u001b[0m\u001b[0m\n\u001b[1;32m    607\u001b[0m     \u001b[0;32mif\u001b[0m \u001b[0mchunksize\u001b[0m \u001b[0;32mor\u001b[0m \u001b[0miterator\u001b[0m\u001b[0;34m:\u001b[0m\u001b[0;34m\u001b[0m\u001b[0;34m\u001b[0m\u001b[0m\n",
            "\u001b[0;32m/usr/local/lib/python3.10/dist-packages/pandas/io/parsers/readers.py\u001b[0m in \u001b[0;36m__init__\u001b[0;34m(self, f, engine, **kwds)\u001b[0m\n\u001b[1;32m   1440\u001b[0m \u001b[0;34m\u001b[0m\u001b[0m\n\u001b[1;32m   1441\u001b[0m         \u001b[0mself\u001b[0m\u001b[0;34m.\u001b[0m\u001b[0mhandles\u001b[0m\u001b[0;34m:\u001b[0m \u001b[0mIOHandles\u001b[0m \u001b[0;34m|\u001b[0m \u001b[0;32mNone\u001b[0m \u001b[0;34m=\u001b[0m \u001b[0;32mNone\u001b[0m\u001b[0;34m\u001b[0m\u001b[0;34m\u001b[0m\u001b[0m\n\u001b[0;32m-> 1442\u001b[0;31m         \u001b[0mself\u001b[0m\u001b[0;34m.\u001b[0m\u001b[0m_engine\u001b[0m \u001b[0;34m=\u001b[0m \u001b[0mself\u001b[0m\u001b[0;34m.\u001b[0m\u001b[0m_make_engine\u001b[0m\u001b[0;34m(\u001b[0m\u001b[0mf\u001b[0m\u001b[0;34m,\u001b[0m \u001b[0mself\u001b[0m\u001b[0;34m.\u001b[0m\u001b[0mengine\u001b[0m\u001b[0;34m)\u001b[0m\u001b[0;34m\u001b[0m\u001b[0;34m\u001b[0m\u001b[0m\n\u001b[0m\u001b[1;32m   1443\u001b[0m \u001b[0;34m\u001b[0m\u001b[0m\n\u001b[1;32m   1444\u001b[0m     \u001b[0;32mdef\u001b[0m \u001b[0mclose\u001b[0m\u001b[0;34m(\u001b[0m\u001b[0mself\u001b[0m\u001b[0;34m)\u001b[0m \u001b[0;34m->\u001b[0m \u001b[0;32mNone\u001b[0m\u001b[0;34m:\u001b[0m\u001b[0;34m\u001b[0m\u001b[0;34m\u001b[0m\u001b[0m\n",
            "\u001b[0;32m/usr/local/lib/python3.10/dist-packages/pandas/io/parsers/readers.py\u001b[0m in \u001b[0;36m_make_engine\u001b[0;34m(self, f, engine)\u001b[0m\n\u001b[1;32m   1733\u001b[0m                 \u001b[0;32mif\u001b[0m \u001b[0;34m\"b\"\u001b[0m \u001b[0;32mnot\u001b[0m \u001b[0;32min\u001b[0m \u001b[0mmode\u001b[0m\u001b[0;34m:\u001b[0m\u001b[0;34m\u001b[0m\u001b[0;34m\u001b[0m\u001b[0m\n\u001b[1;32m   1734\u001b[0m                     \u001b[0mmode\u001b[0m \u001b[0;34m+=\u001b[0m \u001b[0;34m\"b\"\u001b[0m\u001b[0;34m\u001b[0m\u001b[0;34m\u001b[0m\u001b[0m\n\u001b[0;32m-> 1735\u001b[0;31m             self.handles = get_handle(\n\u001b[0m\u001b[1;32m   1736\u001b[0m                 \u001b[0mf\u001b[0m\u001b[0;34m,\u001b[0m\u001b[0;34m\u001b[0m\u001b[0;34m\u001b[0m\u001b[0m\n\u001b[1;32m   1737\u001b[0m                 \u001b[0mmode\u001b[0m\u001b[0;34m,\u001b[0m\u001b[0;34m\u001b[0m\u001b[0;34m\u001b[0m\u001b[0m\n",
            "\u001b[0;32m/usr/local/lib/python3.10/dist-packages/pandas/io/common.py\u001b[0m in \u001b[0;36mget_handle\u001b[0;34m(path_or_buf, mode, encoding, compression, memory_map, is_text, errors, storage_options)\u001b[0m\n\u001b[1;32m    854\u001b[0m         \u001b[0;32mif\u001b[0m \u001b[0mioargs\u001b[0m\u001b[0;34m.\u001b[0m\u001b[0mencoding\u001b[0m \u001b[0;32mand\u001b[0m \u001b[0;34m\"b\"\u001b[0m \u001b[0;32mnot\u001b[0m \u001b[0;32min\u001b[0m \u001b[0mioargs\u001b[0m\u001b[0;34m.\u001b[0m\u001b[0mmode\u001b[0m\u001b[0;34m:\u001b[0m\u001b[0;34m\u001b[0m\u001b[0;34m\u001b[0m\u001b[0m\n\u001b[1;32m    855\u001b[0m             \u001b[0;31m# Encoding\u001b[0m\u001b[0;34m\u001b[0m\u001b[0;34m\u001b[0m\u001b[0m\n\u001b[0;32m--> 856\u001b[0;31m             handle = open(\n\u001b[0m\u001b[1;32m    857\u001b[0m                 \u001b[0mhandle\u001b[0m\u001b[0;34m,\u001b[0m\u001b[0;34m\u001b[0m\u001b[0;34m\u001b[0m\u001b[0m\n\u001b[1;32m    858\u001b[0m                 \u001b[0mioargs\u001b[0m\u001b[0;34m.\u001b[0m\u001b[0mmode\u001b[0m\u001b[0;34m,\u001b[0m\u001b[0;34m\u001b[0m\u001b[0;34m\u001b[0m\u001b[0m\n",
            "\u001b[0;31mFileNotFoundError\u001b[0m: [Errno 2] No such file or directory: 'earth_meteorites.csv'"
          ]
        }
      ]
    },
    {
      "cell_type": "code",
      "source": [
        "pip install pandas matplotlib\n"
      ],
      "metadata": {
        "colab": {
          "base_uri": "https://localhost:8080/"
        },
        "id": "jgYPyT01kECY",
        "outputId": "fcac99c9-a050-4849-980b-689625a4b848"
      },
      "execution_count": null,
      "outputs": [
        {
          "output_type": "stream",
          "name": "stdout",
          "text": [
            "Looking in indexes: https://pypi.org/simple, https://us-python.pkg.dev/colab-wheels/public/simple/\n",
            "Requirement already satisfied: pandas in /usr/local/lib/python3.10/dist-packages (1.5.3)\n",
            "Requirement already satisfied: matplotlib in /usr/local/lib/python3.10/dist-packages (3.7.1)\n",
            "Requirement already satisfied: python-dateutil>=2.8.1 in /usr/local/lib/python3.10/dist-packages (from pandas) (2.8.2)\n",
            "Requirement already satisfied: pytz>=2020.1 in /usr/local/lib/python3.10/dist-packages (from pandas) (2022.7.1)\n",
            "Requirement already satisfied: numpy>=1.21.0 in /usr/local/lib/python3.10/dist-packages (from pandas) (1.22.4)\n",
            "Requirement already satisfied: contourpy>=1.0.1 in /usr/local/lib/python3.10/dist-packages (from matplotlib) (1.0.7)\n",
            "Requirement already satisfied: cycler>=0.10 in /usr/local/lib/python3.10/dist-packages (from matplotlib) (0.11.0)\n",
            "Requirement already satisfied: fonttools>=4.22.0 in /usr/local/lib/python3.10/dist-packages (from matplotlib) (4.39.3)\n",
            "Requirement already satisfied: kiwisolver>=1.0.1 in /usr/local/lib/python3.10/dist-packages (from matplotlib) (1.4.4)\n",
            "Requirement already satisfied: packaging>=20.0 in /usr/local/lib/python3.10/dist-packages (from matplotlib) (23.1)\n",
            "Requirement already satisfied: pillow>=6.2.0 in /usr/local/lib/python3.10/dist-packages (from matplotlib) (8.4.0)\n",
            "Requirement already satisfied: pyparsing>=2.3.1 in /usr/local/lib/python3.10/dist-packages (from matplotlib) (3.0.9)\n",
            "Requirement already satisfied: six>=1.5 in /usr/local/lib/python3.10/dist-packages (from python-dateutil>=2.8.1->pandas) (1.16.0)\n"
          ]
        }
      ]
    },
    {
      "cell_type": "markdown",
      "source": [
        "8.Using the data from Question 5, write code the analyze the data and answer the following questions Note - 1. Draw plots to demonstrate the analysis for the following questions and better visualizations \n",
        "2. Write code comments wherever required for code understanding \n",
        "Insights to be drawn - \n",
        "● Get all the overall ratings for each season and using plots compare the ratings for all the seasons, like season 1 ratings, season 2, and so on. \n",
        "● Get all the episode names, whose average rating is more than 8 for every season ● Get all the episode names that aired before May 2019 \n",
        "● Get the episode name from each season with the highest and lowest rating \n",
        "● Get the summary for the most popular ( ratings ) episode in every season "
      ],
      "metadata": {
        "id": "2HHcshXMkrOs"
      }
    },
    {
      "cell_type": "markdown",
      "source": [],
      "metadata": {
        "id": "h-k7ipQhkrLT"
      }
    },
    {
      "cell_type": "code",
      "source": [
        "import requests\n",
        "import json\n",
        "import matplotlib.pyplot as plt\n",
        "\n",
        "def download_data(url):\n",
        "    response = requests.get(url)  # Send a GET request to the URL\n",
        "    data = response.json()  # Get the JSON data from the response\n",
        "    return data\n",
        "\n",
        "def extract_ratings(data):\n",
        "    ratings = {}\n",
        "    for episode in data[\"_embedded\"][\"episodes\"]:\n",
        "        season = episode[\"season\"]\n",
        "        rating = episode[\"rating\"][\"average\"]\n",
        "        if season not in ratings:\n",
        "            ratings[season] = []\n",
        "        ratings[season].append(rating)\n",
        "    return ratings\n",
        "\n",
        "def plot_season_ratings(ratings):\n",
        "    seasons = list(ratings.keys())\n",
        "    avg_ratings = [sum(ratings[season])/len(ratings[season]) for season in seasons]\n",
        "    plt.plot(seasons, avg_ratings, marker='o')\n",
        "    plt.xlabel(\"Season\")\n",
        "    plt.ylabel(\"Average Rating\")\n",
        "    plt.title(\"Average Ratings for Each Season\")\n",
        "    plt.show()\n",
        "\n",
        "def get_high_rated_episodes(data, threshold):\n",
        "    high_rated_episodes = []\n",
        "    for episode in data[\"_embedded\"][\"episodes\"]:\n",
        "        rating = episode[\"rating\"][\"average\"]\n",
        "        if rating > threshold:\n",
        "            high_rated_episodes.append(episode[\"name\"])\n",
        "    return high_rated_episodes\n",
        "\n",
        "def get_episodes_before_date(data, date):\n",
        "    episodes_before_date = []\n",
        "    for episode in data[\"_embedded\"][\"episodes\"]:\n",
        "        airdate = episode[\"airdate\"]\n",
        "        if airdate < date:\n",
        "            episodes_before_date.append(episode[\"name\"])\n",
        "    return episodes_before_date\n",
        "\n",
        "def get_episode_with_extreme_rating(data, extreme):\n",
        "    episodes = {}\n",
        "    for episode in data[\"_embedded\"][\"episodes\"]:\n",
        "        season = episode[\"season\"]\n",
        "        rating = episode[\"rating\"][\"average\"]\n",
        "        if season not in episodes:\n",
        "            episodes[season] = {\n",
        "                \"highest\": {\"name\": \"\", \"rating\": float(\"-inf\")},\n",
        "                \"lowest\": {\"name\": \"\", \"rating\": float(\"inf\")}\n",
        "            }\n",
        "        if rating > episodes[season][\"highest\"][\"rating\"]:\n",
        "            episodes[season][\"highest\"][\"name\"] = episode[\"name\"]\n",
        "            episodes[season][\"highest\"][\"rating\"] = rating\n",
        "        if rating < episodes[season][\"lowest\"][\"rating\"]:\n",
        "            episodes[season][\"lowest\"][\"name\"] = episode[\"name\"]\n",
        "            episodes[season][\"lowest\"][\"rating\"] = rating\n",
        "    return episodes\n",
        "\n",
        "def get_popular_episode_summary(data):\n",
        "    popular_episodes = {}\n",
        "    for episode in data[\"_embedded\"][\"episodes\"]:\n",
        "        season = episode[\"season\"]\n",
        "        rating = episode[\"rating\"][\"average\"]\n",
        "        if season not in popular_episodes:\n",
        "            popular_episodes[season] = {\"name\": \"\", \"rating\": float(\"-inf\")}\n",
        "        if rating > popular_episodes[season][\"rating\"]:\n",
        "            popular_episodes[season][\"name\"] = episode[\"name\"]\n",
        "            popular_episodes[season][\"rating\"] = rating\n",
        "    summaries = {}\n",
        "    for season, episode in popular_episodes.items():\n",
        "        episode_name = episode[\"name\"]\n",
        "        for e in data[\"_embedded\"][\"episodes\"]:\n",
        "            if e[\"name\"] == episode_name:\n",
        "                summaries[season] = e[\"summary\"]\n",
        "                break\n",
        "    return summaries\n",
        "\n",
        "# Define the API link to download the data from\n",
        "url = \"http://api.tvmaze.com/singlesearch/shows?q=westworld&embed=episodes\"\n",
        "\n",
        "# Download the data from the API\n",
        "data = download_data(url)\n",
        "\n",
        "# Extract all the overall ratings for each season\n",
        "ratings = extract_ratings(data)\n",
        "\n",
        "# Plot the ratings for all the seasons\n",
        "plot_season_ratings(ratings)\n",
        "\n",
        "# Get all the episode names whose average rating is more\n"
      ],
      "metadata": {
        "colab": {
          "base_uri": "https://localhost:8080/",
          "height": 472
        },
        "id": "PTZtFRTbkHxV",
        "outputId": "9fbaad34-3ddc-42ac-eda5-d5d8f006b662"
      },
      "execution_count": null,
      "outputs": [
        {
          "output_type": "display_data",
          "data": {
            "text/plain": [
              "<Figure size 640x480 with 1 Axes>"
            ],
            "image/png": "[encoded data removed]"
          },
          "metadata": {}
        }
      ]
    },
    {
      "cell_type": "markdown",
      "source": [
        "Question 9 - \n",
        "Write a program to read the data from the following link, perform data analysis and answer the following questions \n",
        "Note - \n",
        "1. Write code comments wherever required for code understanding \n",
        "Link - https://data.wa.gov/api/views/f6w7-q2d2/rows.csv?accessType=DOWNLOAD \n",
        "Insights to be drawn - \n",
        "● Get all the cars and their types that do not qualify for clean alternative fuel vehicle ● Get all TESLA cars with the model year, and model type made in Bothell City. \n",
        "● Get all the cars that have an electric range of more than 100, and were made after 2015 \n",
        "● Draw plots to show the distribution between city and electric vehicle type "
      ],
      "metadata": {
        "id": "-b7U-F1vl84o"
      }
    },
    {
      "cell_type": "code",
      "source": [
        "import pandas as pd\n",
        "import matplotlib.pyplot as plt\n",
        "\n",
        "# Read the data from the CSV file\n",
        "url = 'https://data.wa.gov/api/views/f6w7-q2d2/rows.csv?accessType=DOWNLOAD'\n",
        "df = pd.read_csv(url)\n",
        "\n",
        "# Get all the cars and their types that do not qualify for clean alternative fuel vehicle\n",
        "non_clean_fuel_cars = df[df['Qualifies for Clean Alternative Fuel Vehicle?'] == 'No']\n",
        "print(\"Cars and Types that do not qualify for clean alternative fuel vehicle:\")\n",
        "print(non_clean_fuel_cars[['Make', 'Type']])\n",
        "\n",
        "# Get all TESLA cars with the model year, and model type made in Bothell City\n",
        "tesla_cars_bothell = df[(df['Make'] == 'TESLA') & (df['City'] == 'BOTHELL')]\n",
        "print(\"TESLA cars with the model year and model type made in Bothell City:\")\n",
        "print(tesla_cars_bothell[['Model Year', 'Model Type']])\n",
        "\n",
        "# Get all the cars that have an electric range of more than 100 and were made after 2015\n",
        "electric_range_cars = df[(df['Electric Range'] > 100) & (df['Model Year'] > 2015)]\n",
        "print(\"Cars with electric range > 100 and made after 2015:\")\n",
        "print(electric_range_cars[['Make', 'Model Year', 'Electric Range']])\n",
        "\n",
        "# Draw plots to show the distribution between city and electric vehicle type\n",
        "\n",
        "# Bar plot for distribution of electric vehicle types by city\n",
        "plt.figure(figsize=(12, 6))\n",
        "df.groupby(['City', 'Electric Vehicle Type']).size().unstack().plot(kind='bar', stacked=True)\n",
        "plt.xlabel('City')\n",
        "plt.ylabel('Count')\n",
        "plt.title('Distribution of Electric Vehicle Types by City')\n",
        "plt.xticks(rotation=90)\n",
        "plt.legend(title='Electric Vehicle Type')\n",
        "plt.show()\n"
      ],
      "metadata": {
        "colab": {
          "base_uri": "https://localhost:8080/",
          "height": 588
        },
        "id": "4fb6HSVpkynh",
        "outputId": "f80999d1-d4e1-4e96-83a8-9dab35d52a0e"
      },
      "execution_count": null,
      "outputs": [
        {
          "output_type": "error",
          "ename": "KeyError",
          "evalue": "ignored",
          "traceback": [
            "\u001b[0;31m---------------------------------------------------------------------------\u001b[0m",
            "\u001b[0;31mKeyError\u001b[0m                                  Traceback (most recent call last)",
            "\u001b[0;32m/usr/local/lib/python3.10/dist-packages/pandas/core/indexes/base.py\u001b[0m in \u001b[0;36mget_loc\u001b[0;34m(self, key, method, tolerance)\u001b[0m\n\u001b[1;32m   3801\u001b[0m             \u001b[0;32mtry\u001b[0m\u001b[0;34m:\u001b[0m\u001b[0;34m\u001b[0m\u001b[0;34m\u001b[0m\u001b[0m\n\u001b[0;32m-> 3802\u001b[0;31m                 \u001b[0;32mreturn\u001b[0m \u001b[0mself\u001b[0m\u001b[0;34m.\u001b[0m\u001b[0m_engine\u001b[0m\u001b[0;34m.\u001b[0m\u001b[0mget_loc\u001b[0m\u001b[0;34m(\u001b[0m\u001b[0mcasted_key\u001b[0m\u001b[0;34m)\u001b[0m\u001b[0;34m\u001b[0m\u001b[0;34m\u001b[0m\u001b[0m\n\u001b[0m\u001b[1;32m   3803\u001b[0m             \u001b[0;32mexcept\u001b[0m \u001b[0mKeyError\u001b[0m \u001b[0;32mas\u001b[0m \u001b[0merr\u001b[0m\u001b[0;34m:\u001b[0m\u001b[0;34m\u001b[0m\u001b[0;34m\u001b[0m\u001b[0m\n",
            "\u001b[0;32m/usr/local/lib/python3.10/dist-packages/pandas/_libs/index.pyx\u001b[0m in \u001b[0;36mpandas._libs.index.IndexEngine.get_loc\u001b[0;34m()\u001b[0m\n",
            "\u001b[0;32m/usr/local/lib/python3.10/dist-packages/pandas/_libs/index.pyx\u001b[0m in \u001b[0;36mpandas._libs.index.IndexEngine.get_loc\u001b[0;34m()\u001b[0m\n",
            "\u001b[0;32mpandas/_libs/hashtable_class_helper.pxi\u001b[0m in \u001b[0;36mpandas._libs.hashtable.PyObjectHashTable.get_item\u001b[0;34m()\u001b[0m\n",
            "\u001b[0;32mpandas/_libs/hashtable_class_helper.pxi\u001b[0m in \u001b[0;36mpandas._libs.hashtable.PyObjectHashTable.get_item\u001b[0;34m()\u001b[0m\n",
            "\u001b[0;31mKeyError\u001b[0m: 'Qualifies for Clean Alternative Fuel Vehicle?'",
            "\nThe above exception was the direct cause of the following exception:\n",
            "\u001b[0;31mKeyError\u001b[0m                                  Traceback (most recent call last)",
            "\u001b[0;32m<ipython-input-28-8e4b0a9f9211>\u001b[0m in \u001b[0;36m<cell line: 9>\u001b[0;34m()\u001b[0m\n\u001b[1;32m      7\u001b[0m \u001b[0;34m\u001b[0m\u001b[0m\n\u001b[1;32m      8\u001b[0m \u001b[0;31m# Get all the cars and their types that do not qualify for clean alternative fuel vehicle\u001b[0m\u001b[0;34m\u001b[0m\u001b[0;34m\u001b[0m\u001b[0m\n\u001b[0;32m----> 9\u001b[0;31m \u001b[0mnon_clean_fuel_cars\u001b[0m \u001b[0;34m=\u001b[0m \u001b[0mdf\u001b[0m\u001b[0;34m[\u001b[0m\u001b[0mdf\u001b[0m\u001b[0;34m[\u001b[0m\u001b[0;34m'Qualifies for Clean Alternative Fuel Vehicle?'\u001b[0m\u001b[0;34m]\u001b[0m \u001b[0;34m==\u001b[0m \u001b[0;34m'No'\u001b[0m\u001b[0;34m]\u001b[0m\u001b[0;34m\u001b[0m\u001b[0;34m\u001b[0m\u001b[0m\n\u001b[0m\u001b[1;32m     10\u001b[0m \u001b[0mprint\u001b[0m\u001b[0;34m(\u001b[0m\u001b[0;34m\"Cars and Types that do not qualify for clean alternative fuel vehicle:\"\u001b[0m\u001b[0;34m)\u001b[0m\u001b[0;34m\u001b[0m\u001b[0;34m\u001b[0m\u001b[0m\n\u001b[1;32m     11\u001b[0m \u001b[0mprint\u001b[0m\u001b[0;34m(\u001b[0m\u001b[0mnon_clean_fuel_cars\u001b[0m\u001b[0;34m[\u001b[0m\u001b[0;34m[\u001b[0m\u001b[0;34m'Make'\u001b[0m\u001b[0;34m,\u001b[0m \u001b[0;34m'Type'\u001b[0m\u001b[0;34m]\u001b[0m\u001b[0;34m]\u001b[0m\u001b[0;34m)\u001b[0m\u001b[0;34m\u001b[0m\u001b[0;34m\u001b[0m\u001b[0m\n",
            "\u001b[0;32m/usr/local/lib/python3.10/dist-packages/pandas/core/frame.py\u001b[0m in \u001b[0;36m__getitem__\u001b[0;34m(self, key)\u001b[0m\n\u001b[1;32m   3805\u001b[0m             \u001b[0;32mif\u001b[0m \u001b[0mself\u001b[0m\u001b[0;34m.\u001b[0m\u001b[0mcolumns\u001b[0m\u001b[0;34m.\u001b[0m\u001b[0mnlevels\u001b[0m \u001b[0;34m>\u001b[0m \u001b[0;36m1\u001b[0m\u001b[0;34m:\u001b[0m\u001b[0;34m\u001b[0m\u001b[0;34m\u001b[0m\u001b[0m\n\u001b[1;32m   3806\u001b[0m                 \u001b[0;32mreturn\u001b[0m \u001b[0mself\u001b[0m\u001b[0;34m.\u001b[0m\u001b[0m_getitem_multilevel\u001b[0m\u001b[0;34m(\u001b[0m\u001b[0mkey\u001b[0m\u001b[0;34m)\u001b[0m\u001b[0;34m\u001b[0m\u001b[0;34m\u001b[0m\u001b[0m\n\u001b[0;32m-> 3807\u001b[0;31m             \u001b[0mindexer\u001b[0m \u001b[0;34m=\u001b[0m \u001b[0mself\u001b[0m\u001b[0;34m.\u001b[0m\u001b[0mcolumns\u001b[0m\u001b[0;34m.\u001b[0m\u001b[0mget_loc\u001b[0m\u001b[0;34m(\u001b[0m\u001b[0mkey\u001b[0m\u001b[0;34m)\u001b[0m\u001b[0;34m\u001b[0m\u001b[0;34m\u001b[0m\u001b[0m\n\u001b[0m\u001b[1;32m   3808\u001b[0m             \u001b[0;32mif\u001b[0m \u001b[0mis_integer\u001b[0m\u001b[0;34m(\u001b[0m\u001b[0mindexer\u001b[0m\u001b[0;34m)\u001b[0m\u001b[0;34m:\u001b[0m\u001b[0;34m\u001b[0m\u001b[0;34m\u001b[0m\u001b[0m\n\u001b[1;32m   3809\u001b[0m                 \u001b[0mindexer\u001b[0m \u001b[0;34m=\u001b[0m \u001b[0;34m[\u001b[0m\u001b[0mindexer\u001b[0m\u001b[0;34m]\u001b[0m\u001b[0;34m\u001b[0m\u001b[0;34m\u001b[0m\u001b[0m\n",
            "\u001b[0;32m/usr/local/lib/python3.10/dist-packages/pandas/core/indexes/base.py\u001b[0m in \u001b[0;36mget_loc\u001b[0;34m(self, key, method, tolerance)\u001b[0m\n\u001b[1;32m   3802\u001b[0m                 \u001b[0;32mreturn\u001b[0m \u001b[0mself\u001b[0m\u001b[0;34m.\u001b[0m\u001b[0m_engine\u001b[0m\u001b[0;34m.\u001b[0m\u001b[0mget_loc\u001b[0m\u001b[0;34m(\u001b[0m\u001b[0mcasted_key\u001b[0m\u001b[0;34m)\u001b[0m\u001b[0;34m\u001b[0m\u001b[0;34m\u001b[0m\u001b[0m\n\u001b[1;32m   3803\u001b[0m             \u001b[0;32mexcept\u001b[0m \u001b[0mKeyError\u001b[0m \u001b[0;32mas\u001b[0m \u001b[0merr\u001b[0m\u001b[0;34m:\u001b[0m\u001b[0;34m\u001b[0m\u001b[0;34m\u001b[0m\u001b[0m\n\u001b[0;32m-> 3804\u001b[0;31m                 \u001b[0;32mraise\u001b[0m \u001b[0mKeyError\u001b[0m\u001b[0;34m(\u001b[0m\u001b[0mkey\u001b[0m\u001b[0;34m)\u001b[0m \u001b[0;32mfrom\u001b[0m \u001b[0merr\u001b[0m\u001b[0;34m\u001b[0m\u001b[0;34m\u001b[0m\u001b[0m\n\u001b[0m\u001b[1;32m   3805\u001b[0m             \u001b[0;32mexcept\u001b[0m \u001b[0mTypeError\u001b[0m\u001b[0;34m:\u001b[0m\u001b[0;34m\u001b[0m\u001b[0;34m\u001b[0m\u001b[0m\n\u001b[1;32m   3806\u001b[0m                 \u001b[0;31m# If we have a listlike key, _check_indexing_error will raise\u001b[0m\u001b[0;34m\u001b[0m\u001b[0;34m\u001b[0m\u001b[0m\n",
            "\u001b[0;31mKeyError\u001b[0m: 'Qualifies for Clean Alternative Fuel Vehicle?'"
          ]
        }
      ]
    },
    {
      "cell_type": "markdown",
      "source": [
        "Explanation:\n",
        "\n",
        "The program reads the data from the provided link using the read_csv() function from pandas.\n",
        "The program extracts the required information based on the given questions using filtering and conditional operations.\n",
        "The extracted data is printed to display the results.\n",
        "The program generates plots using matplotlib to visualize the distribution of electric vehicle types by city.\n",
        "By running the program, it will perform the data analysis and provide the answers to the questions. It will also display the plots to show the distribution between city and electric vehicle types for better visualization."
      ],
      "metadata": {
        "id": "oO7rHhFjneXd"
      }
    },
    {
      "cell_type": "code",
      "source": [
        "read_csv()"
      ],
      "metadata": {
        "colab": {
          "base_uri": "https://localhost:8080/",
          "height": 165
        },
        "id": "ZpdBrnoGnDY0",
        "outputId": "99b7b70f-ca64-481f-c2c4-89f65d066256"
      },
      "execution_count": null,
      "outputs": [
        {
          "output_type": "error",
          "ename": "NameError",
          "evalue": "ignored",
          "traceback": [
            "\u001b[0;31m---------------------------------------------------------------------------\u001b[0m",
            "\u001b[0;31mNameError\u001b[0m                                 Traceback (most recent call last)",
            "\u001b[0;32m<ipython-input-31-5e2f59876f12>\u001b[0m in \u001b[0;36m<cell line: 1>\u001b[0;34m()\u001b[0m\n\u001b[0;32m----> 1\u001b[0;31m \u001b[0mread_csv\u001b[0m\u001b[0;34m(\u001b[0m\u001b[0;34m)\u001b[0m\u001b[0;34m\u001b[0m\u001b[0;34m\u001b[0m\u001b[0m\n\u001b[0m",
            "\u001b[0;31mNameError\u001b[0m: name 'read_csv' is not defined"
          ]
        }
      ]
    },
    {
      "cell_type": "markdown",
      "source": [
        "Question 10 - \n",
        "Write a program to count the number of verbs, nouns, pronouns, and adjectives in a given particular phrase or paragraph, and return their respective count as a dictionary. \n",
        "Note - \n",
        "1. Write code comments wherever required for code \n",
        "2. You have to write at least 2 additional test cases in which your program will run successfully and provide an explanation for the same.\n",
        "Example Output -\n",
        " dic = {\n",
        "\n",
        "\"nouns\": \"count of nouns\",\n",
        "\n",
        "\"pronouns\": \"count of pronouns\",\n",
        "\n",
        "\"verba\": \"count of verbs\",\n",
        "\n",
        "\"adjectives\": \"count of adjectives\""
      ],
      "metadata": {
        "id": "TmoWhJBToElh"
      }
    },
    {
      "cell_type": "code",
      "source": [
        "import nltk\n",
        "from nltk import pos_tag\n",
        "from nltk.tokenize import word_tokenize\n",
        "\n",
        "def count_pos_tags(phrase):\n",
        "    # Tokenize the phrase into words\n",
        "    words = word_tokenize(phrase)\n",
        "\n",
        "    # Perform part-of-speech tagging\n",
        "    tagged_words = pos_tag(words)\n",
        "\n",
        "    # Initialize counts for each POS tag category\n",
        "    noun_count = 0\n",
        "    pronoun_count = 0\n",
        "    verb_count = 0\n",
        "    adjective_count = 0\n",
        "\n",
        "    # Count the number of words in each category\n",
        "    for word, tag in tagged_words:\n",
        "        if tag.startswith('NN'):  # Nouns\n",
        "            noun_count += 1\n",
        "        elif tag.startswith('PR'):  # Pronouns\n",
        "            pronoun_count += 1\n",
        "        elif tag.startswith('VB'):  # Verbs\n",
        "            verb_count += 1\n",
        "        elif tag.startswith('JJ'):  # Adjectives\n",
        "            adjective_count += 1\n",
        "\n",
        "    # Create a dictionary to store the counts\n",
        "    pos_counts = {\n",
        "        \"nouns\": noun_count,\n",
        "        \"pronouns\": pronoun_count,\n",
        "        \"verbs\": verb_count,\n",
        "        \"adjectives\": adjective_count\n",
        "    }\n",
        "\n",
        "    return pos_counts\n"
      ],
      "metadata": {
        "id": "50RObof6nmBN"
      },
      "execution_count": null,
      "outputs": []
    },
    {
      "cell_type": "code",
      "source": [
        "# Example phrases\n",
        "phrase1 = \"The cat sat on the mat.\"\n",
        "phrase2 = \"She is eating an apple while watching TV.\"\n",
        "\n",
        "# Count POS tags for each phrase\n",
        "counts1 = count_pos_tags(phrase1)\n",
        "counts2 = count_pos_tags(phrase2)\n",
        "\n",
        "# Print the counts\n",
        "print(\"Counts for phrase 1:\")\n",
        "print(counts1)\n",
        "\n",
        "print(\"Counts for phrase 2:\")\n",
        "print(counts2)\n"
      ],
      "metadata": {
        "colab": {
          "base_uri": "https://localhost:8080/",
          "height": 779
        },
        "id": "M7c-a9GEoHU_",
        "outputId": "c393b426-ce27-4af6-c53b-be69059c6717"
      },
      "execution_count": null,
      "outputs": [
        {
          "output_type": "error",
          "ename": "LookupError",
          "evalue": "ignored",
          "traceback": [
            "\u001b[0;31m---------------------------------------------------------------------------\u001b[0m",
            "\u001b[0;31mLookupError\u001b[0m                               Traceback (most recent call last)",
            "\u001b[0;32m<ipython-input-33-42584cec47c2>\u001b[0m in \u001b[0;36m<cell line: 6>\u001b[0;34m()\u001b[0m\n\u001b[1;32m      4\u001b[0m \u001b[0;34m\u001b[0m\u001b[0m\n\u001b[1;32m      5\u001b[0m \u001b[0;31m# Count POS tags for each phrase\u001b[0m\u001b[0;34m\u001b[0m\u001b[0;34m\u001b[0m\u001b[0m\n\u001b[0;32m----> 6\u001b[0;31m \u001b[0mcounts1\u001b[0m \u001b[0;34m=\u001b[0m \u001b[0mcount_pos_tags\u001b[0m\u001b[0;34m(\u001b[0m\u001b[0mphrase1\u001b[0m\u001b[0;34m)\u001b[0m\u001b[0;34m\u001b[0m\u001b[0;34m\u001b[0m\u001b[0m\n\u001b[0m\u001b[1;32m      7\u001b[0m \u001b[0mcounts2\u001b[0m \u001b[0;34m=\u001b[0m \u001b[0mcount_pos_tags\u001b[0m\u001b[0;34m(\u001b[0m\u001b[0mphrase2\u001b[0m\u001b[0;34m)\u001b[0m\u001b[0;34m\u001b[0m\u001b[0;34m\u001b[0m\u001b[0m\n\u001b[1;32m      8\u001b[0m \u001b[0;34m\u001b[0m\u001b[0m\n",
            "\u001b[0;32m<ipython-input-32-400918ef5c3e>\u001b[0m in \u001b[0;36mcount_pos_tags\u001b[0;34m(phrase)\u001b[0m\n\u001b[1;32m      5\u001b[0m \u001b[0;32mdef\u001b[0m \u001b[0mcount_pos_tags\u001b[0m\u001b[0;34m(\u001b[0m\u001b[0mphrase\u001b[0m\u001b[0;34m)\u001b[0m\u001b[0;34m:\u001b[0m\u001b[0;34m\u001b[0m\u001b[0;34m\u001b[0m\u001b[0m\n\u001b[1;32m      6\u001b[0m     \u001b[0;31m# Tokenize the phrase into words\u001b[0m\u001b[0;34m\u001b[0m\u001b[0;34m\u001b[0m\u001b[0m\n\u001b[0;32m----> 7\u001b[0;31m     \u001b[0mwords\u001b[0m \u001b[0;34m=\u001b[0m \u001b[0mword_tokenize\u001b[0m\u001b[0;34m(\u001b[0m\u001b[0mphrase\u001b[0m\u001b[0;34m)\u001b[0m\u001b[0;34m\u001b[0m\u001b[0;34m\u001b[0m\u001b[0m\n\u001b[0m\u001b[1;32m      8\u001b[0m \u001b[0;34m\u001b[0m\u001b[0m\n\u001b[1;32m      9\u001b[0m     \u001b[0;31m# Perform part-of-speech tagging\u001b[0m\u001b[0;34m\u001b[0m\u001b[0;34m\u001b[0m\u001b[0m\n",
            "\u001b[0;32m/usr/local/lib/python3.10/dist-packages/nltk/tokenize/__init__.py\u001b[0m in \u001b[0;36mword_tokenize\u001b[0;34m(text, language, preserve_line)\u001b[0m\n\u001b[1;32m    127\u001b[0m     \u001b[0;34m:\u001b[0m\u001b[0mtype\u001b[0m \u001b[0mpreserve_line\u001b[0m\u001b[0;34m:\u001b[0m \u001b[0mbool\u001b[0m\u001b[0;34m\u001b[0m\u001b[0;34m\u001b[0m\u001b[0m\n\u001b[1;32m    128\u001b[0m     \"\"\"\n\u001b[0;32m--> 129\u001b[0;31m     \u001b[0msentences\u001b[0m \u001b[0;34m=\u001b[0m \u001b[0;34m[\u001b[0m\u001b[0mtext\u001b[0m\u001b[0;34m]\u001b[0m \u001b[0;32mif\u001b[0m \u001b[0mpreserve_line\u001b[0m \u001b[0;32melse\u001b[0m \u001b[0msent_tokenize\u001b[0m\u001b[0;34m(\u001b[0m\u001b[0mtext\u001b[0m\u001b[0;34m,\u001b[0m \u001b[0mlanguage\u001b[0m\u001b[0;34m)\u001b[0m\u001b[0;34m\u001b[0m\u001b[0;34m\u001b[0m\u001b[0m\n\u001b[0m\u001b[1;32m    130\u001b[0m     return [\n\u001b[1;32m    131\u001b[0m         \u001b[0mtoken\u001b[0m \u001b[0;32mfor\u001b[0m \u001b[0msent\u001b[0m \u001b[0;32min\u001b[0m \u001b[0msentences\u001b[0m \u001b[0;32mfor\u001b[0m \u001b[0mtoken\u001b[0m \u001b[0;32min\u001b[0m \u001b[0m_treebank_word_tokenizer\u001b[0m\u001b[0;34m.\u001b[0m\u001b[0mtokenize\u001b[0m\u001b[0;34m(\u001b[0m\u001b[0msent\u001b[0m\u001b[0;34m)\u001b[0m\u001b[0;34m\u001b[0m\u001b[0;34m\u001b[0m\u001b[0m\n",
            "\u001b[0;32m/usr/local/lib/python3.10/dist-packages/nltk/tokenize/__init__.py\u001b[0m in \u001b[0;36msent_tokenize\u001b[0;34m(text, language)\u001b[0m\n\u001b[1;32m    104\u001b[0m     \u001b[0;34m:\u001b[0m\u001b[0mparam\u001b[0m \u001b[0mlanguage\u001b[0m\u001b[0;34m:\u001b[0m \u001b[0mthe\u001b[0m \u001b[0mmodel\u001b[0m \u001b[0mname\u001b[0m \u001b[0;32min\u001b[0m \u001b[0mthe\u001b[0m \u001b[0mPunkt\u001b[0m \u001b[0mcorpus\u001b[0m\u001b[0;34m\u001b[0m\u001b[0;34m\u001b[0m\u001b[0m\n\u001b[1;32m    105\u001b[0m     \"\"\"\n\u001b[0;32m--> 106\u001b[0;31m     \u001b[0mtokenizer\u001b[0m \u001b[0;34m=\u001b[0m \u001b[0mload\u001b[0m\u001b[0;34m(\u001b[0m\u001b[0;34mf\"tokenizers/punkt/{language}.pickle\"\u001b[0m\u001b[0;34m)\u001b[0m\u001b[0;34m\u001b[0m\u001b[0;34m\u001b[0m\u001b[0m\n\u001b[0m\u001b[1;32m    107\u001b[0m     \u001b[0;32mreturn\u001b[0m \u001b[0mtokenizer\u001b[0m\u001b[0;34m.\u001b[0m\u001b[0mtokenize\u001b[0m\u001b[0;34m(\u001b[0m\u001b[0mtext\u001b[0m\u001b[0;34m)\u001b[0m\u001b[0;34m\u001b[0m\u001b[0;34m\u001b[0m\u001b[0m\n\u001b[1;32m    108\u001b[0m \u001b[0;34m\u001b[0m\u001b[0m\n",
            "\u001b[0;32m/usr/local/lib/python3.10/dist-packages/nltk/data.py\u001b[0m in \u001b[0;36mload\u001b[0;34m(resource_url, format, cache, verbose, logic_parser, fstruct_reader, encoding)\u001b[0m\n\u001b[1;32m    748\u001b[0m \u001b[0;34m\u001b[0m\u001b[0m\n\u001b[1;32m    749\u001b[0m     \u001b[0;31m# Load the resource.\u001b[0m\u001b[0;34m\u001b[0m\u001b[0;34m\u001b[0m\u001b[0m\n\u001b[0;32m--> 750\u001b[0;31m     \u001b[0mopened_resource\u001b[0m \u001b[0;34m=\u001b[0m \u001b[0m_open\u001b[0m\u001b[0;34m(\u001b[0m\u001b[0mresource_url\u001b[0m\u001b[0;34m)\u001b[0m\u001b[0;34m\u001b[0m\u001b[0;34m\u001b[0m\u001b[0m\n\u001b[0m\u001b[1;32m    751\u001b[0m \u001b[0;34m\u001b[0m\u001b[0m\n\u001b[1;32m    752\u001b[0m     \u001b[0;32mif\u001b[0m \u001b[0mformat\u001b[0m \u001b[0;34m==\u001b[0m \u001b[0;34m\"raw\"\u001b[0m\u001b[0;34m:\u001b[0m\u001b[0;34m\u001b[0m\u001b[0;34m\u001b[0m\u001b[0m\n",
            "\u001b[0;32m/usr/local/lib/python3.10/dist-packages/nltk/data.py\u001b[0m in \u001b[0;36m_open\u001b[0;34m(resource_url)\u001b[0m\n\u001b[1;32m    874\u001b[0m \u001b[0;34m\u001b[0m\u001b[0m\n\u001b[1;32m    875\u001b[0m     \u001b[0;32mif\u001b[0m \u001b[0mprotocol\u001b[0m \u001b[0;32mis\u001b[0m \u001b[0;32mNone\u001b[0m \u001b[0;32mor\u001b[0m \u001b[0mprotocol\u001b[0m\u001b[0;34m.\u001b[0m\u001b[0mlower\u001b[0m\u001b[0;34m(\u001b[0m\u001b[0;34m)\u001b[0m \u001b[0;34m==\u001b[0m \u001b[0;34m\"nltk\"\u001b[0m\u001b[0;34m:\u001b[0m\u001b[0;34m\u001b[0m\u001b[0;34m\u001b[0m\u001b[0m\n\u001b[0;32m--> 876\u001b[0;31m         \u001b[0;32mreturn\u001b[0m \u001b[0mfind\u001b[0m\u001b[0;34m(\u001b[0m\u001b[0mpath_\u001b[0m\u001b[0;34m,\u001b[0m \u001b[0mpath\u001b[0m \u001b[0;34m+\u001b[0m \u001b[0;34m[\u001b[0m\u001b[0;34m\"\"\u001b[0m\u001b[0;34m]\u001b[0m\u001b[0;34m)\u001b[0m\u001b[0;34m.\u001b[0m\u001b[0mopen\u001b[0m\u001b[0;34m(\u001b[0m\u001b[0;34m)\u001b[0m\u001b[0;34m\u001b[0m\u001b[0;34m\u001b[0m\u001b[0m\n\u001b[0m\u001b[1;32m    877\u001b[0m     \u001b[0;32melif\u001b[0m \u001b[0mprotocol\u001b[0m\u001b[0;34m.\u001b[0m\u001b[0mlower\u001b[0m\u001b[0;34m(\u001b[0m\u001b[0;34m)\u001b[0m \u001b[0;34m==\u001b[0m \u001b[0;34m\"file\"\u001b[0m\u001b[0;34m:\u001b[0m\u001b[0;34m\u001b[0m\u001b[0;34m\u001b[0m\u001b[0m\n\u001b[1;32m    878\u001b[0m         \u001b[0;31m# urllib might not use mode='rb', so handle this one ourselves:\u001b[0m\u001b[0;34m\u001b[0m\u001b[0;34m\u001b[0m\u001b[0m\n",
            "\u001b[0;32m/usr/local/lib/python3.10/dist-packages/nltk/data.py\u001b[0m in \u001b[0;36mfind\u001b[0;34m(resource_name, paths)\u001b[0m\n\u001b[1;32m    581\u001b[0m     \u001b[0msep\u001b[0m \u001b[0;34m=\u001b[0m \u001b[0;34m\"*\"\u001b[0m \u001b[0;34m*\u001b[0m \u001b[0;36m70\u001b[0m\u001b[0;34m\u001b[0m\u001b[0;34m\u001b[0m\u001b[0m\n\u001b[1;32m    582\u001b[0m     \u001b[0mresource_not_found\u001b[0m \u001b[0;34m=\u001b[0m \u001b[0;34mf\"\\n{sep}\\n{msg}\\n{sep}\\n\"\u001b[0m\u001b[0;34m\u001b[0m\u001b[0;34m\u001b[0m\u001b[0m\n\u001b[0;32m--> 583\u001b[0;31m     \u001b[0;32mraise\u001b[0m \u001b[0mLookupError\u001b[0m\u001b[0;34m(\u001b[0m\u001b[0mresource_not_found\u001b[0m\u001b[0;34m)\u001b[0m\u001b[0;34m\u001b[0m\u001b[0;34m\u001b[0m\u001b[0m\n\u001b[0m\u001b[1;32m    584\u001b[0m \u001b[0;34m\u001b[0m\u001b[0m\n\u001b[1;32m    585\u001b[0m \u001b[0;34m\u001b[0m\u001b[0m\n",
            "\u001b[0;31mLookupError\u001b[0m: \n**********************************************************************\n  Resource \u001b[93mpunkt\u001b[0m not found.\n  Please use the NLTK Downloader to obtain the resource:\n\n  \u001b[31m>>> import nltk\n  >>> nltk.download('punkt')\n  \u001b[0m\n  For more information see: https://www.nltk.org/data.html\n\n  Attempted to load \u001b[93mtokenizers/punkt/PY3/english.pickle\u001b[0m\n\n  Searched in:\n    - '/root/nltk_data'\n    - '/usr/nltk_data'\n    - '/usr/share/nltk_data'\n    - '/usr/lib/nltk_data'\n    - '/usr/share/nltk_data'\n    - '/usr/local/share/nltk_data'\n    - '/usr/lib/nltk_data'\n    - '/usr/local/lib/nltk_data'\n    - ''\n**********************************************************************\n"
          ]
        }
      ]
    },
    {
      "cell_type": "code",
      "source": [],
      "metadata": {
        "id": "RJbEfKIyoJU_"
      },
      "execution_count": null,
      "outputs": []
    }
  ]
}