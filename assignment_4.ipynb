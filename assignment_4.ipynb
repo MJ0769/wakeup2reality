{
  "nbformat": 4,
  "nbformat_minor": 0,
  "metadata": {
    "colab": {
      "provenance": [],
      "authorship_tag": "ABX9TyOachc/jxK20n/9fz/QwbjG",
      "include_colab_link": true
    },
    "kernelspec": {
      "name": "python3",
      "display_name": "Python 3"
    },
    "language_info": {
      "name": "python"
    }
  },
  "cells": [
    {
      "cell_type": "markdown",
      "metadata": {
        "id": "view-in-github",
        "colab_type": "text"
      },
      "source": [
        "<a href=\"https://colab.research.google.com/github/MJ0769/wakeup2reality/blob/main/assignment_4.ipynb\" target=\"_parent\"><img src=\"https://colab.research.google.com/assets/colab-badge.svg\" alt=\"Open In Colab\"/></a>"
      ]
    },
    {
      "cell_type": "markdown",
      "source": [
        "#1.what is exactly [] ?\n"
      ],
      "metadata": {
        "id": "TCxtrgub6o_u"
      }
    },
    {
      "cell_type": "markdown",
      "source": [
        "Ans: The empty list represented by [] is a list that contains no items. This is similar to '' which represents an empty string"
      ],
      "metadata": {
        "id": "Yc4agi6h64_u"
      }
    },
    {
      "cell_type": "markdown",
      "source": [
        "#2.In a list of values stored in a variable called spam, how would you assign the value 'hello' as the third value? (Assume [2, 4, 6, 8, 10] are in spam.)"
      ],
      "metadata": {
        "id": "l-dZTAKb79B-"
      }
    },
    {
      "cell_type": "markdown",
      "source": [
        "Ans: spam[2]='hello' (Note: Lists follows zero based indexing)\n"
      ],
      "metadata": {
        "id": "ZCu4Abjf8CN_"
      }
    },
    {
      "cell_type": "code",
      "source": [
        "# Example\n",
        "spam=[2,4,6,8,10]\n",
        "print(spam)\n",
        "spam[2]='hello' #List uses zero based indexing\n",
        "print(spam)"
      ],
      "metadata": {
        "colab": {
          "base_uri": "https://localhost:8080/"
        },
        "id": "1xmUisyN73n_",
        "outputId": "e7b5e6cb-429f-41ae-b473-271a9315b52f"
      },
      "execution_count": 2,
      "outputs": [
        {
          "output_type": "stream",
          "name": "stdout",
          "text": [
            "[2, 4, 6, 8, 10]\n",
            "[2, 4, 'hello', 8, 10]\n"
          ]
        }
      ]
    },
    {
      "cell_type": "markdown",
      "source": [
        "#Let's pretend the spam includes the list ['a','b','c',d'] for the next three queries.\n"
      ],
      "metadata": {
        "id": "lUeTuuBq8eDp"
      }
    },
    {
      "cell_type": "markdown",
      "source": [
        "3. What is the value of spam[int(int('3'*2)//11)] ?\n",
        "\n",
        "Ans: 'd' (Note that '3' * 2 is the string '33', which is passed to int() before being divided by 11. This eventually evaluates to 3, spam[3] is equal to d.)"
      ],
      "metadata": {
        "id": "Ril_BTJC8jUH"
      }
    },
    {
      "cell_type": "code",
      "source": [
        "spam=['a','b','c','d']\n",
        "print(\"spam[int(int('3'*2)//11)] ->\",spam[int(int('3'*2)//11)])"
      ],
      "metadata": {
        "colab": {
          "base_uri": "https://localhost:8080/"
        },
        "id": "r0elRdsd8axv",
        "outputId": "e3701d6f-19f2-4843-c162-da9a3b79ad42"
      },
      "execution_count": 3,
      "outputs": [
        {
          "output_type": "stream",
          "name": "stdout",
          "text": [
            "spam[int(int('3'*2)//11)] -> d\n"
          ]
        }
      ]
    },
    {
      "cell_type": "markdown",
      "source": [
        "4. What is the value of spam[-1]?\n",
        "\n",
        "Ans: 'd' (Lists support Negative indexing, Hence spam[-1] returs 'd')"
      ],
      "metadata": {
        "id": "YgHazacf8tds"
      }
    },
    {
      "cell_type": "code",
      "source": [
        "spam=['a','b','c','d']\n",
        "print('spam[-1] -> ',spam[-1])"
      ],
      "metadata": {
        "colab": {
          "base_uri": "https://localhost:8080/"
        },
        "id": "35MV7R0o8qd9",
        "outputId": "b73719cf-a4d3-4899-e75f-90099329beec"
      },
      "execution_count": 4,
      "outputs": [
        {
          "output_type": "stream",
          "name": "stdout",
          "text": [
            "spam[-1] ->  d\n"
          ]
        }
      ]
    },
    {
      "cell_type": "markdown",
      "source": [
        "5. What is the value of spam[:2]?\n",
        "\n",
        "Ans: spam[:2] returns all elements in the list spam from 0 to 2 excluding 2"
      ],
      "metadata": {
        "id": "1CS6pv3d8zaA"
      }
    },
    {
      "cell_type": "code",
      "source": [
        "print(spam)\n",
        "print(spam[:2])"
      ],
      "metadata": {
        "colab": {
          "base_uri": "https://localhost:8080/"
        },
        "id": "zhWNA_a_8wsJ",
        "outputId": "b811d505-bd87-441f-fe3b-f150c65946ef"
      },
      "execution_count": 5,
      "outputs": [
        {
          "output_type": "stream",
          "name": "stdout",
          "text": [
            "['a', 'b', 'c', 'd']\n",
            "['a', 'b']\n"
          ]
        }
      ]
    },
    {
      "cell_type": "markdown",
      "source": [
        "#Let's pretend bacon has the list [3.14,'cat',11,'cat',True] for the next three question"
      ],
      "metadata": {
        "id": "Hg5A3ezT8_sL"
      }
    },
    {
      "cell_type": "markdown",
      "source": [
        "6. What is the value of bacon.index('cat')?\n",
        "\n",
        "Ans: The value of bacon.index('cat') is 1 (Note: index method returns the index of first occuerence of 'cat')"
      ],
      "metadata": {
        "id": "mLc-ZbI49FrT"
      }
    },
    {
      "cell_type": "code",
      "source": [
        "bacon=[3.14,'cat',11,'cat',True]\n",
        "print(\"bacon.index('cat') ->\",bacon.index('cat'))"
      ],
      "metadata": {
        "colab": {
          "base_uri": "https://localhost:8080/"
        },
        "id": "htLoNmUJ89XF",
        "outputId": "21eeefc3-748e-4023-d587-10f882954184"
      },
      "execution_count": 7,
      "outputs": [
        {
          "output_type": "stream",
          "name": "stdout",
          "text": [
            "bacon.index('cat') -> 1\n"
          ]
        }
      ]
    },
    {
      "cell_type": "markdown",
      "source": [
        "7. How does bacon.append(99) change the look of the list value in bacon?\n",
        "\n",
        "Ans: The append method adds new elements to the end of the list"
      ],
      "metadata": {
        "id": "sqGTdzOs9QNr"
      }
    },
    {
      "cell_type": "code",
      "source": [
        "# Example\n",
        "print(bacon)\n",
        "bacon.append(99) # appends 99 to the end of the list\n",
        "print(bacon)"
      ],
      "metadata": {
        "colab": {
          "base_uri": "https://localhost:8080/"
        },
        "id": "08zEYs049KGf",
        "outputId": "27915b66-5555-4ee3-c8b0-8e5a0abcd523"
      },
      "execution_count": 8,
      "outputs": [
        {
          "output_type": "stream",
          "name": "stdout",
          "text": [
            "[3.14, 'cat', 11, 'cat', True]\n",
            "[3.14, 'cat', 11, 'cat', True, 99]\n"
          ]
        }
      ]
    },
    {
      "cell_type": "markdown",
      "source": [
        "8. How does bacon.remove('cat') change the look of the list in bacon?\n",
        "\n",
        "Ans: The remove method removes the first occurence of the element in the list"
      ],
      "metadata": {
        "id": "iQSQCfSM9W-E"
      }
    },
    {
      "cell_type": "code",
      "source": [
        "print(bacon)\n",
        "bacon.remove('cat')\n",
        "print(bacon)"
      ],
      "metadata": {
        "colab": {
          "base_uri": "https://localhost:8080/"
        },
        "id": "MAIxYnyz9UKS",
        "outputId": "d79c503d-1799-4c94-c018-bf3fc422a466"
      },
      "execution_count": 9,
      "outputs": [
        {
          "output_type": "stream",
          "name": "stdout",
          "text": [
            "[3.14, 'cat', 11, 'cat', True, 99]\n",
            "[3.14, 11, 'cat', True, 99]\n"
          ]
        }
      ]
    },
    {
      "cell_type": "markdown",
      "source": [
        "9.what are the list concatenation and list replication operations?\n",
        "\n",
        "Ans: The operator for list concatenation is +, while the operator for replication is *. (This is the same as for strings.)"
      ],
      "metadata": {
        "id": "_wW9g6e29czx"
      }
    },
    {
      "cell_type": "code",
      "source": [
        "# Example\n",
        "list_1 = ['ML','DL','AI','CV','NLP']\n",
        "list_2 = ['RNN','CNN','SVN']\n",
        "print(list_1 + list_2) # List Concatenation\n",
        "print(list_2*2) # List Replication"
      ],
      "metadata": {
        "colab": {
          "base_uri": "https://localhost:8080/"
        },
        "id": "mpHcU38f9aL2",
        "outputId": "95263c5f-ac80-4f62-b94b-4066b5d7bfeb"
      },
      "execution_count": 10,
      "outputs": [
        {
          "output_type": "stream",
          "name": "stdout",
          "text": [
            "['ML', 'DL', 'AI', 'CV', 'NLP', 'RNN', 'CNN', 'SVN']\n",
            "['RNN', 'CNN', 'SVN', 'RNN', 'CNN', 'SVN']\n"
          ]
        }
      ]
    },
    {
      "cell_type": "markdown",
      "source": [
        "10.what is the difference between the list method append() and insert()?\n",
        "\n",
        "Ans: While append() will add values only to the end of a list, insert() can add them anywhere in the list."
      ],
      "metadata": {
        "id": "TChDOoT49j3P"
      }
    },
    {
      "cell_type": "code",
      "source": [
        "#Examples\n",
        "list = [1,2,3,4,5]\n",
        "list.append(6)\n",
        "print(list)\n",
        "list.insert(2,'Demo')\n",
        "print(list)"
      ],
      "metadata": {
        "colab": {
          "base_uri": "https://localhost:8080/"
        },
        "id": "CKPHm8i59hhd",
        "outputId": "837511cf-942a-4b0f-fbcb-d19cdcfffa0d"
      },
      "execution_count": 11,
      "outputs": [
        {
          "output_type": "stream",
          "name": "stdout",
          "text": [
            "[1, 2, 3, 4, 5, 6]\n",
            "[1, 2, 'Demo', 3, 4, 5, 6]\n"
          ]
        }
      ]
    },
    {
      "cell_type": "markdown",
      "source": [
        "11. What are the two methods for removing items from a list?\n",
        "\n",
        "Ans: The del statement and the remove() method are two ways to remove values from a list\n",
        "\n",
        "12. Describe how list values and string values are identical.\n",
        "\n",
        "Ans: Both lists and strings can be passed to len() function, have indexes and slices, be used in for loops, be concatenated or replicated, and be used with the in and not in operators.\n",
        "\n",
        "13. What's the difference between tuples and lists?\n",
        "\n",
        "Ans: Lists are Mutable, Indexable and Slicable. they can have values added, removed, or changed. Tuples are Immutable but Indexable and Slicable. the tuple values cannot be changed at all. Also, tuples are represented using parentheses, (), while lists use the square brackets, [].\n",
        "\n",
        "14. How do you type a tuple value that only contains the integer 42?\n",
        "\n",
        "Ans:(42,) (The trailing comma is mandatory. otherwise its considered as a int by python Interpreter)"
      ],
      "metadata": {
        "id": "Znr5zhgv9pNX"
      }
    },
    {
      "cell_type": "code",
      "source": [
        "tup1=(42)\n",
        "tup2=(42,)\n",
        "print(type(tup1))\n",
        "print(type(tup2))"
      ],
      "metadata": {
        "colab": {
          "base_uri": "https://localhost:8080/"
        },
        "id": "6pWsBu8K9mmn",
        "outputId": "e2a51b9a-75e7-4c1b-e900-93f8460cc0ef"
      },
      "execution_count": 12,
      "outputs": [
        {
          "output_type": "stream",
          "name": "stdout",
          "text": [
            "<class 'int'>\n",
            "<class 'tuple'>\n"
          ]
        }
      ]
    },
    {
      "cell_type": "markdown",
      "source": [
        "15. How do you get a list value's tuple form? How do you get a tuple value's list form?\n",
        "\n",
        "Ans: The tuple() and list() functions, respectively are used to convert a list to tuple and vice versa\n",
        "\n",
        "16. Variables that \"contain\" list values are not necessarily lists themselves. Instead, what do they contain?\n",
        "\n",
        "Ans: They contain references to list values.\n",
        "\n",
        "17. How do you distinguish between copy.copy() and copy.deepcopy()?\n",
        "\n",
        "Ans: The copy.copy() function will do a shallow copy of a list, while the copy.deepcopy() function will do a deep copy of a list. That is, only copy.deepcopy() will duplicate any lists inside the list."
      ],
      "metadata": {
        "id": "7X0KB0ih9yF1"
      }
    },
    {
      "cell_type": "code",
      "source": [],
      "metadata": {
        "id": "V-9k5Eyh9vK5"
      },
      "execution_count": null,
      "outputs": []
    }
  ]
}