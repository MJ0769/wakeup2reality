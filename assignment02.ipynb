{
  "nbformat": 4,
  "nbformat_minor": 0,
  "metadata": {
    "colab": {
      "provenance": [],
      "collapsed_sections": []
    },
    "kernelspec": {
      "name": "python3",
      "display_name": "Python 3"
    },
    "language_info": {
      "name": "python"
    }
  },
  "cells": [
    {
      "cell_type": "markdown",
      "source": [
        "#1. What is indentation error? Why indentation is important? Give one simple example? \n",
        "indentation error appears in a python code when the spaces and tabs are not placed correctly in a code.  If there is an error due to indentation, it will come in between the execution.\n",
        "for eg."
      ],
      "metadata": {
        "id": "kyvl9t7evZ9M"
      }
    },
    {
      "cell_type": "code",
      "source": [
        "raining = False \n",
        "if raining:\n",
        "print(\"lets have tea\")\n",
        "else:\n",
        "  print(\"lets have pakodas\")"
      ],
      "metadata": {
        "colab": {
          "base_uri": "https://localhost:8080/",
          "height": 130
        },
        "id": "qsIcvdTgvzeP",
        "outputId": "1a8d2111-a238-4d60-fbe9-fd2633c38364"
      },
      "execution_count": null,
      "outputs": [
        {
          "output_type": "error",
          "ename": "IndentationError",
          "evalue": "ignored",
          "traceback": [
            "\u001b[0;36m  File \u001b[0;32m\"<ipython-input-100-e64d5be0fedb>\"\u001b[0;36m, line \u001b[0;32m3\u001b[0m\n\u001b[0;31m    print(\"lets have tea\")\u001b[0m\n\u001b[0m        ^\u001b[0m\n\u001b[0;31mIndentationError\u001b[0m\u001b[0;31m:\u001b[0m expected an indented block\n"
          ]
        }
      ]
    },
    {
      "cell_type": "markdown",
      "source": [
        "#5.What would be the solution?\n",
        "\n",
        "True\n",
        "\n",
        "False\n",
        "\n",
        "a = 6\n",
        "b = 10\n",
        "print( not ( not a == 10 or not b == 10) )"
      ],
      "metadata": {
        "id": "EiOMB7WRxxHe"
      }
    },
    {
      "cell_type": "markdown",
      "source": [],
      "metadata": {
        "id": "jw514nTpx0gX"
      }
    },
    {
      "cell_type": "code",
      "source": [
        "a = 6\n",
        "b = 10\n",
        "print( not ( not a == 10 or not b == 10) )"
      ],
      "metadata": {
        "colab": {
          "base_uri": "https://localhost:8080/"
        },
        "id": "kTUBy6Bb2vnt",
        "outputId": "032aa9e2-0aea-47e3-88e1-7e4054398d4f"
      },
      "execution_count": null,
      "outputs": [
        {
          "output_type": "stream",
          "name": "stdout",
          "text": [
            "False\n"
          ]
        }
      ]
    },
    {
      "cell_type": "markdown",
      "source": [
        "#2. Correct the following code and write the comment where you made the correction?\n",
        "\n",
        "class_started = bool(input(\"Hey friend, is class started?: [0-False/1-True]\"))\n",
        "\n",
        "if class_started:\n",
        "   print(\"Since class started...\")\n",
        "   print(\"Lets concentrate\")\n",
        "else:\n",
        "   print(\"Since class is not started...\")\n",
        "   print(\"let's revise\")    "
      ],
      "metadata": {
        "id": "1dWcmWb47DO6"
      }
    },
    {
      "cell_type": "code",
      "source": [
        "class_started = bool(int(input(\"Hey friend, is class started?: [0-False/1-True]\")))\n",
        "\n",
        "if class_started:\n",
        "   print(\"Since class started...\")\n",
        "   print(\"Lets concentrate\")\n",
        "else:\n",
        "   print(\"Since class is not started...\")\n",
        "   print(\"let's revise\")    "
      ],
      "metadata": {
        "colab": {
          "base_uri": "https://localhost:8080/"
        },
        "id": "PsfNkqXT7Q7k",
        "outputId": "63011aa8-f2cc-45ae-c908-382d5fa578ba"
      },
      "execution_count": null,
      "outputs": [
        {
          "output_type": "stream",
          "name": "stdout",
          "text": [
            "Hey friend, is class started?: [0-False/1-True]0\n",
            "Since class is not started...\n",
            "let's revise\n"
          ]
        }
      ]
    },
    {
      "cell_type": "markdown",
      "source": [
        "here the problem was in the first line of code as the input is by default in a string so the output was coming as true as we run the code even if the input was false so to tackle this issue we put int after bool to convert it into integer hence our problem is solved \n"
      ],
      "metadata": {
        "id": "HvOqVC2D7vs2"
      }
    },
    {
      "cell_type": "markdown",
      "source": [
        "#3.Use if else condition to verify that dataype of input() method in python is always string\n"
      ],
      "metadata": {
        "id": "h9KkWjxK6Wts"
      }
    },
    {
      "cell_type": "code",
      "source": [
        "age = input(\"enter your age: \")\n",
        "\n",
        "if age >= 18:\n",
        "  print(\"adult\")\n",
        "else:\n",
        "  print(\"minor\")   "
      ],
      "metadata": {
        "colab": {
          "base_uri": "https://localhost:8080/",
          "height": 252
        },
        "id": "T0jHBUxL6aha",
        "outputId": "dc409743-c44a-4553-e0f0-596f62c08bdf"
      },
      "execution_count": null,
      "outputs": [
        {
          "name": "stdout",
          "output_type": "stream",
          "text": [
            "enter your age: 22\n"
          ]
        },
        {
          "output_type": "error",
          "ename": "TypeError",
          "evalue": "ignored",
          "traceback": [
            "\u001b[0;31m---------------------------------------------------------------------------\u001b[0m",
            "\u001b[0;31mTypeError\u001b[0m                                 Traceback (most recent call last)",
            "\u001b[0;32m<ipython-input-38-6fd0cc9521e7>\u001b[0m in \u001b[0;36m<module>\u001b[0;34m\u001b[0m\n\u001b[1;32m      1\u001b[0m \u001b[0mage\u001b[0m \u001b[0;34m=\u001b[0m \u001b[0minput\u001b[0m\u001b[0;34m(\u001b[0m\u001b[0;34m\"enter your age: \"\u001b[0m\u001b[0;34m)\u001b[0m\u001b[0;34m\u001b[0m\u001b[0;34m\u001b[0m\u001b[0m\n\u001b[1;32m      2\u001b[0m \u001b[0;34m\u001b[0m\u001b[0m\n\u001b[0;32m----> 3\u001b[0;31m \u001b[0;32mif\u001b[0m \u001b[0mage\u001b[0m \u001b[0;34m>=\u001b[0m \u001b[0;36m18\u001b[0m\u001b[0;34m:\u001b[0m\u001b[0;34m\u001b[0m\u001b[0;34m\u001b[0m\u001b[0m\n\u001b[0m\u001b[1;32m      4\u001b[0m   \u001b[0mprint\u001b[0m\u001b[0;34m(\u001b[0m\u001b[0;34m\"adult\"\u001b[0m\u001b[0;34m)\u001b[0m\u001b[0;34m\u001b[0m\u001b[0;34m\u001b[0m\u001b[0m\n\u001b[1;32m      5\u001b[0m \u001b[0;32melse\u001b[0m\u001b[0;34m:\u001b[0m\u001b[0;34m\u001b[0m\u001b[0;34m\u001b[0m\u001b[0m\n",
            "\u001b[0;31mTypeError\u001b[0m: '>=' not supported between instances of 'str' and 'int'"
          ]
        }
      ]
    },
    {
      "cell_type": "code",
      "source": [
        "age = input(str(\"enter your age: \"))\n",
        "\n",
        "if age >= (\"18\"):\n",
        "  print(\"adult\")\n",
        "else:\n",
        "  \n",
        "  print(\"minor\") "
      ],
      "metadata": {
        "colab": {
          "base_uri": "https://localhost:8080/"
        },
        "id": "ijrXn5VPBAFh",
        "outputId": "a66f57fc-fc45-4403-fea3-7adc42052e3c"
      },
      "execution_count": null,
      "outputs": [
        {
          "output_type": "stream",
          "name": "stdout",
          "text": [
            "enter your age: 22\n",
            "adult\n"
          ]
        }
      ]
    },
    {
      "cell_type": "markdown",
      "source": [
        "##as reflected through the above given two examples until and unless i converted the data type to string in the later code it gave error in the 1st one so this proves that the datatype in input() is always string"
      ],
      "metadata": {
        "id": "Vv7D77NlBn4I"
      }
    },
    {
      "cell_type": "markdown",
      "source": [
        "#6.Find the answer as well as find out the reason behind the result? -\n",
        "\n",
        "case 1:"
      ],
      "metadata": {
        "id": "y7jzeP6nCW4I"
      }
    },
    {
      "cell_type": "code",
      "source": [
        " A = 5.0\n",
        " B = (10/2)\n",
        "print(A is B)"
      ],
      "metadata": {
        "colab": {
          "base_uri": "https://localhost:8080/"
        },
        "id": "Om8iVorhCem0",
        "outputId": "c4f8399b-4c1d-4634-b98c-2ae6aca54bf0"
      },
      "execution_count": null,
      "outputs": [
        {
          "output_type": "stream",
          "name": "stdout",
          "text": [
            "False\n"
          ]
        }
      ]
    },
    {
      "cell_type": "code",
      "source": [
        "type(A)"
      ],
      "metadata": {
        "colab": {
          "base_uri": "https://localhost:8080/"
        },
        "id": "kd5Q4ZsPCocU",
        "outputId": "b03ab778-6a8d-4b1f-fc35-699af89180a5"
      },
      "execution_count": null,
      "outputs": [
        {
          "output_type": "execute_result",
          "data": {
            "text/plain": [
              "float"
            ]
          },
          "metadata": {},
          "execution_count": 46
        }
      ]
    },
    {
      "cell_type": "code",
      "source": [
        "type(B)"
      ],
      "metadata": {
        "colab": {
          "base_uri": "https://localhost:8080/"
        },
        "id": "kuls8RfOC2iJ",
        "outputId": "bb3cf695-aaf8-4696-b468-ed9f0ff29603"
      },
      "execution_count": null,
      "outputs": [
        {
          "output_type": "execute_result",
          "data": {
            "text/plain": [
              "float"
            ]
          },
          "metadata": {},
          "execution_count": 47
        }
      ]
    },
    {
      "cell_type": "code",
      "source": [
        "B"
      ],
      "metadata": {
        "colab": {
          "base_uri": "https://localhost:8080/"
        },
        "id": "YqwYLh9MC4o1",
        "outputId": "d9d878f4-230f-43d2-f014-ed8a508e35ab"
      },
      "execution_count": null,
      "outputs": [
        {
          "output_type": "execute_result",
          "data": {
            "text/plain": [
              "5.0"
            ]
          },
          "metadata": {},
          "execution_count": 48
        }
      ]
    },
    {
      "cell_type": "code",
      "source": [
        "id(A)"
      ],
      "metadata": {
        "colab": {
          "base_uri": "https://localhost:8080/"
        },
        "id": "4fEfI-fQC6Ls",
        "outputId": "2e6ca51d-38be-4e7c-8a52-1f78d27f6209"
      },
      "execution_count": null,
      "outputs": [
        {
          "output_type": "execute_result",
          "data": {
            "text/plain": [
              "140218979790640"
            ]
          },
          "metadata": {},
          "execution_count": 49
        }
      ]
    },
    {
      "cell_type": "code",
      "source": [
        "id(B)"
      ],
      "metadata": {
        "colab": {
          "base_uri": "https://localhost:8080/"
        },
        "id": "RQ9kt76NC_Dp",
        "outputId": "eb527fc6-9803-4d81-9c4b-e593edb66c5d"
      },
      "execution_count": null,
      "outputs": [
        {
          "output_type": "execute_result",
          "data": {
            "text/plain": [
              "140218979280720"
            ]
          },
          "metadata": {},
          "execution_count": 50
        }
      ]
    },
    {
      "cell_type": "markdown",
      "source": [
        "###as we can see that the values of both the variables is same but the answer displayed is false the reason is simple as the id of oth the variable is different and python stores different memory block for different variables although their type is same their values are same due to id being different we get the answer as False \n"
      ],
      "metadata": {
        "id": "vXBucH7bDHYI"
      }
    },
    {
      "cell_type": "markdown",
      "source": [
        "#case 2"
      ],
      "metadata": {
        "id": "HVVVVImhEAB8"
      }
    },
    {
      "cell_type": "code",
      "source": [
        "A = 5.0\n",
        "B = int(10/2)\n",
        "print(A is B)"
      ],
      "metadata": {
        "colab": {
          "base_uri": "https://localhost:8080/"
        },
        "id": "ow_ITfIXDAsU",
        "outputId": "5aac944e-0735-44c2-e893-81f11e5a22b8"
      },
      "execution_count": null,
      "outputs": [
        {
          "output_type": "stream",
          "name": "stdout",
          "text": [
            "False\n"
          ]
        }
      ]
    },
    {
      "cell_type": "code",
      "source": [
        "A"
      ],
      "metadata": {
        "colab": {
          "base_uri": "https://localhost:8080/"
        },
        "id": "cykKWe4GGFMJ",
        "outputId": "1754f5ee-2614-459c-cec5-e4a9a24fcc02"
      },
      "execution_count": null,
      "outputs": [
        {
          "output_type": "execute_result",
          "data": {
            "text/plain": [
              "5.0"
            ]
          },
          "metadata": {},
          "execution_count": 71
        }
      ]
    },
    {
      "cell_type": "code",
      "source": [
        "B"
      ],
      "metadata": {
        "colab": {
          "base_uri": "https://localhost:8080/"
        },
        "id": "YwwUcyx5GNWw",
        "outputId": "e0d2e736-7534-4568-a519-88f344077b4b"
      },
      "execution_count": null,
      "outputs": [
        {
          "output_type": "execute_result",
          "data": {
            "text/plain": [
              "5"
            ]
          },
          "metadata": {},
          "execution_count": 72
        }
      ]
    },
    {
      "cell_type": "code",
      "source": [
        "A == b"
      ],
      "metadata": {
        "colab": {
          "base_uri": "https://localhost:8080/"
        },
        "id": "Z-lkwDY5GOcr",
        "outputId": "a40bb8db-42d2-47a4-9e55-f09e6ae50e44"
      },
      "execution_count": null,
      "outputs": [
        {
          "output_type": "execute_result",
          "data": {
            "text/plain": [
              "False"
            ]
          },
          "metadata": {},
          "execution_count": 73
        }
      ]
    },
    {
      "cell_type": "code",
      "source": [
        "A is not B"
      ],
      "metadata": {
        "colab": {
          "base_uri": "https://localhost:8080/"
        },
        "id": "2LCbhg2bGQUu",
        "outputId": "4aee65bc-bed5-4b86-9ba0-d2e81fb775cd"
      },
      "execution_count": null,
      "outputs": [
        {
          "output_type": "execute_result",
          "data": {
            "text/plain": [
              "True"
            ]
          },
          "metadata": {},
          "execution_count": 75
        }
      ]
    },
    {
      "cell_type": "code",
      "source": [
        "A!=B"
      ],
      "metadata": {
        "colab": {
          "base_uri": "https://localhost:8080/"
        },
        "id": "tpOM52XoGTuS",
        "outputId": "83642144-13f2-4a20-ab26-68fc0b5381b5"
      },
      "execution_count": null,
      "outputs": [
        {
          "output_type": "execute_result",
          "data": {
            "text/plain": [
              "True"
            ]
          },
          "metadata": {},
          "execution_count": 87
        }
      ]
    },
    {
      "cell_type": "code",
      "source": [
        "A is B"
      ],
      "metadata": {
        "colab": {
          "base_uri": "https://localhost:8080/"
        },
        "id": "ujJl-YNmGfI6",
        "outputId": "66837918-7c94-41ef-94b4-1ad6f4807847"
      },
      "execution_count": null,
      "outputs": [
        {
          "output_type": "execute_result",
          "data": {
            "text/plain": [
              "False"
            ]
          },
          "metadata": {},
          "execution_count": 78
        }
      ]
    },
    {
      "cell_type": "code",
      "source": [
        "id(B)"
      ],
      "metadata": {
        "colab": {
          "base_uri": "https://localhost:8080/"
        },
        "id": "Dk7a0sXQGugB",
        "outputId": "f1e0da4d-0f98-4c1b-83bb-1a98930fa9d2"
      },
      "execution_count": null,
      "outputs": [
        {
          "output_type": "execute_result",
          "data": {
            "text/plain": [
              "11122720"
            ]
          },
          "metadata": {},
          "execution_count": 79
        }
      ]
    },
    {
      "cell_type": "code",
      "source": [
        "id(A)"
      ],
      "metadata": {
        "colab": {
          "base_uri": "https://localhost:8080/"
        },
        "id": "ynjM0pwNG0ba",
        "outputId": "88722103-e1a0-448d-a7ce-c52f26ecf492"
      },
      "execution_count": null,
      "outputs": [
        {
          "output_type": "execute_result",
          "data": {
            "text/plain": [
              "140218979280048"
            ]
          },
          "metadata": {},
          "execution_count": 80
        }
      ]
    },
    {
      "cell_type": "code",
      "source": [
        "type(A)"
      ],
      "metadata": {
        "colab": {
          "base_uri": "https://localhost:8080/"
        },
        "id": "PSkvL2WpG1Uf",
        "outputId": "c7cfec60-c19f-49d8-8e1a-34aefa9765ea"
      },
      "execution_count": null,
      "outputs": [
        {
          "output_type": "execute_result",
          "data": {
            "text/plain": [
              "float"
            ]
          },
          "metadata": {},
          "execution_count": 81
        }
      ]
    },
    {
      "cell_type": "code",
      "source": [
        "type(B)"
      ],
      "metadata": {
        "colab": {
          "base_uri": "https://localhost:8080/"
        },
        "id": "AAgmcJKXG34t",
        "outputId": "24b477d0-742c-42a6-96d1-b3a9720b5184"
      },
      "execution_count": null,
      "outputs": [
        {
          "output_type": "execute_result",
          "data": {
            "text/plain": [
              "int"
            ]
          },
          "metadata": {},
          "execution_count": 82
        }
      ]
    },
    {
      "cell_type": "markdown",
      "source": [
        "#case 3"
      ],
      "metadata": {
        "id": "f_xTw3RnHNpG"
      }
    },
    {
      "cell_type": "code",
      "source": [
        "A = 5.0\n",
        "B = float(10/2)\n",
        "print(A is B)"
      ],
      "metadata": {
        "colab": {
          "base_uri": "https://localhost:8080/"
        },
        "id": "VtHLaKiMG4-k",
        "outputId": "b71a6354-32c9-469f-ac2b-ea2642c6d5f8"
      },
      "execution_count": null,
      "outputs": [
        {
          "output_type": "stream",
          "name": "stdout",
          "text": [
            "False\n"
          ]
        }
      ]
    },
    {
      "cell_type": "code",
      "source": [
        "A"
      ],
      "metadata": {
        "colab": {
          "base_uri": "https://localhost:8080/"
        },
        "id": "KBGzjzusHTqz",
        "outputId": "5ec0f0df-ba26-4a9f-b4d6-f3afb0199ef3"
      },
      "execution_count": null,
      "outputs": [
        {
          "output_type": "execute_result",
          "data": {
            "text/plain": [
              "5.0"
            ]
          },
          "metadata": {},
          "execution_count": 91
        }
      ]
    },
    {
      "cell_type": "code",
      "source": [
        "B"
      ],
      "metadata": {
        "colab": {
          "base_uri": "https://localhost:8080/"
        },
        "id": "hx1KM2iiHYsV",
        "outputId": "8a2451c6-6099-4a1c-ec7f-cf2d4cb0a398"
      },
      "execution_count": null,
      "outputs": [
        {
          "output_type": "execute_result",
          "data": {
            "text/plain": [
              "5.0"
            ]
          },
          "metadata": {},
          "execution_count": 92
        }
      ]
    },
    {
      "cell_type": "code",
      "source": [
        "id(B)"
      ],
      "metadata": {
        "colab": {
          "base_uri": "https://localhost:8080/"
        },
        "id": "Yxzr9WijHbV4",
        "outputId": "4ad33913-66db-463c-f470-67470833820b"
      },
      "execution_count": null,
      "outputs": [
        {
          "output_type": "execute_result",
          "data": {
            "text/plain": [
              "140218979044496"
            ]
          },
          "metadata": {},
          "execution_count": 93
        }
      ]
    },
    {
      "cell_type": "code",
      "source": [
        "id(A)"
      ],
      "metadata": {
        "colab": {
          "base_uri": "https://localhost:8080/"
        },
        "id": "IbLEyXGGHeOi",
        "outputId": "3228c322-f496-4541-8e96-356a988fbf79"
      },
      "execution_count": null,
      "outputs": [
        {
          "output_type": "execute_result",
          "data": {
            "text/plain": [
              "140218979042832"
            ]
          },
          "metadata": {},
          "execution_count": 94
        }
      ]
    },
    {
      "cell_type": "code",
      "source": [
        "type(A)"
      ],
      "metadata": {
        "colab": {
          "base_uri": "https://localhost:8080/"
        },
        "id": "GfWRHRqRHf_h",
        "outputId": "a0af94d9-ed9c-4803-e911-4a29a138e07b"
      },
      "execution_count": null,
      "outputs": [
        {
          "output_type": "execute_result",
          "data": {
            "text/plain": [
              "float"
            ]
          },
          "metadata": {},
          "execution_count": 96
        }
      ]
    },
    {
      "cell_type": "code",
      "source": [
        "type(B)"
      ],
      "metadata": {
        "colab": {
          "base_uri": "https://localhost:8080/"
        },
        "id": "ZfaYKSqNH3zP",
        "outputId": "636edbb7-5a40-4341-f024-9ccfdd25b236"
      },
      "execution_count": null,
      "outputs": [
        {
          "output_type": "execute_result",
          "data": {
            "text/plain": [
              "float"
            ]
          },
          "metadata": {},
          "execution_count": 97
        }
      ]
    },
    {
      "cell_type": "code",
      "source": [
        "A == B"
      ],
      "metadata": {
        "colab": {
          "base_uri": "https://localhost:8080/"
        },
        "id": "DxIk-NODH66G",
        "outputId": "eee8d3eb-55df-4a41-d877-f37567fc3f1b"
      },
      "execution_count": null,
      "outputs": [
        {
          "output_type": "execute_result",
          "data": {
            "text/plain": [
              "True"
            ]
          },
          "metadata": {},
          "execution_count": 98
        }
      ]
    },
    {
      "cell_type": "code",
      "source": [
        "A != B"
      ],
      "metadata": {
        "colab": {
          "base_uri": "https://localhost:8080/"
        },
        "id": "Rr83c2A3IVdx",
        "outputId": "7780b91f-e717-4d31-e0e9-7e94ecad9a7f"
      },
      "execution_count": null,
      "outputs": [
        {
          "output_type": "execute_result",
          "data": {
            "text/plain": [
              "False"
            ]
          },
          "metadata": {},
          "execution_count": 99
        }
      ]
    },
    {
      "cell_type": "markdown",
      "source": [
        "#as we can see that in all the 3 cases the values of both the variables is same but the answer displayed is false the reason is simple as the id of oth the variable is different and python stores different memory block for different variables although their type is same their values are same due to id being different we get the answer as False"
      ],
      "metadata": {
        "id": "MK9fgO6stFRJ"
      }
    },
    {
      "cell_type": "markdown",
      "source": [
        "#4.Take 3 variables and assign integer values to them. Find the largest variable, by only using the if and else conditions."
      ],
      "metadata": {
        "id": "VshdzcfRs9mc"
      }
    },
    {
      "cell_type": "code",
      "source": [
        "A = int(100)\n",
        "B = int(20)\n",
        "C = int(30)\n",
        "if A > B <  C:\n",
        "  print((f\"the largest variable is: {A}\"))\n",
        "else:\n",
        "  print(f\"the smallest variable: {B}\")\n"
      ],
      "metadata": {
        "colab": {
          "base_uri": "https://localhost:8080/"
        },
        "id": "QajBWnv7tEPi",
        "outputId": "d35321b4-5f23-4475-f8a2-3dbbcda21bc0"
      },
      "execution_count": null,
      "outputs": [
        {
          "output_type": "stream",
          "name": "stdout",
          "text": [
            "the largest variable is: 100\n"
          ]
        }
      ]
    },
    {
      "cell_type": "markdown",
      "source": [
        "#7.Write a program that asks the user to enter a number. You should print out a message to the user, either “That number is divisible by either 3 or 5”, or “That number is not divisible by either 3 or 5”. Be sure to consider the data type of the input you are taking in from the user. Use a single if/else block to solve this problem."
      ],
      "metadata": {
        "id": "ZZY-MId0yxlT"
      }
    },
    {
      "cell_type": "code",
      "source": [
        "\n",
        "num = int (input(\"enter the number whose divisibility needs to be checked:\"))\n",
        "\n",
        "div = int (input(\"enter the number with which divisibility needs to be checked: \"))\n",
        "div1 = int(input(\"enter the number with which divisibility needs to be checked:  \"))\n",
        "\n",
        "if num%div == 0 and num%div1== 0:\n",
        "\n",
        "              print (\"The number is divisible by 3 and 5.\")\n",
        "\n",
        "else:\n",
        "\n",
        "              print (\"The number is not divisible by 3 and 5.\")\n",
        "\n",
        "\n"
      ],
      "metadata": {
        "id": "K6AHexmv8V9h",
        "colab": {
          "base_uri": "https://localhost:8080/"
        },
        "outputId": "f43ed2b7-1d2a-421d-cb83-9e6ae4d7ee00"
      },
      "execution_count": null,
      "outputs": [
        {
          "output_type": "stream",
          "name": "stdout",
          "text": [
            "enter the number whose divisibility needs to be checked:18\n",
            "enter the number with which divisibility needs to be checked: 3\n",
            "enter the number with which divisibility needs to be checked:  5\n",
            "The number is not divisible by 3 and 5.\n"
          ]
        }
      ]
    },
    {
      "cell_type": "markdown",
      "source": [
        "#8.Take user input for length and width. Then calculate the area of rectangle. Also print as per length and width whether its a square of rectangle."
      ],
      "metadata": {
        "id": "ri005TyRbnl2"
      }
    },
    {
      "cell_type": "code",
      "source": [
        "length = int(input(\"enter the length of rectangle: \"))\n",
        "width = int(input(\"enter the width of rectangle: \"))\n",
        "area_of_rectangle = length*width\n",
        "print(f\"area of rectangle: {length}*{width}={area_of_rectangle}\")\n",
        "if length == width:\n",
        "  print(\"as per length and width its a square\")\n",
        "else:\n",
        "  print(\"its a rectangle\")"
      ],
      "metadata": {
        "colab": {
          "base_uri": "https://localhost:8080/"
        },
        "id": "KhuV-N_ObXjm",
        "outputId": "a46c153f-dc80-4b04-f6a4-c24ea9693de7"
      },
      "execution_count": null,
      "outputs": [
        {
          "output_type": "stream",
          "name": "stdout",
          "text": [
            "enter the length of rectangle: 30\n",
            "enter the width of rectangle: 90\n",
            "area of rectangle: 30*90=2700\n",
            "its a rectangle\n"
          ]
        }
      ]
    },
    {
      "cell_type": "markdown",
      "source": [
        "#9.Take two variable radius_1 and radius_2 and calculate the area of circle_1 and circle_2. Also print which circle has large area. If area is equal then print area is equal."
      ],
      "metadata": {
        "id": "_peFSw_7fliE"
      }
    },
    {
      "cell_type": "code",
      "source": [
        "radius_1 = int(input(\"enter radius of 1st circle: \"))\n",
        "radius_2 = int(input(\"enter radius of 2nd circle: \"))\n",
        "area_of_circles = 3.14*radius_1**2 , 3.14*radius_2**2\n",
        "print(f\"area of circles: {3.14}*{radius_1**2},{3.14}*{radius_2**2}={area_of_circles}\")\n",
        "\n",
        "if radius_1 == radius_2:\n",
        "  print(\"area of circles is equal\")\n",
        "else:\n",
        "      if radius_1 > radius_2:\n",
        "        print(\"radius_1 is larger circle\")\n",
        "      else:\n",
        "        print(\"radius_2 is larger circle\")\n"
      ],
      "metadata": {
        "colab": {
          "base_uri": "https://localhost:8080/"
        },
        "id": "uGITY3Dvfs-P",
        "outputId": "425b4bfc-c908-462a-ccd0-3d412a9a0fd6"
      },
      "execution_count": null,
      "outputs": [
        {
          "output_type": "stream",
          "name": "stdout",
          "text": [
            "enter radius of 1st circle: 18\n",
            "enter radius of 2nd circle: 25\n",
            "area of circles: 3.14*324,3.14*625=(1017.36, 1962.5)\n",
            "radius_2 is larger circle\n"
          ]
        }
      ]
    },
    {
      "cell_type": "markdown",
      "source": [
        "#10.Check whether a year is leap year or not. Use nested if...else to solve this problem. A leap year is exactly divisible by 4 except for century years (years ending with 00). The century year is a leap year only if it is perfectly divisible by 400"
      ],
      "metadata": {
        "id": "9-cdK3vKruZI"
      }
    },
    {
      "cell_type": "code",
      "source": [
        "year = int(input(\"enter the year: \"))\n",
        "leap_year = int(input(\"the divivsiblity condition for leap year except century year is divisible by 4: \"))\n",
        "century_year = int(input(\"the number is exactly divisible by 400: \"))\n",
        "if year%leap_year == 0:\n",
        "  print(\"its a leap year\")\n",
        "else:\n",
        "  if year%century_year == 0:\n",
        "   print(\"its a leap year\")\n",
        "  else:\n",
        "    print(\"its not a leap year\")"
      ],
      "metadata": {
        "colab": {
          "base_uri": "https://localhost:8080/"
        },
        "id": "-p-QtWPFquUD",
        "outputId": "ce7abe65-2c89-4ccb-daaf-65df6b7c7713"
      },
      "execution_count": 2,
      "outputs": [
        {
          "output_type": "stream",
          "name": "stdout",
          "text": [
            "enter the year: 1999\n",
            "the divivsiblity condition for leap year except century year is divisible by 4: 4\n",
            "the number is exactly divisible by 400: 400\n",
            "its not a leap year\n"
          ]
        }
      ]
    },
    {
      "cell_type": "code",
      "source": [],
      "metadata": {
        "id": "_ip7r9r9uDhv"
      },
      "execution_count": null,
      "outputs": []
    }
  ]
}