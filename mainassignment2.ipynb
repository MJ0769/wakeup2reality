{
  "nbformat": 4,
  "nbformat_minor": 0,
  "metadata": {
    "colab": {
      "provenance": [],
      "authorship_tag": "ABX9TyMqJG+5kvCsBJ6r35RNqrLk"
    },
    "kernelspec": {
      "name": "python3",
      "display_name": "Python 3"
    },
    "language_info": {
      "name": "python"
    }
  },
  "cells": [
    {
      "cell_type": "markdown",
      "source": [
        "#1.What are the two values of the Boolean data type? How do you write them?\n",
        "True and False, using capital T and F, with the rest of the word in lowercase\n",
        "\n",
        "#2. What are the three different types of Boolean operators?\n",
        "and, or, and not\n",
        "\n",
        "#3. Make a list of each Boolean operator& truth tables (i.e. every possible combination of Boolean\n",
        "values for the operator and what it evaluate ).\n",
        "True and True is True.\n",
        "\n",
        "True and False is False.\n",
        "\n",
        "False and True is False.\n",
        "\n",
        "False and False is False.\n",
        "\n",
        "True or True is True.\n",
        "\n",
        "True or False is True.\n",
        "\n",
        "False or True is True.\n",
        "\n",
        "False or False is False.\n",
        "\n",
        "not True is False.\n",
        "\n",
        "not False is True.\n"
      ],
      "metadata": {
        "id": "z92ogOZPCUBA"
      }
    },
    {
      "cell_type": "markdown",
      "source": [
        "#4.4. What are the values of the following expressions?\n",
        "(5 &gt; 4) and (3 == 5)\n",
        "not (5 &gt; 4)\n",
        "(5 &gt; 4) or (3 == 5)\n",
        "not ((5 &gt; 4) or (3 == 5))\n",
        "(True and True) and (True == False)\n",
        "(not False) or (not True)"
      ],
      "metadata": {
        "id": "MOYyruCD-9Dv"
      }
    },
    {
      "cell_type": "code",
      "source": [
        "5 > 4"
      ],
      "metadata": {
        "colab": {
          "base_uri": "https://localhost:8080/"
        },
        "id": "NqVDlKYs_FO3",
        "outputId": "c9e8a61a-1010-4bdb-c308-665f763f2746"
      },
      "execution_count": 1,
      "outputs": [
        {
          "output_type": "execute_result",
          "data": {
            "text/plain": [
              "True"
            ]
          },
          "metadata": {},
          "execution_count": 1
        }
      ]
    },
    {
      "cell_type": "markdown",
      "source": [],
      "metadata": {
        "id": "pHOaijYnDgHb"
      }
    },
    {
      "cell_type": "code",
      "source": [
        "bool(3==5)"
      ],
      "metadata": {
        "id": "LvQF8jRCCgVQ",
        "colab": {
          "base_uri": "https://localhost:8080/"
        },
        "outputId": "8d9944ce-eaef-4d9a-9f2a-71620b5cb98d"
      },
      "execution_count": 2,
      "outputs": [
        {
          "output_type": "execute_result",
          "data": {
            "text/plain": [
              "False"
            ]
          },
          "metadata": {},
          "execution_count": 2
        }
      ]
    },
    {
      "cell_type": "code",
      "source": [
        "not(5>4)"
      ],
      "metadata": {
        "colab": {
          "base_uri": "https://localhost:8080/"
        },
        "id": "679gX4c-_Q6y",
        "outputId": "bd55a916-92c7-420d-b647-9b30e1c007cd"
      },
      "execution_count": 3,
      "outputs": [
        {
          "output_type": "execute_result",
          "data": {
            "text/plain": [
              "False"
            ]
          },
          "metadata": {},
          "execution_count": 3
        }
      ]
    },
    {
      "cell_type": "code",
      "source": [
        "(5>4) or (3==5)"
      ],
      "metadata": {
        "colab": {
          "base_uri": "https://localhost:8080/"
        },
        "id": "_KheRXQq_Wbh",
        "outputId": "0c9c2bf2-6c58-4884-c74e-79f9befd48a8"
      },
      "execution_count": 4,
      "outputs": [
        {
          "output_type": "execute_result",
          "data": {
            "text/plain": [
              "True"
            ]
          },
          "metadata": {},
          "execution_count": 4
        }
      ]
    },
    {
      "cell_type": "code",
      "source": [
        "not{(5>4) or (3==5)}"
      ],
      "metadata": {
        "colab": {
          "base_uri": "https://localhost:8080/"
        },
        "id": "XLou0B5D_did",
        "outputId": "36c2f7fb-8bf6-4ac4-a066-26f44fcc754b"
      },
      "execution_count": 5,
      "outputs": [
        {
          "output_type": "execute_result",
          "data": {
            "text/plain": [
              "False"
            ]
          },
          "metadata": {},
          "execution_count": 5
        }
      ]
    },
    {
      "cell_type": "code",
      "source": [
        "(True and True) and (True == False)"
      ],
      "metadata": {
        "colab": {
          "base_uri": "https://localhost:8080/"
        },
        "id": "XFD1ltV8_jRg",
        "outputId": "29da0875-629f-451c-d8ab-b088f0a8107b"
      },
      "execution_count": 6,
      "outputs": [
        {
          "output_type": "execute_result",
          "data": {
            "text/plain": [
              "False"
            ]
          },
          "metadata": {},
          "execution_count": 6
        }
      ]
    },
    {
      "cell_type": "code",
      "source": [
        "(not False) or (not True)"
      ],
      "metadata": {
        "colab": {
          "base_uri": "https://localhost:8080/"
        },
        "id": "WSyPWexX_rN8",
        "outputId": "05575fb8-b989-429a-8077-5200e06914f8"
      },
      "execution_count": 7,
      "outputs": [
        {
          "output_type": "execute_result",
          "data": {
            "text/plain": [
              "True"
            ]
          },
          "metadata": {},
          "execution_count": 7
        }
      ]
    },
    {
      "cell_type": "markdown",
      "source": [
        "#5.  What are the six comparison operators?\n",
        "==, !=, <, >, <=, and >=."
      ],
      "metadata": {
        "id": "USVBlMpj_1g0"
      }
    },
    {
      "cell_type": "markdown",
      "source": [
        "#6.How do you tell the difference between the equal to and assignment operators?Describe a condition and when you would use one.\n",
        "== is the equal to operator that compares two values and evaluates to a Boolean, while = is the assignment operator that stores a value in a variable\n"
      ],
      "metadata": {
        "id": "TYv2pO7eACYX"
      }
    },
    {
      "cell_type": "code",
      "source": [
        "#for eg\n",
        "a = 15\n",
        "4 == 5"
      ],
      "metadata": {
        "colab": {
          "base_uri": "https://localhost:8080/"
        },
        "id": "72FI73u7Bb75",
        "outputId": "b6cc2a04-a017-4bdf-9d8f-40094cca5f6a"
      },
      "execution_count": 11,
      "outputs": [
        {
          "output_type": "execute_result",
          "data": {
            "text/plain": [
              "False"
            ]
          },
          "metadata": {},
          "execution_count": 11
        }
      ]
    },
    {
      "cell_type": "code",
      "source": [
        "a"
      ],
      "metadata": {
        "colab": {
          "base_uri": "https://localhost:8080/"
        },
        "id": "fnPJ9sRfBmS6",
        "outputId": "c2c1c3bb-db67-4432-9dc1-82f8213f7190"
      },
      "execution_count": 12,
      "outputs": [
        {
          "output_type": "execute_result",
          "data": {
            "text/plain": [
              "15"
            ]
          },
          "metadata": {},
          "execution_count": 12
        }
      ]
    },
    {
      "cell_type": "markdown",
      "source": [
        "#7. Identify the three blocks in this code:"
      ],
      "metadata": {
        "id": "TLTEMH8SAPla"
      }
    },
    {
      "cell_type": "code",
      "source": [
        "spam = 0\n",
        "if spam == 10:\n",
        "\n",
        " print(\"eggs\")\n",
        "if spam > 5:\n",
        "  print(\"bacon\")\n",
        "else:\n",
        "  print(\"ham\")\n",
        "  print(\"spam\")\n",
        "  print(\"spam\")"
      ],
      "metadata": {
        "colab": {
          "base_uri": "https://localhost:8080/"
        },
        "id": "1QR0k2drAmVb",
        "outputId": "ccf8602f-f19c-4311-98e2-d00de15fb95c"
      },
      "execution_count": 10,
      "outputs": [
        {
          "output_type": "stream",
          "name": "stdout",
          "text": [
            "ham\n",
            "spam\n",
            "spam\n"
          ]
        }
      ]
    },
    {
      "cell_type": "markdown",
      "source": [
        "The three blocks are everything inside the if statement and the lines print('bacon') and print('ham').\n",
        "\n",
        "\n",
        "print('eggs')\n",
        "if spam > 5:\n",
        "    print('bacon')\n",
        "else:\n",
        "    print('ham')\n",
        "print('spam')"
      ],
      "metadata": {
        "id": "hwro2QEdBV4-"
      }
    },
    {
      "cell_type": "markdown",
      "source": [
        "#8. Write code that prints Hello if 1 is stored in spam, prints Howdy if 2 is stored in spam, and prints Greetings! if anything else is stored in spam.\n"
      ],
      "metadata": {
        "id": "mRS6NO1yBp7N"
      }
    },
    {
      "cell_type": "code",
      "source": [
        "spam = int(input(\"enter value of spam: \"))\n",
        "\n",
        "if spam == 1:\n",
        "    print(\"Hello\")\n",
        "elif spam == 2:\n",
        "    print(\"Howdy\")\n",
        "else:\n",
        "    print(\"Greetings!\")"
      ],
      "metadata": {
        "colab": {
          "base_uri": "https://localhost:8080/"
        },
        "id": "ULB91YoiBA5J",
        "outputId": "84d4f0bf-d116-468d-bb2e-33f113baf147"
      },
      "execution_count": 16,
      "outputs": [
        {
          "output_type": "stream",
          "name": "stdout",
          "text": [
            "enter value of spam: 3\n",
            "Greetings!\n"
          ]
        }
      ]
    },
    {
      "cell_type": "markdown",
      "source": [
        "#9.If your programme is stuck in an endless loop, what keys you’ll press?\n",
        "Press CTRL-C to stop a program stuck in an infinite loop"
      ],
      "metadata": {
        "id": "Uju-8vdqCas2"
      }
    },
    {
      "cell_type": "markdown",
      "source": [
        "#10. How can you tell the difference between break and continue?\n",
        "The break statement will move the execution outside and just after a loop. The continue statement will move the execution to the start of the loop.\n",
        "\n",
        "#11. In a for loop, what is the difference between range(10), range(0, 10), and range(0, 10, 1)?"
      ],
      "metadata": {
        "id": "penCKmqPCrIo"
      }
    },
    {
      "cell_type": "code",
      "source": [
        "for i in range(10):\n",
        "  print(i)"
      ],
      "metadata": {
        "colab": {
          "base_uri": "https://localhost:8080/"
        },
        "id": "efixOcsrCDCL",
        "outputId": "fecb2434-99f2-4963-a5f5-dcada3970ca7"
      },
      "execution_count": 18,
      "outputs": [
        {
          "output_type": "stream",
          "name": "stdout",
          "text": [
            "0\n",
            "1\n",
            "2\n",
            "3\n",
            "4\n",
            "5\n",
            "6\n",
            "7\n",
            "8\n",
            "9\n"
          ]
        }
      ]
    },
    {
      "cell_type": "code",
      "source": [
        "for i in range(0,10):\n",
        "  print(i)"
      ],
      "metadata": {
        "colab": {
          "base_uri": "https://localhost:8080/"
        },
        "id": "xgpf_E70DC7Q",
        "outputId": "c4f06bde-5a82-41e2-8428-ed8a33a090f5"
      },
      "execution_count": 19,
      "outputs": [
        {
          "output_type": "stream",
          "name": "stdout",
          "text": [
            "0\n",
            "1\n",
            "2\n",
            "3\n",
            "4\n",
            "5\n",
            "6\n",
            "7\n",
            "8\n",
            "9\n"
          ]
        }
      ]
    },
    {
      "cell_type": "code",
      "source": [
        "for i in range(0,10,1):\n",
        "  print(i)"
      ],
      "metadata": {
        "colab": {
          "base_uri": "https://localhost:8080/"
        },
        "id": "D-hYCtLeDPpu",
        "outputId": "f1006589-af01-4cc1-a756-ba78e464d72d"
      },
      "execution_count": 22,
      "outputs": [
        {
          "output_type": "stream",
          "name": "stdout",
          "text": [
            "0\n",
            "1\n",
            "2\n",
            "3\n",
            "4\n",
            "5\n",
            "6\n",
            "7\n",
            "8\n",
            "9\n"
          ]
        }
      ]
    },
    {
      "cell_type": "markdown",
      "source": [
        "They all do the same thing. The range(10) call ranges from 0 up to (but not including) 10, range(0, 10) explicitly tells the loop to start at 0, and range(0, 10, 1) explicitly tells the loop to increase the variable by 1 on each iteration.\n",
        "\n",
        "#12. Write a short program that prints the numbers 1 to 10 using a for loop. Then write an equivalent program that prints the numbers 1 to 10 using a while loop.\n"
      ],
      "metadata": {
        "id": "GbIUlFleDekx"
      }
    },
    {
      "cell_type": "code",
      "source": [
        "for i in range(0,11):\n",
        "  print(i)"
      ],
      "metadata": {
        "colab": {
          "base_uri": "https://localhost:8080/"
        },
        "id": "rMiuQPOXDXlV",
        "outputId": "9e5fd9c0-3753-420c-ef01-a2c45549d628"
      },
      "execution_count": 23,
      "outputs": [
        {
          "output_type": "stream",
          "name": "stdout",
          "text": [
            "0\n",
            "1\n",
            "2\n",
            "3\n",
            "4\n",
            "5\n",
            "6\n",
            "7\n",
            "8\n",
            "9\n",
            "10\n"
          ]
        }
      ]
    },
    {
      "cell_type": "code",
      "source": [
        "i = 1\n",
        "while i < 11:\n",
        "  print(i)\n",
        "  i = i +1"
      ],
      "metadata": {
        "colab": {
          "base_uri": "https://localhost:8080/"
        },
        "id": "gTtf3XZZDtk3",
        "outputId": "3e591e86-4463-40dc-b2e0-f0ce23409dc5"
      },
      "execution_count": 25,
      "outputs": [
        {
          "output_type": "stream",
          "name": "stdout",
          "text": [
            "1\n",
            "2\n",
            "3\n",
            "4\n",
            "5\n",
            "6\n",
            "7\n",
            "8\n",
            "9\n",
            "10\n"
          ]
        }
      ]
    },
    {
      "cell_type": "markdown",
      "source": [
        "#13. If you had a function named bacon() inside a module named spam, how would you call it after importing spam?\n",
        "\n",
        "This function can be called with spam.bacon()."
      ],
      "metadata": {
        "id": "QTTSM69eEY6P"
      }
    }
  ]
}