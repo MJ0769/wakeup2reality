{
  "nbformat": 4,
  "nbformat_minor": 0,
  "metadata": {
    "colab": {
      "provenance": [],
      "authorship_tag": "ABX9TyOUVqxiabNBVdDOHlQcgMRa",
      "include_colab_link": true
    },
    "kernelspec": {
      "name": "python3",
      "display_name": "Python 3"
    },
    "language_info": {
      "name": "python"
    }
  },
  "cells": [
    {
      "cell_type": "markdown",
      "metadata": {
        "id": "view-in-github",
        "colab_type": "text"
      },
      "source": [
        "<a href=\"https://colab.research.google.com/github/MJ0769/wakeup2reality/blob/main/new_ppt.ipynb\" target=\"_parent\"><img src=\"https://colab.research.google.com/assets/colab-badge.svg\" alt=\"Open In Colab\"/></a>"
      ]
    },
    {
      "cell_type": "markdown",
      "source": [
        "Implement a stack using a list in Python. Include the necessary methods such as push, pop, and isEmpty.\n",
        "5 points\n",
        " Here's an implementation of a stack using a list in Python:\n",
        "\n"
      ],
      "metadata": {
        "id": "pMpezCdditjx"
      }
    },
    {
      "cell_type": "code",
      "source": [
        "class Stack:\n",
        "    def __init__(self):\n",
        "        self.items = []\n",
        "\n",
        "    def push(self, item):\n",
        "        self.items.append(item)\n",
        "\n",
        "    def pop(self):\n",
        "        if not self.is_empty():\n",
        "            return self.items.pop()\n",
        "        else:\n",
        "            raise Exception(\"Stack is empty.\")\n",
        "\n",
        "    def is_empty(self):\n",
        "        return len(self.items) == 0\n"
      ],
      "metadata": {
        "id": "IAsnRisC6_oJ"
      },
      "execution_count": 1,
      "outputs": []
    },
    {
      "cell_type": "code",
      "source": [
        "stack = Stack()\n",
        "stack.push(1)\n",
        "stack.push(2)\n",
        "stack.push(3)\n",
        "\n",
        "print(stack.pop())  # Outputs: 3\n",
        "print(stack.pop())  # Outputs: 2\n",
        "print(stack.is_empty())  # Outputs: False\n",
        "\n",
        "print(stack.pop())  # Outputs: 1\n",
        "print(stack.is_empty())  # Outputs: True\n"
      ],
      "metadata": {
        "colab": {
          "base_uri": "https://localhost:8080/"
        },
        "id": "gG3k-D6E7KjP",
        "outputId": "acaae95b-753e-43b2-a443-25cdcea2273d"
      },
      "execution_count": 2,
      "outputs": [
        {
          "output_type": "stream",
          "name": "stdout",
          "text": [
            "3\n",
            "2\n",
            "False\n",
            "1\n",
            "True\n"
          ]
        }
      ]
    },
    {
      "cell_type": "markdown",
      "source": [],
      "metadata": {
        "id": "48YQWGpV6wU8"
      }
    },
    {
      "cell_type": "markdown",
      "source": [
        "2.Implement a queue using a list in Python. Include the necessary methods such as enqueue, dequeue, and isEmpty."
      ],
      "metadata": {
        "id": "SBjkMGnz7Wg_"
      }
    },
    {
      "cell_type": "code",
      "source": [
        "class Queue:\n",
        "    def __init__(self):\n",
        "        self.items = []\n",
        "\n",
        "    def enqueue(self, item):\n",
        "        self.items.append(item)\n",
        "\n",
        "    def dequeue(self):\n",
        "        if not self.is_empty():\n",
        "            return self.items.pop(0)\n",
        "        else:\n",
        "            raise Exception(\"Queue is empty.\")\n",
        "\n",
        "    def is_empty(self):\n",
        "        return len(self.items) == 0\n"
      ],
      "metadata": {
        "id": "rRB-EYDM7Xuu"
      },
      "execution_count": 3,
      "outputs": []
    },
    {
      "cell_type": "code",
      "source": [
        "queue = Queue()\n",
        "queue.enqueue(1)\n",
        "queue.enqueue(2)\n",
        "queue.enqueue(3)\n",
        "\n",
        "print(queue.dequeue())  # Outputs: 1\n",
        "print(queue.dequeue())  # Outputs: 2\n",
        "print(queue.is_empty())  # Outputs: False\n",
        "\n",
        "print(queue.dequeue())  # Outputs: 3\n",
        "print(queue.is_empty())  # Outputs: True\n"
      ],
      "metadata": {
        "colab": {
          "base_uri": "https://localhost:8080/"
        },
        "id": "MC3xMs3x7bO0",
        "outputId": "1682cea6-00f3-4014-99e9-e00dbd7117ac"
      },
      "execution_count": 4,
      "outputs": [
        {
          "output_type": "stream",
          "name": "stdout",
          "text": [
            "1\n",
            "2\n",
            "False\n",
            "3\n",
            "True\n"
          ]
        }
      ]
    },
    {
      "cell_type": "code",
      "source": [],
      "metadata": {
        "id": "6kglEyeP7dgL"
      },
      "execution_count": null,
      "outputs": []
    }
  ]
}