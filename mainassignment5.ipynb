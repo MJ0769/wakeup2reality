{
  "nbformat": 4,
  "nbformat_minor": 0,
  "metadata": {
    "colab": {
      "provenance": [],
      "authorship_tag": "ABX9TyMVQwySEUNSqwVj6A0UAiQB",
      "include_colab_link": true
    },
    "kernelspec": {
      "name": "python3",
      "display_name": "Python 3"
    },
    "language_info": {
      "name": "python"
    }
  },
  "cells": [
    {
      "cell_type": "markdown",
      "metadata": {
        "id": "view-in-github",
        "colab_type": "text"
      },
      "source": [
        "<a href=\"https://colab.research.google.com/github/MJ0769/wakeup2reality/blob/main/mainassignment5.ipynb\" target=\"_parent\"><img src=\"https://colab.research.google.com/assets/colab-badge.svg\" alt=\"Open In Colab\"/></a>"
      ]
    },
    {
      "cell_type": "code",
      "execution_count": null,
      "metadata": {
        "id": "E0GR8kuR-RLL"
      },
      "outputs": [],
      "source": []
    },
    {
      "cell_type": "markdown",
      "source": [
        "#Assignment 5 Solutions\n",
        "1.What does an empty dictionary's code look like?\n",
        "\n",
        "Ans: An empty dictionary is often represented by two empty curly brackets\n",
        "d = {} or d = dict()\n",
        "\n",
        "2.what is the value of dictionary value with key 'foo' and the value 42 ?\n",
        "\n",
        "Ans: {'foo':42}\n",
        "\n",
        "3.What is the most significant distinction between a dictionary and a list?\n",
        "\n",
        "Ans: Dictionaries are represented by {} where as listed are represented by []\n",
        "The Items stored in a dictionary are Unordered , while the items in a list are ordered\n",
        "\n",
        "4.What happens if you try to access spam ['foo'] if spam is {'bar':100} ?\n",
        "\n",
        "Ans: we will get a keyError KeyError: 'foo'\n",
        "\n",
        "5.if a dictionary is stored in spam,what is the difference between the expressions 'cat' in spam and 'cat' in spam.keys() ?\n",
        "\n",
        "Ans: There is no difference . The operator checks whether a value exits as a key in the dictionary or not\n",
        "\n",
        "6.if a dictionary is stored in spam,what is the difference between the expressions 'cat' in spam and 'cat' in spam.values() ?\n",
        "\n",
        "Ans:'cat' in spam checks whether there is a 'cat' key in the dictionary, while 'cat' in spam.values() checks whether there is a value 'cat' for one of the keys in spam."
      ],
      "metadata": {
        "id": "L6tnyVwp-bh-"
      }
    },
    {
      "cell_type": "markdown",
      "source": [
        "7.what is a shortcut for the following code ?\n",
        "if 'color' not in spam: spam['color'] ='black'"
      ],
      "metadata": {
        "id": "U4owf3_T-0yo"
      }
    },
    {
      "cell_type": "markdown",
      "source": [
        " Ans. spam.setdefault('color','black')"
      ],
      "metadata": {
        "id": "D8ZhgFxr_BFv"
      }
    },
    {
      "cell_type": "markdown",
      "source": [
        "8.How do you 'pretty print' dictionary values using which modules and function ?\n",
        "\n",
        "Ans: we can pretty print a dictionary using three functions\n",
        "\n",
        "1.by using pprint() function of pprint module\n",
        "\n",
        "Note: pprint() function doesnot prettify nested dictionaries\n",
        "\n",
        "2.by using dumps() method of json module\n",
        "\n",
        "3.by using dumps() method of yaml module"
      ],
      "metadata": {
        "id": "tdfje5IP_HQR"
      }
    },
    {
      "cell_type": "code",
      "source": [
        "ndict = [\n",
        "  {'Name': 'John', 'Age': '23', 'Residence': {'Country':'USA', 'City': 'New York'}},\n",
        "  {'Name': 'Jose', 'Age': '44', 'Residence': {'Country':'Spain', 'City': 'Madrid'}},\n",
        "  {'Name': 'Anne', 'Age': '29', 'Residence': {'Country':'UK', 'City': 'England'}},\n",
        "  {'Name': 'Lee', 'Age': '35', 'Residence': {'Country':'Japan', 'City': 'Osaka'}}\n",
        "]\n",
        "\n",
        "print('Printing using print() function\\n',ndict)\n",
        "print('-'*70)\n",
        "import pprint\n",
        "print('Printing using pprint() funciton')\n",
        "pprint.pprint(ndict)\n",
        "print('-'*70)\n",
        "import json\n",
        "dump = json.dumps(ndict, indent=4)\n",
        "print('Printing using dumps() method\\n', dump)\n",
        "print('-'*70)\n",
        "import yaml\n",
        "dump = yaml.dump(ndict)\n",
        "print('Printing using dump() method\\n', dump)"
      ],
      "metadata": {
        "colab": {
          "base_uri": "https://localhost:8080/"
        },
        "id": "PVfznTSO-6Cm",
        "outputId": "7e9ceac2-562f-4d03-df6e-95769a341060"
      },
      "execution_count": 2,
      "outputs": [
        {
          "output_type": "stream",
          "name": "stdout",
          "text": [
            "Printing using print() function\n",
            " [{'Name': 'John', 'Age': '23', 'Residence': {'Country': 'USA', 'City': 'New York'}}, {'Name': 'Jose', 'Age': '44', 'Residence': {'Country': 'Spain', 'City': 'Madrid'}}, {'Name': 'Anne', 'Age': '29', 'Residence': {'Country': 'UK', 'City': 'England'}}, {'Name': 'Lee', 'Age': '35', 'Residence': {'Country': 'Japan', 'City': 'Osaka'}}]\n",
            "----------------------------------------------------------------------\n",
            "Printing using pprint() funciton\n",
            "[{'Age': '23',\n",
            "  'Name': 'John',\n",
            "  'Residence': {'City': 'New York', 'Country': 'USA'}},\n",
            " {'Age': '44',\n",
            "  'Name': 'Jose',\n",
            "  'Residence': {'City': 'Madrid', 'Country': 'Spain'}},\n",
            " {'Age': '29',\n",
            "  'Name': 'Anne',\n",
            "  'Residence': {'City': 'England', 'Country': 'UK'}},\n",
            " {'Age': '35',\n",
            "  'Name': 'Lee',\n",
            "  'Residence': {'City': 'Osaka', 'Country': 'Japan'}}]\n",
            "----------------------------------------------------------------------\n",
            "Printing using dumps() method\n",
            " [\n",
            "    {\n",
            "        \"Name\": \"John\",\n",
            "        \"Age\": \"23\",\n",
            "        \"Residence\": {\n",
            "            \"Country\": \"USA\",\n",
            "            \"City\": \"New York\"\n",
            "        }\n",
            "    },\n",
            "    {\n",
            "        \"Name\": \"Jose\",\n",
            "        \"Age\": \"44\",\n",
            "        \"Residence\": {\n",
            "            \"Country\": \"Spain\",\n",
            "            \"City\": \"Madrid\"\n",
            "        }\n",
            "    },\n",
            "    {\n",
            "        \"Name\": \"Anne\",\n",
            "        \"Age\": \"29\",\n",
            "        \"Residence\": {\n",
            "            \"Country\": \"UK\",\n",
            "            \"City\": \"England\"\n",
            "        }\n",
            "    },\n",
            "    {\n",
            "        \"Name\": \"Lee\",\n",
            "        \"Age\": \"35\",\n",
            "        \"Residence\": {\n",
            "            \"Country\": \"Japan\",\n",
            "            \"City\": \"Osaka\"\n",
            "        }\n",
            "    }\n",
            "]\n",
            "----------------------------------------------------------------------\n",
            "Printing using dump() method\n",
            " - Age: '23'\n",
            "  Name: John\n",
            "  Residence:\n",
            "    City: New York\n",
            "    Country: USA\n",
            "- Age: '44'\n",
            "  Name: Jose\n",
            "  Residence:\n",
            "    City: Madrid\n",
            "    Country: Spain\n",
            "- Age: '29'\n",
            "  Name: Anne\n",
            "  Residence:\n",
            "    City: England\n",
            "    Country: UK\n",
            "- Age: '35'\n",
            "  Name: Lee\n",
            "  Residence:\n",
            "    City: Osaka\n",
            "    Country: Japan\n",
            "\n"
          ]
        }
      ]
    },
    {
      "cell_type": "code",
      "source": [],
      "metadata": {
        "id": "-CsBNAvF_ZNF"
      },
      "execution_count": null,
      "outputs": []
    }
  ]
}