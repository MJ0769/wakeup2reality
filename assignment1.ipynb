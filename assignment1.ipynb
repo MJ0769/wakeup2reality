{
  "nbformat": 4,
  "nbformat_minor": 0,
  "metadata": {
    "colab": {
      "provenance": [],
      "collapsed_sections": []
    },
    "kernelspec": {
      "name": "python3",
      "display_name": "Python 3"
    },
    "language_info": {
      "name": "python"
    }
  },
  "cells": [
    {
      "cell_type": "markdown",
      "source": [
        "#Q.Find out all the types of error that we have encountered in our lecture and why? Also include the examples.\n",
        "#the errors we encountred during our lecture are as follows:\n",
        "   # 1.syntax error\n",
        "   # whenever we define the wrong syntax to code this eroor arises\n",
        "    #for eg. int A\n",
        "   # correct form- int(\"A\")\n",
        "   # when we run this code the eroor optput is syntax error as we wrote it in wrong syntax \n",
        "   # 2. value error\n",
        "   # this error arises when the valuse mismatch in the code\n",
        "   # for eg. A = float(input(\"Enter value of A: \"))\n",
        "#B = int(input(\"Enter value of B: \"))\n",
        "\n",
        "#print(f\"Sum of A and B is: {A+B}\")\n",
        "#Enter value of A: 10.2\n",
        "#Enter value of B: 10.2\n",
        "    #here the valuse are in float but the we have assigned float only in one cell i.e. A not in B\n",
        "   # 3. type error\n",
        "   # this error ariese when there is typing error in the code when we use wrong operators\n",
        "    #4. name error\n",
        "   # this error displays when the name is not defined in the code"
      ],
      "metadata": {
        "id": "kxzLIgI_sOZC"
      }
    },
    {
      "cell_type": "markdown",
      "source": [
        "# Q.2 Take input A and B and print their sum, mul, div, square of the nos."
      ],
      "metadata": {
        "id": "5Dlwv6LIs85a"
      }
    },
    {
      "cell_type": "code",
      "source": [
        "A = int(input(\"Enter value of A: \"))\n",
        "B = int(input(\"Enter value of B: \"))\n",
        "print(f\"Sum of A and B is: {A+B}\")\n",
        "print(f\"Sub of A and B is: {A-B}\")\n",
        "print(f\"multiplication of A and B is: {A*B}\")\n",
        "print(f\"division of A and B is: {A/B}\")\n",
        "print(f\"Square of A and B is: {A**2} {B**2}\")"
      ],
      "metadata": {
        "colab": {
          "base_uri": "https://localhost:8080/"
        },
        "id": "10WKpsVWs1mo",
        "outputId": "face58fb-e4cb-4952-f7a4-b5b1cbd7192c"
      },
      "execution_count": null,
      "outputs": [
        {
          "output_type": "stream",
          "name": "stdout",
          "text": [
            "Enter value of A: 38\n",
            "Enter value of B: 22\n",
            "Sum of A and B is: 60\n",
            "Sub of A and B is: 16\n",
            "multiplication of A and B is: 836\n",
            "division of A and B is: 1.7272727272727273\n",
            "Square of A and B is: 1444 484\n"
          ]
        }
      ]
    },
    {
      "cell_type": "code",
      "source": [],
      "metadata": {
        "id": "_2Z36O53tH3t"
      },
      "execution_count": null,
      "outputs": []
    },
    {
      "cell_type": "markdown",
      "source": [
        "Q.3 How many reserve keywords are there in python and why we should not use them as a variable name."
      ],
      "metadata": {
        "id": "GkpfqDnXvjoC"
      }
    },
    {
      "cell_type": "markdown",
      "source": [
        "#there are 33 reserved keywords in python whic are as follows:\n",
        "and,\n",
        "except,\n",
        "lambda,\n",
        "with,\n",
        "as,\n",
        "finally,\n",
        "nonlocal,\n",
        "while,\n",
        "assert,\n",
        "false,\n",
        "None,\n",
        "yield,\n",
        "break,\n",
        "for,\n",
        "not,\n",
        "\n",
        "class,\n",
        "from,\n",
        "or,\n",
        "\n",
        "continue,\n",
        "global,\n",
        "pass,\n",
        "\n",
        "def,\n",
        "if,\n",
        "raise,\n",
        "\n",
        "del,\n",
        "import,\n",
        "return,\n",
        "\n",
        "elif,\n",
        "in,\n",
        "True,\n",
        "\n",
        "else,\n",
        "is,\n",
        "try,\n",
        "we should not use them as variables as these keywords has their own preset commands which executes in code and if they are tampered with it will cause an error in the code "
      ],
      "metadata": {
        "id": "-ClWmNWlwIBz"
      }
    },
    {
      "cell_type": "code",
      "source": [],
      "metadata": {
        "id": "L2F-8qfOwdwn"
      },
      "execution_count": null,
      "outputs": []
    },
    {
      "cell_type": "markdown",
      "source": [
        "Q4. Create email ids with the user inputs. in the following format - lastname.firstname@gmail.com"
      ],
      "metadata": {
        "id": "aMltJqGNxKH1"
      }
    },
    {
      "cell_type": "code",
      "source": [
        "lastname, firstname = \"jamal\", \"mahin\""
      ],
      "metadata": {
        "id": "VMFHPqtQxOCk"
      },
      "execution_count": null,
      "outputs": []
    },
    {
      "cell_type": "code",
      "source": [
        "print(f\"{lastname}.{firstname}@gmail.com\")"
      ],
      "metadata": {
        "colab": {
          "base_uri": "https://localhost:8080/"
        },
        "id": "bDYPOokfx5mY",
        "outputId": "37e329f8-271e-4039-e524-75800c60f72e"
      },
      "execution_count": null,
      "outputs": [
        {
          "output_type": "stream",
          "name": "stdout",
          "text": [
            "jamal.mahin@gmail.com\n"
          ]
        }
      ]
    },
    {
      "cell_type": "code",
      "source": [],
      "metadata": {
        "id": "rDU2EYzryJz_"
      },
      "execution_count": null,
      "outputs": []
    },
    {
      "cell_type": "markdown",
      "source": [
        "Q5. Try to print the following lines -\n",
        "Hi I'm Sunny\n",
        "My address is 22\\3\n",
        " I earn 20$ daily"
      ],
      "metadata": {
        "id": "nwCKN9eNySgK"
      }
    },
    {
      "cell_type": "code",
      "source": [
        "name = input(\"name: \")\n",
        "address = (input(\"address: \"))\n",
        "earn = str(input(\"earn: \"))\n",
        "print(f\"hi i'm {name} my address is {address} i earn {earn} daily\")"
      ],
      "metadata": {
        "colab": {
          "base_uri": "https://localhost:8080/"
        },
        "id": "qZlBmAlLyVke",
        "outputId": "45f385c6-c59e-473d-d233-831c0946ef78"
      },
      "execution_count": null,
      "outputs": [
        {
          "output_type": "stream",
          "name": "stdout",
          "text": [
            "name: sunny\n",
            "address: 20\\3\n",
            "earn: 20$\n",
            "hi i'm sunny my address is 20\\3 i earn 20$ daily\n"
          ]
        }
      ]
    },
    {
      "cell_type": "code",
      "source": [],
      "metadata": {
        "id": "TgW0VBm3y0Sd"
      },
      "execution_count": null,
      "outputs": []
    },
    {
      "cell_type": "markdown",
      "source": [
        "Q6. Take user input (name, address, date of birth etc) to fill a form for your college and print their email IDs"
      ],
      "metadata": {
        "id": "oviaPXDi0gDT"
      }
    },
    {
      "cell_type": "code",
      "source": [
        "name = input(\"name: \")\n",
        "address = input(\"address: \")\n",
        "date_of_birth = int(input(\"date_of_birth\"))\n",
        "print(f\"\"\"\n",
        "my name is: {name}\n",
        "my address is: {address}\n",
        "date_of_birth: {date_of_birth}\"\"\")\n",
        "print(f\"{name}@ineuron.ai\")"
      ],
      "metadata": {
        "colab": {
          "base_uri": "https://localhost:8080/"
        },
        "id": "pangj6TE0ol0",
        "outputId": "78ad163a-8e9e-4b61-9f07-2c05149b8e4e"
      },
      "execution_count": null,
      "outputs": [
        {
          "output_type": "stream",
          "name": "stdout",
          "text": [
            "name: Mahin Jamal\n",
            "address: U.P.\n",
            "date_of_birth2000\n",
            "\n",
            "my name is: Mahin Jamal\n",
            "my address is: U.P.\n",
            "date_of_birth: 2000\n",
            "Mahin Jamal@ineuron.ai\n"
          ]
        }
      ]
    },
    {
      "cell_type": "code",
      "source": [],
      "metadata": {
        "id": "Ju9sHext2K6R"
      },
      "execution_count": null,
      "outputs": []
    },
    {
      "cell_type": "markdown",
      "source": [
        "Q7.Convert the following -\n",
        "\"22.4\" into integer\n",
        "\"22\" into complex no."
      ],
      "metadata": {
        "id": "i2j4DgI02Z25"
      }
    },
    {
      "cell_type": "code",
      "source": [
        "A = 22.4\n",
        "print(f\"data type before: {type(A)}, value of A: {A}\")\n",
        "A = int(A)\n",
        "print(f\"data type after: {type(A)}, value of A: {A}\")"
      ],
      "metadata": {
        "colab": {
          "base_uri": "https://localhost:8080/"
        },
        "id": "uF5pZ47H4azI",
        "outputId": "3b570ddf-d111-40b2-be98-da95c29aad28"
      },
      "execution_count": null,
      "outputs": [
        {
          "output_type": "stream",
          "name": "stdout",
          "text": [
            "data type before: <class 'float'>, value of A: 22.4\n",
            "data type after: <class 'int'>, value of A: 22\n"
          ]
        }
      ]
    },
    {
      "cell_type": "code",
      "source": [
        "B = 22\n",
        "print(f\"data type before: {type(B)}, value of B: {B} \")\n",
        "B = float(B)\n",
        "print(f\"data type after: {type(B)}, value of B: {B} \")"
      ],
      "metadata": {
        "colab": {
          "base_uri": "https://localhost:8080/"
        },
        "id": "H0RSrfnC5Swu",
        "outputId": "a4c2e8e2-a4e1-495c-a943-433c12bc0085"
      },
      "execution_count": null,
      "outputs": [
        {
          "output_type": "stream",
          "name": "stdout",
          "text": [
            "data type before: <class 'int'>, value of B: 22 \n",
            "data type after: <class 'float'>, value of B: 22.0 \n"
          ]
        }
      ]
    },
    {
      "cell_type": "code",
      "source": [],
      "metadata": {
        "id": "Ifhq3caq527C"
      },
      "execution_count": null,
      "outputs": []
    }
  ]
}