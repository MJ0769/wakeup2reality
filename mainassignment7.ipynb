{
  "nbformat": 4,
  "nbformat_minor": 0,
  "metadata": {
    "colab": {
      "provenance": [],
      "authorship_tag": "ABX9TyPkyhV7GfrIrjZ/yDTTmgg3",
      "include_colab_link": true
    },
    "kernelspec": {
      "name": "python3",
      "display_name": "Python 3"
    },
    "language_info": {
      "name": "python"
    }
  },
  "cells": [
    {
      "cell_type": "markdown",
      "metadata": {
        "id": "view-in-github",
        "colab_type": "text"
      },
      "source": [
        "<a href=\"https://colab.research.google.com/github/MJ0769/wakeup2reality/blob/main/mainassignment7.ipynb\" target=\"_parent\"><img src=\"https://colab.research.google.com/assets/colab-badge.svg\" alt=\"Open In Colab\"/></a>"
      ]
    },
    {
      "cell_type": "markdown",
      "source": [
        "#Assignment 7 Solutions\n",
        "1. What is the name of the feature responsible for generating Regex objects?\n",
        "Ans: re.compile() is the feature responsible for generation of Regex objects."
      ],
      "metadata": {
        "id": "cHnwcSzk0CqT"
      }
    },
    {
      "cell_type": "code",
      "source": [
        "import re\n",
        "x = re.compile(\"some_random_pattern\")\n",
        "type(x)\n",
        "print(x)"
      ],
      "metadata": {
        "colab": {
          "base_uri": "https://localhost:8080/"
        },
        "id": "BOdGk4Tv0G9L",
        "outputId": "80a3730f-d67f-4749-b89d-0946e0814100"
      },
      "execution_count": 1,
      "outputs": [
        {
          "output_type": "stream",
          "name": "stdout",
          "text": [
            "re.compile('some_random_pattern')\n"
          ]
        }
      ]
    },
    {
      "cell_type": "markdown",
      "source": [
        "2. Why do raw strings often appear in Regex objects?\n",
        "\n",
        "Ans: Regular expressions use the backslash character ('\\') to indicate special forms (Metacharacters) or to allow special characters (speical sequences) to be used without invoking their special meaning. This collides with Python’s usage of the same character for the same purpose in string literals. Hence, Raw strings are used (e.g. r\"\\n\") so that backslashes do not have to be escaped.\n",
        "\n",
        "3. What is the return value of the search() method?\n",
        "\n",
        "Ans: The return value of re.search(pattern,string) method is a match object if the pattern is observed in the string else it returns a None"
      ],
      "metadata": {
        "id": "egUQdio-0Mf9"
      }
    },
    {
      "cell_type": "code",
      "source": [
        "import re\n",
        "match = re.search('i','Ineuron Full Stack Data Science Program', flags=re.IGNORECASE)\n",
        "print('Output:',match)\n",
        "match = re.search('X','Ineuron Full Stack Data Science Program', flags=re.IGNORECASE)\n",
        "print('Output:',match)"
      ],
      "metadata": {
        "colab": {
          "base_uri": "https://localhost:8080/"
        },
        "id": "OjcAaJrC0JDR",
        "outputId": "5d76ab0e-d120-4e78-db7b-1d435b1950fb"
      },
      "execution_count": 2,
      "outputs": [
        {
          "output_type": "stream",
          "name": "stdout",
          "text": [
            "Output: <re.Match object; span=(0, 1), match='I'>\n",
            "Output: None\n"
          ]
        }
      ]
    },
    {
      "cell_type": "markdown",
      "source": [
        "4. From a Match item, how do you get the actual strings that match the pattern?\n",
        "\n",
        "Ans: For Matched items group() methods returns actual strings that match the pattern"
      ],
      "metadata": {
        "id": "3GqN_E9f0THq"
      }
    },
    {
      "cell_type": "code",
      "source": [
        "import re\n",
        "match = re.search('ineuron','Ineuron Full Stack Data Science Program', flags=re.IGNORECASE)\n",
        "print('Output:',match.group())"
      ],
      "metadata": {
        "colab": {
          "base_uri": "https://localhost:8080/"
        },
        "id": "bPAb2WP20QU5",
        "outputId": "ed0bc4a7-714e-4344-e4bc-6a89b9f6b357"
      },
      "execution_count": 3,
      "outputs": [
        {
          "output_type": "stream",
          "name": "stdout",
          "text": [
            "Output: Ineuron\n"
          ]
        }
      ]
    },
    {
      "cell_type": "markdown",
      "source": [
        "5. In the regex which created from the r'(\\d\\d\\d)-(\\d\\d\\d-\\d\\d\\d\\d)', what does group zero cover? Group 2? Group 1?\n",
        "\n",
        "Ans: In the Regex r'(\\d\\d\\d)-(\\d\\d\\d-\\d\\d\\d\\d)' the zero group covers the entire pattern match where as the first group cover (\\d\\d\\d) and the second group cover (\\d\\d\\d-\\d\\d\\d\\d)"
      ],
      "metadata": {
        "id": "taCQMDJ90bg5"
      }
    },
    {
      "cell_type": "code",
      "source": [
        "# Example Program\n",
        "import re\n",
        "phoneNumRegex = re.compile(r'(\\d\\d\\d)-(\\d\\d\\d-\\d\\d\\d\\d)')\n",
        "mo = phoneNumRegex.search('My number is 415-555-4242.')\n",
        "print(mo.groups()) # Prints all groups in a tuple format\n",
        "print(mo.group()) # Always returns the fully matched string \n",
        "print(mo.group(1)) # Returns the first group\n",
        "print(mo.group(2)) # Returns the second group"
      ],
      "metadata": {
        "colab": {
          "base_uri": "https://localhost:8080/"
        },
        "id": "tn0dID5f0WUM",
        "outputId": "9d69ef83-04a2-4e99-9021-53cdf1039294"
      },
      "execution_count": 4,
      "outputs": [
        {
          "output_type": "stream",
          "name": "stdout",
          "text": [
            "('415', '555-4242')\n",
            "415-555-4242\n",
            "415\n",
            "555-4242\n"
          ]
        }
      ]
    },
    {
      "cell_type": "markdown",
      "source": [
        "6. In standard expression syntax, parentheses and intervals have distinct meanings. How can you tell a regex that you want it to fit real parentheses and periods?\n",
        "\n",
        "Ans: The \\. \\( and \\) escape characters in the raw string passed to re.compile() will match actual parenthesis characters."
      ],
      "metadata": {
        "id": "g7YHaGLt0jVu"
      }
    },
    {
      "cell_type": "code",
      "source": [
        "# Example Program\n",
        "import re\n",
        "phoneNumRegex = re.compile(r'(\\(\\d\\d\\d\\)) (\\d\\d\\d-\\d\\d\\d\\d)')\n",
        "mo = phoneNumRegex.search('My phone number is (415) 555-4242.')\n",
        "print(mo.group())"
      ],
      "metadata": {
        "colab": {
          "base_uri": "https://localhost:8080/"
        },
        "id": "5zwEKHlX0fkS",
        "outputId": "5c39bb2e-1606-4044-8a96-c42668fcb2d7"
      },
      "execution_count": 5,
      "outputs": [
        {
          "output_type": "stream",
          "name": "stdout",
          "text": [
            "(415) 555-4242\n"
          ]
        }
      ]
    },
    {
      "cell_type": "markdown",
      "source": [
        "7. The findall() method returns a string list or a list of string tuples. What causes it to return one of the two options?\n",
        "\n",
        "Ans: If the regex pattern has no groups, a list of strings matched is returned. if the regex pattern has groups, a list of tuple of strings is returned."
      ],
      "metadata": {
        "id": "jM2o05i30p3x"
      }
    },
    {
      "cell_type": "code",
      "source": [
        "# Example Program\n",
        "import re\n",
        "phoneNumRegex = re.compile(r'(\\(\\d\\d\\d\\)) (\\d\\d\\d-\\d\\d\\d\\d)')\n",
        "mo = phoneNumRegex.findall('My phone number is (415) 555-4242.')\n",
        "print(mo)\n",
        "\n",
        "# Example Program\n",
        "import re\n",
        "phoneNumRegex = re.compile(r'\\d{3}-\\d{3}-\\d{4}')\n",
        "mo = phoneNumRegex.findall('My number is 415-555-4242.')\n",
        "print(mo) # Prints all groups in a tuple format"
      ],
      "metadata": {
        "colab": {
          "base_uri": "https://localhost:8080/"
        },
        "id": "5bhAm3F10nZD",
        "outputId": "e1475617-ad25-4b39-c51c-b4cda7d6d326"
      },
      "execution_count": 6,
      "outputs": [
        {
          "output_type": "stream",
          "name": "stdout",
          "text": [
            "[('(415)', '555-4242')]\n",
            "['415-555-4242']\n"
          ]
        }
      ]
    },
    {
      "cell_type": "markdown",
      "source": [
        "8. In standard expressions, what does the | character mean?\n",
        "\n",
        "Ans: In Standard Expressions | means OR operator.\n",
        "\n",
        "9. In regular expressions, what does the ? character stand for?\n",
        "\n",
        "Ans: In regular Expressions, ? characters represents zero or one match of the preceeding group."
      ],
      "metadata": {
        "id": "PR68Cxiv0xxf"
      }
    },
    {
      "cell_type": "code",
      "source": [
        "# Example Program\n",
        "import re\n",
        "match_1 = re.search(\"Bat(wo)?man\",\"Batman returns\")\n",
        "print(match_1)\n",
        "match_2 = re.search(\"Bat(wo)?man\",\"Batwoman returns\")\n",
        "print(match_2)"
      ],
      "metadata": {
        "colab": {
          "base_uri": "https://localhost:8080/"
        },
        "id": "Y5sG4fvp0tkM",
        "outputId": "181d69db-ea5e-4096-ce38-400a61440adc"
      },
      "execution_count": 7,
      "outputs": [
        {
          "output_type": "stream",
          "name": "stdout",
          "text": [
            "<re.Match object; span=(0, 6), match='Batman'>\n",
            "<re.Match object; span=(0, 8), match='Batwoman'>\n"
          ]
        }
      ]
    },
    {
      "cell_type": "markdown",
      "source": [
        "10.In regular expressions, what is the difference between the + and * characters?\n",
        "\n",
        "Ans: In Regular Expressions, * Represents Zero ore more occurances of the preceeding group, whereas + represents one or more occurances of the preceeding group."
      ],
      "metadata": {
        "id": "PTOZ1yoT06I5"
      }
    },
    {
      "cell_type": "code",
      "source": [
        "import re\n",
        "match_1 = re.search(\"Bat(wo)*man\",\"Batman returns\")\n",
        "print(match_1)\n",
        "match_2 = re.search(\"Bat(wo)+man\",\"Batman returns\")\n",
        "print(match_2)"
      ],
      "metadata": {
        "colab": {
          "base_uri": "https://localhost:8080/"
        },
        "id": "O1cHJBXL03hR",
        "outputId": "055150cf-ec4a-4051-90c9-6d3ac654a423"
      },
      "execution_count": 8,
      "outputs": [
        {
          "output_type": "stream",
          "name": "stdout",
          "text": [
            "<re.Match object; span=(0, 6), match='Batman'>\n",
            "None\n"
          ]
        }
      ]
    },
    {
      "cell_type": "markdown",
      "source": [
        "11. What is the difference between {4} and {4,5} in regular expression?\n",
        "Ans: {4} means that its preceeding group should repeat 4 times. where as {4,5} means that its preceeding group should repeat mininum 4 times and maximum 5 times inclusively"
      ],
      "metadata": {
        "id": "kB6GOX8Y0-KC"
      }
    },
    {
      "cell_type": "code",
      "source": [
        "import re\n",
        "haRegex = re.compile(r'(Ha){3}')\n",
        "mo1 = haRegex.search('HaHaHa')\n",
        "mo2 = haRegex.search('Ha')\n",
        "print(mo1.group())\n",
        "print(mo2)"
      ],
      "metadata": {
        "colab": {
          "base_uri": "https://localhost:8080/"
        },
        "id": "HQi1X81F09Se",
        "outputId": "faea199d-0f36-4a9e-fc21-319e177e33c7"
      },
      "execution_count": 9,
      "outputs": [
        {
          "output_type": "stream",
          "name": "stdout",
          "text": [
            "HaHaHa\n",
            "None\n"
          ]
        }
      ]
    },
    {
      "cell_type": "markdown",
      "source": [
        "12. What do you mean by the \\d, \\w, and \\s shorthand character classes signify in regular expressions?\n",
        "\n",
        "Ans: \\d, \\w and \\s are special sequences in regular expresssions in python:\n",
        "\n",
        "\\w – Matches a word character equivalent to [a-zA-Z0-9_]\n",
        "\\d – Matches digit character equivalent to [0-9]\n",
        "\\s – Matches whitespace character (space, tab, newline, etc.)\n",
        "\n",
        "13. What do means by \\D, \\W, and \\S shorthand character classes signify in regular expressions?\n",
        "\n",
        "Ans: \\D, \\W and \\S are special sequences in regular expresssions in python:\n",
        "\n",
        "\\W – Matches any non-alphanumeric character equivalent to [^a-zA-Z0-9_]\n",
        "\\D – Matches any non-digit character, this is equivalent to the set class [^0-9]\n",
        "\\S – Matches any non-whitespace character\n",
        "\n",
        "14. What is the difference between .*? and .*?\n",
        "\n",
        "Ans: .* is a Greedy mode, which returns the longest string that meets the condition. Whereas .*? is a non greedy mode which returns the shortest string that meets the condition.\n",
        "\n",
        "15. What is the syntax for matching both numbers and lowercase letters with a character class?\n",
        "\n",
        "Ans: The Synatax is Either [a-z0-9] or [0-9a-z]\n",
        "\n",
        "16. What is the procedure for making a normal expression in regax case insensitive?\n",
        "\n",
        "Ans: We can pass re.IGNORECASE as a flag to make a noraml expression case insensitive\n",
        "\n",
        "17. What does the . character normally match? What does it match if re.DOTALL is passed as 2nd argument in re.compile()?\n",
        "\n",
        "Ans: Dot . character matches everything in input except newline character .. By passing re.DOTALL as a flag to re.compile(), you can make the dot character match all characters, including the newline character.\n",
        "\n",
        "18. If numReg = re.compile(r'\\d+'), what will numRegex.sub('X', '11 drummers, 10 pipers, five rings, 4 hen') return?\n",
        "\n",
        "Ans: The Ouput will be 'X drummers, X pipers, five rings, X hen'"
      ],
      "metadata": {
        "id": "7AUACs5C1IeR"
      }
    },
    {
      "cell_type": "code",
      "source": [
        "import re\n",
        "numReg = re.compile(r'\\d+')\n",
        "numReg.sub('X', '11 drummers, 10 pipers, five rings, 4 hen')"
      ],
      "metadata": {
        "colab": {
          "base_uri": "https://localhost:8080/",
          "height": 35
        },
        "id": "wd-z2JA61EdF",
        "outputId": "ad0de8f9-3d51-4b51-f174-97828487c25a"
      },
      "execution_count": 10,
      "outputs": [
        {
          "output_type": "execute_result",
          "data": {
            "text/plain": [
              "'X drummers, X pipers, five rings, X hen'"
            ],
            "application/vnd.google.colaboratory.intrinsic+json": {
              "type": "string"
            }
          },
          "metadata": {},
          "execution_count": 10
        }
      ]
    },
    {
      "cell_type": "markdown",
      "source": [
        "19. What does passing re.VERBOSE as the 2nd argument to re.compile() allow to do?\n",
        "\n",
        "Ans: re.VERBOSE will allow to add whitespace and comments to string passed to re.compile()."
      ],
      "metadata": {
        "id": "2TcT8BA71W95"
      }
    },
    {
      "cell_type": "code",
      "source": [
        "# Without Using VERBOSE\n",
        "regex_email = re.compile(r'^([a-z0-9_\\.-]+)@([0-9a-z\\.-]+)\\.([a-z\\.]{2, 6})$', re.IGNORECASE)\n",
        " \n",
        "# Using VERBOSE\n",
        "regex_email = re.compile(r\"\"\"\n",
        "                            ^([a-z0-9_\\.-]+)              # local Part like username\n",
        "                            @                             # single @ sign \n",
        "                            ([0-9a-z\\.-]+)                # Domain name like google\n",
        "                            \\.                            # single Dot .\n",
        "                            ([a-z]{2,6})$                 # Top level Domain  like com/in/org\n",
        "                         \"\"\",re.VERBOSE | re.IGNORECASE)   "
      ],
      "metadata": {
        "id": "q07EDND-1UEX"
      },
      "execution_count": 11,
      "outputs": []
    },
    {
      "cell_type": "markdown",
      "source": [
        "20. How would you write a regex that match a number with comma for every three digits? It must match the given following:\n",
        "\n",
        "'42','1,234', '6,368,745'but not the following: '12,34,567' (which has only two digits between the commas) '1234' (which lacks commas)"
      ],
      "metadata": {
        "id": "W8vxy5US1emt"
      }
    },
    {
      "cell_type": "code",
      "source": [
        "import re\n",
        "pattern = r'^\\d{1,3}(,\\d{3})*$'\n",
        "pagex = re.compile(pattern)\n",
        "for ele in ['42','1,234', '6,368,745','12,34,567','1234']:\n",
        "    print('Output:',ele, '->', pagex.search(ele))"
      ],
      "metadata": {
        "colab": {
          "base_uri": "https://localhost:8080/"
        },
        "id": "jCkPEE3o1aqu",
        "outputId": "72a31a9e-a5c7-4ca8-ba06-fa1a0e28e214"
      },
      "execution_count": 12,
      "outputs": [
        {
          "output_type": "stream",
          "name": "stdout",
          "text": [
            "Output: 42 -> <re.Match object; span=(0, 2), match='42'>\n",
            "Output: 1,234 -> <re.Match object; span=(0, 5), match='1,234'>\n",
            "Output: 6,368,745 -> <re.Match object; span=(0, 9), match='6,368,745'>\n",
            "Output: 12,34,567 -> None\n",
            "Output: 1234 -> None\n"
          ]
        }
      ]
    },
    {
      "cell_type": "markdown",
      "source": [
        "21. How would you write a regex that matches the full name of someone whose last name is Watanabe? You can assume that the first name that comes before it will always be one word that begins with a capital letter. The regex must match the following:\n",
        "\n",
        "'Haruto Watanabe'\n",
        "'Alice Watanabe'\n",
        "'RoboCop Watanabe'\n",
        "\n",
        "but not the following:\n",
        "\n",
        "'haruto Watanabe' (where the first name is not capitalized)\n",
        "'Mr. Watanabe' (where the preceding word has a nonletter character)\n",
        "'Watanabe' (which has no first name)\n",
        "'Haruto watanabe' (where Watanabe is not capitalized)"
      ],
      "metadata": {
        "id": "6aSK83J31o4Y"
      }
    },
    {
      "cell_type": "markdown",
      "source": [
        "Ans: pattern = r'[A-Z]{1}[a-z]*\\sWatanabe'"
      ],
      "metadata": {
        "id": "bs84-kRf1t7Z"
      }
    },
    {
      "cell_type": "code",
      "source": [
        "import re\n",
        "pattern = r'[A-Z]{1}[a-z]*\\sWatanabe'\n",
        "namex = re.compile(pattern)\n",
        "for name in ['Haruto Watanabe','Alice Watanabe','RoboCop Watanabe','haruto Watanabe','Mr. Watanabe','Watanabe','Haruto watanabe']:\n",
        "    print('Output: ',name,'->',namex.search(name))"
      ],
      "metadata": {
        "colab": {
          "base_uri": "https://localhost:8080/"
        },
        "id": "A6aayVBC1jYP",
        "outputId": "e0a339b8-e1d1-4d87-a653-580baf52fc39"
      },
      "execution_count": 13,
      "outputs": [
        {
          "output_type": "stream",
          "name": "stdout",
          "text": [
            "Output:  Haruto Watanabe -> <re.Match object; span=(0, 15), match='Haruto Watanabe'>\n",
            "Output:  Alice Watanabe -> <re.Match object; span=(0, 14), match='Alice Watanabe'>\n",
            "Output:  RoboCop Watanabe -> <re.Match object; span=(4, 16), match='Cop Watanabe'>\n",
            "Output:  haruto Watanabe -> None\n",
            "Output:  Mr. Watanabe -> None\n",
            "Output:  Watanabe -> None\n",
            "Output:  Haruto watanabe -> None\n"
          ]
        }
      ]
    },
    {
      "cell_type": "markdown",
      "source": [
        "22. How would you write a regex that matches a sentence where the first word is either Alice, Bob,or Carol; the second word is either eats, pets, or throws; the third word is apples, cats, or baseballs; and the sentence ends with a period? This regex should be case-insensitive. It must match the following:\n",
        "\n",
        "'Alice eats apples.'\n",
        "'Bob pets cats.'\n",
        "'Carol throws baseballs.'\n",
        "'Alice throws Apples.'\n",
        "'BOB EATS CATS.'\n",
        "\n",
        "but not the following:\n",
        "\n",
        "'RoboCop eats apples.'\n",
        "'ALICE THROWS FOOTBALLS.'\n",
        "'Carol eats 7 cats.'\n",
        "\n",
        "Ans: pattern = r'(Alice|Bob|Carol)\\s(eats|pets|throws)\\s(apples|cats|baseballs)\\.'"
      ],
      "metadata": {
        "id": "In3gaAHG108P"
      }
    },
    {
      "cell_type": "code",
      "source": [
        "import re\n",
        "pattern = r'(Alice|Bob|Carol)\\s(eats|pets|throws)\\s(apples|cats|baseballs)\\.'\n",
        "casex = re.compile(pattern,re.IGNORECASE)\n",
        "for ele in ['Alice eats apples.','Bob pets cats.','Carol throws baseballs.','Alice throws Apples.','BOB EATS CATS.','RoboCop eats apples.'\n",
        ",'ALICE THROWS FOOTBALLS.','Carol eats 7 cats.']:\n",
        "    print('Output: ',ele,'->',casex.search(ele))"
      ],
      "metadata": {
        "colab": {
          "base_uri": "https://localhost:8080/"
        },
        "id": "EXG6tZMO1xXz",
        "outputId": "c46f1b28-902a-474c-c6b0-08edb4a00d50"
      },
      "execution_count": 14,
      "outputs": [
        {
          "output_type": "stream",
          "name": "stdout",
          "text": [
            "Output:  Alice eats apples. -> <re.Match object; span=(0, 18), match='Alice eats apples.'>\n",
            "Output:  Bob pets cats. -> <re.Match object; span=(0, 14), match='Bob pets cats.'>\n",
            "Output:  Carol throws baseballs. -> <re.Match object; span=(0, 23), match='Carol throws baseballs.'>\n",
            "Output:  Alice throws Apples. -> <re.Match object; span=(0, 20), match='Alice throws Apples.'>\n",
            "Output:  BOB EATS CATS. -> <re.Match object; span=(0, 14), match='BOB EATS CATS.'>\n",
            "Output:  RoboCop eats apples. -> None\n",
            "Output:  ALICE THROWS FOOTBALLS. -> None\n",
            "Output:  Carol eats 7 cats. -> None\n"
          ]
        }
      ]
    },
    {
      "cell_type": "code",
      "source": [],
      "metadata": {
        "id": "Urc_ebWU16o8"
      },
      "execution_count": null,
      "outputs": []
    }
  ]
}