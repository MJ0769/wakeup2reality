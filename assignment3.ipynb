{
  "nbformat": 4,
  "nbformat_minor": 0,
  "metadata": {
    "colab": {
      "provenance": []
    },
    "kernelspec": {
      "name": "python3",
      "display_name": "Python 3"
    },
    "language_info": {
      "name": "python"
    }
  },
  "cells": [
    {
      "cell_type": "markdown",
      "source": [
        "#1. Count the number of times iNeuron appears in the string."
      ],
      "metadata": {
        "id": "H4P2ajy145Tv"
      }
    },
    {
      "cell_type": "code",
      "execution_count": 3,
      "metadata": {
        "id": "W1eI8whW4WYG"
      },
      "outputs": [],
      "source": [
        "text = \"Welcome to iNeuron, You are a part of FSDS Bootcamp 2 in iNeuron. I hope you are enjoying the course by iNeuron\"\n",
        "text = text.count(\"iNeuron\")"
      ]
    },
    {
      "cell_type": "code",
      "source": [
        "text"
      ],
      "metadata": {
        "colab": {
          "base_uri": "https://localhost:8080/"
        },
        "id": "fBsW49Mv4s91",
        "outputId": "0b5901b3-4852-42d1-a233-e43ced8c1fe3"
      },
      "execution_count": 5,
      "outputs": [
        {
          "output_type": "execute_result",
          "data": {
            "text/plain": [
              "3"
            ]
          },
          "metadata": {},
          "execution_count": 5
        }
      ]
    },
    {
      "cell_type": "markdown",
      "source": [
        "#2.Check if position 5 to 11 ends with the phrase iNeuron. in the string"
      ],
      "metadata": {
        "id": "WcyorjMz5HyH"
      }
    },
    {
      "cell_type": "code",
      "source": [
        "txt = \"Hello, welcome to FSDS 2.0 at iNeuron.\"\n",
        "#      1234567891011\n",
        "txt[5:11]"
      ],
      "metadata": {
        "colab": {
          "base_uri": "https://localhost:8080/",
          "height": 35
        },
        "id": "9M35NaJL42wu",
        "outputId": "9ea60813-7a9c-4070-fbf6-b05acd2bd6bf"
      },
      "execution_count": 6,
      "outputs": [
        {
          "output_type": "execute_result",
          "data": {
            "text/plain": [
              "', welc'"
            ],
            "application/vnd.google.colaboratory.intrinsic+json": {
              "type": "string"
            }
          },
          "metadata": {},
          "execution_count": 6
        }
      ]
    },
    {
      "cell_type": "markdown",
      "source": [
        "#no it doesnt end with iNeuron"
      ],
      "metadata": {
        "id": "TL--T7wl51pJ"
      }
    },
    {
      "cell_type": "markdown",
      "source": [
        "#3. Write a program that takes your full name as input and displays the abbreviations of the first and middle names except the last name which is displayed as it is. For example, if your name is Sunny Bhaveen Chandra, then the output should be S.B.Chandra."
      ],
      "metadata": {
        "id": "niMcdMoX6Hdq"
      }
    },
    {
      "cell_type": "code",
      "source": [
        "str=input(\"Enter a your full name:\")\n",
        "list1 = str.split(\" \")\n",
        "print(list1[0][0],list1[1][0],list1[2])"
      ],
      "metadata": {
        "colab": {
          "base_uri": "https://localhost:8080/"
        },
        "id": "AfNwdbYk5fB8",
        "outputId": "68127a0a-821a-476d-f944-80bc069fa296"
      },
      "execution_count": 22,
      "outputs": [
        {
          "output_type": "stream",
          "name": "stdout",
          "text": [
            "Enter a your full name:Sunnhy Bhaveen Chandra\n",
            "S B Chandra\n"
          ]
        }
      ]
    },
    {
      "cell_type": "markdown",
      "source": [
        "#4.Join all items in a list into a string, using a hash(#) character as separator:"
      ],
      "metadata": {
        "id": "HanphkRNMDK5"
      }
    },
    {
      "cell_type": "code",
      "source": [
        "LIST = [\"My\", \"name\", \"is\", \"Rishav\", \"Dash\"]\n",
        "\"#\".join(LIST)"
      ],
      "metadata": {
        "colab": {
          "base_uri": "https://localhost:8080/",
          "height": 35
        },
        "id": "fDb3Kz2BABZ_",
        "outputId": "e7020540-9e1b-4759-a22e-e32fb3f8741e"
      },
      "execution_count": 23,
      "outputs": [
        {
          "output_type": "execute_result",
          "data": {
            "text/plain": [
              "'My#name#is#Rishav#Dash'"
            ],
            "application/vnd.google.colaboratory.intrinsic+json": {
              "type": "string"
            }
          },
          "metadata": {},
          "execution_count": 23
        }
      ]
    },
    {
      "cell_type": "markdown",
      "source": [
        "#5.Write example for the following string manipulation function,"
      ],
      "metadata": {
        "id": "0LZGUBRuMi0f"
      }
    },
    {
      "cell_type": "code",
      "source": [
        "s = \"12345\"\n",
        "print(s.isdecimal())"
      ],
      "metadata": {
        "colab": {
          "base_uri": "https://localhost:8080/"
        },
        "id": "pWoGRad4MX_L",
        "outputId": "094227e6-6f29-4c50-d653-e65fdd508ed9"
      },
      "execution_count": 33,
      "outputs": [
        {
          "output_type": "stream",
          "name": "stdout",
          "text": [
            "True\n"
          ]
        }
      ]
    },
    {
      "cell_type": "code",
      "source": [
        "a = \"lower\" \n",
        "a.islower()"
      ],
      "metadata": {
        "colab": {
          "base_uri": "https://localhost:8080/"
        },
        "id": "X8-G3jAxM_ax",
        "outputId": "e635fa4e-a08d-46f9-eaba-9f7a8295bb59"
      },
      "execution_count": 36,
      "outputs": [
        {
          "output_type": "execute_result",
          "data": {
            "text/plain": [
              "True"
            ]
          },
          "metadata": {},
          "execution_count": 36
        }
      ]
    },
    {
      "cell_type": "code",
      "source": [
        "b = \"BOB\"\n",
        "b.isupper()"
      ],
      "metadata": {
        "colab": {
          "base_uri": "https://localhost:8080/"
        },
        "id": "qPb8M9BiOedZ",
        "outputId": "6bcc05bd-556b-4a45-8f2e-fd5294360192"
      },
      "execution_count": 39,
      "outputs": [
        {
          "output_type": "execute_result",
          "data": {
            "text/plain": [
              "True"
            ]
          },
          "metadata": {},
          "execution_count": 39
        }
      ]
    },
    {
      "cell_type": "code",
      "source": [
        "a.isalpha()"
      ],
      "metadata": {
        "colab": {
          "base_uri": "https://localhost:8080/"
        },
        "id": "XPsmQ8RkOvFp",
        "outputId": "70cf1758-517b-4d15-ccf6-c7fe20c869b8"
      },
      "execution_count": 40,
      "outputs": [
        {
          "output_type": "execute_result",
          "data": {
            "text/plain": [
              "True"
            ]
          },
          "metadata": {},
          "execution_count": 40
        }
      ]
    },
    {
      "cell_type": "code",
      "source": [
        "s.isnumeric()"
      ],
      "metadata": {
        "colab": {
          "base_uri": "https://localhost:8080/"
        },
        "id": "XX72O3zkO6qz",
        "outputId": "82d9ae3d-fc6f-40e6-b901-3d85ebcf47c6"
      },
      "execution_count": 42,
      "outputs": [
        {
          "output_type": "execute_result",
          "data": {
            "text/plain": [
              "True"
            ]
          },
          "metadata": {},
          "execution_count": 42
        }
      ]
    },
    {
      "cell_type": "markdown",
      "source": [
        "#6.Indian PAN card format follows the following formats -\n",
        "\n",
        "AYEPC7894X\n",
        "ABCDE9999Y Take user input for PAN_CARD and validate as per the above example."
      ],
      "metadata": {
        "id": "roLOwBOgPFSx"
      }
    },
    {
      "cell_type": "code",
      "source": [
        "pan_number = input(\"enert your pan number: \")\n",
        "if pan_number.isalnum and len(pan_number)==10:\n",
        "  print(f\"user input is correct\")\n",
        "else:\n",
        "  print(\"enter correct pan number\")"
      ],
      "metadata": {
        "colab": {
          "base_uri": "https://localhost:8080/"
        },
        "id": "PKgcVKYdO-nk",
        "outputId": "71a130d4-fd3c-47b9-d173-2b96397e34a2"
      },
      "execution_count": 46,
      "outputs": [
        {
          "output_type": "stream",
          "name": "stdout",
          "text": [
            "enert your pan number: ABCDE9999Y\n",
            "user input is correct\n"
          ]
        }
      ]
    },
    {
      "cell_type": "code",
      "source": [],
      "metadata": {
        "id": "nuR0p6U4QK3S"
      },
      "execution_count": 46,
      "outputs": []
    }
  ]
}