{
  "nbformat": 4,
  "nbformat_minor": 0,
  "metadata": {
    "colab": {
      "provenance": []
    },
    "kernelspec": {
      "name": "python3",
      "display_name": "Python 3"
    },
    "language_info": {
      "name": "python"
    }
  },
  "cells": [
    {
      "cell_type": "markdown",
      "source": [
        "#1. Find the largest number from the given list, use for loop."
      ],
      "metadata": {
        "id": "8zrhf8HKR4c5"
      }
    },
    {
      "cell_type": "code",
      "execution_count": 4,
      "metadata": {
        "colab": {
          "base_uri": "https://localhost:8080/"
        },
        "id": "jsOh3yDrR0K7",
        "outputId": "e34a9d95-b609-473e-a795-159204514edf"
      },
      "outputs": [
        {
          "output_type": "stream",
          "name": "stdout",
          "text": [
            "525\n"
          ]
        }
      ],
      "source": [
        "numbers = [12, 75, 150, 180, 145, 525, 50]\n",
        "largest_number = numbers[0]\n",
        "for number in numbers:\n",
        "  if number > largest_number:\n",
        "\n",
        "    largest_number = number\n",
        "print(largest_number)\n"
      ]
    },
    {
      "cell_type": "markdown",
      "source": [
        "#Q2. Print all the even number between (1, 12)."
      ],
      "metadata": {
        "id": "IzEgO58iVaI8"
      }
    },
    {
      "cell_type": "code",
      "source": [
        "for i in range(1, 13):\n",
        "  if i%2!=0:\n",
        "    continue\n",
        "  print(i)"
      ],
      "metadata": {
        "colab": {
          "base_uri": "https://localhost:8080/"
        },
        "id": "Unz82yEHT8Cp",
        "outputId": "3bad87da-d670-4bf5-fcec-0a8e4e89b8ae"
      },
      "execution_count": 25,
      "outputs": [
        {
          "output_type": "stream",
          "name": "stdout",
          "text": [
            "2\n",
            "4\n",
            "6\n",
            "8\n",
            "10\n",
            "12\n"
          ]
        }
      ]
    },
    {
      "cell_type": "code",
      "source": [
        "for i in range(1, 12):\n",
        "  if i%2!=0: \n",
        "    continue\n",
        "  print(i)"
      ],
      "metadata": {
        "colab": {
          "base_uri": "https://localhost:8080/"
        },
        "id": "R4q8pKQcV8Sw",
        "outputId": "51b10bb7-5fb7-4d03-c33a-d0bb9e63c9fe"
      },
      "execution_count": 26,
      "outputs": [
        {
          "output_type": "stream",
          "name": "stdout",
          "text": [
            "2\n",
            "4\n",
            "6\n",
            "8\n",
            "10\n"
          ]
        }
      ]
    },
    {
      "cell_type": "markdown",
      "source": [
        "#3. Calculate the sum of all numbers from 1 to a given number"
      ],
      "metadata": {
        "id": "YrmCY1xGXfPh"
      }
    },
    {
      "cell_type": "code",
      "source": [
        "number = int(input(\"Number: \"))\n",
        "sum = 0\n",
        "for i in range(1, number + 1):\n",
        "    sum += i\n",
        "print(sum)"
      ],
      "metadata": {
        "colab": {
          "base_uri": "https://localhost:8080/"
        },
        "id": "TDIX148UY25J",
        "outputId": "9c5830d5-3b7c-4df8-a32c-719633e78743"
      },
      "execution_count": 30,
      "outputs": [
        {
          "output_type": "stream",
          "name": "stdout",
          "text": [
            "Number: 10\n",
            "55\n"
          ]
        }
      ]
    },
    {
      "cell_type": "markdown",
      "source": [
        "Q4. Write a program to display only those numbers from a list that satisfy the following conditions\n",
        "\n",
        "The number must be divisible by five\n",
        "\n",
        "If the number is greater than 150, then skip it and move to the next number\n",
        "\n",
        "If the number is greater than 500, then stop the loop\n"
      ],
      "metadata": {
        "id": "DnvKf2iPZNLt"
      }
    },
    {
      "cell_type": "code",
      "source": [
        "num  = [12, 75, 150, 180, 145, 525, 50]\n",
        "\n",
        "for i in num:\n",
        "    if i>150:\n",
        "        if i>500:\n",
        "            break\n",
        "        continue\n",
        "    if i%5 == 0:\n",
        "      print(f\"the numbers are divisible by 5 are: {i}\")"
      ],
      "metadata": {
        "colab": {
          "base_uri": "https://localhost:8080/"
        },
        "id": "lTzcQ8k9Y3sO",
        "outputId": "001ee3f6-e53d-4f7b-e38e-ac35331aecb5"
      },
      "execution_count": 70,
      "outputs": [
        {
          "output_type": "stream",
          "name": "stdout",
          "text": [
            "the numbers are divisible by 5 are: 75\n",
            "the numbers are divisible by 5 are: 150\n",
            "the numbers are divisible by 5 are: 145\n"
          ]
        }
      ]
    },
    {
      "cell_type": "markdown",
      "source": [
        "#5. Print the given list in reverse order.\n",
        "\n",
        "list1 = [10, 20, 30, 40, 50]"
      ],
      "metadata": {
        "id": "Wgr6V4mKiqoc"
      }
    },
    {
      "cell_type": "code",
      "source": [
        "list1 = [10, 20, 30, 40, 50]\n",
        "list1.reverse()\n",
        "print(list1)"
      ],
      "metadata": {
        "colab": {
          "base_uri": "https://localhost:8080/"
        },
        "id": "qfIiVOreitgi",
        "outputId": "f3a57ef1-1fee-468b-eb6a-be2006fe146d"
      },
      "execution_count": 75,
      "outputs": [
        {
          "output_type": "stream",
          "name": "stdout",
          "text": [
            "[50, 40, 30, 20, 10]\n"
          ]
        }
      ]
    }
  ]
}